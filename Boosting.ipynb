{
 "cells": [
  {
   "cell_type": "markdown",
   "metadata": {},
   "source": [
    "# *BASECODE 작성*\n",
    "\n",
    "* 가상환경 activate 후 lightgbm 설치\n",
    "* conda install -c conda-forge lightgbm"
   ]
  },
  {
   "cell_type": "code",
   "execution_count": 2,
   "metadata": {},
   "outputs": [],
   "source": [
    "import warnings\n",
    "warnings.filterwarnings('ignore')\n",
    "import glob\n",
    "import pandas as pd\n",
    "import numpy as np\n",
    "from lightgbm import LGBMClassifier\n",
    "from sklearn.model_selection import StratifiedKFold\n",
    "from sklearn.preprocessing import OneHotEncoder\n",
    "from sklearn import preprocessing\n",
    "import random\n",
    "import seaborn as sns\n",
    "import matplotlib.pyplot as plt\n",
    "plt.style.use('seaborn')\n",
    "from sklearn.model_selection import train_test_split\n",
    "from sklearn import preprocessing\n",
    "from sklearn.metrics import log_loss"
   ]
  },
  {
   "cell_type": "markdown",
   "metadata": {},
   "source": [
    "## 0. **데이터 로드**\n",
    "* 훈련에 필요없는 index 컬럼 삭제\n",
    "#### 변수\n",
    "* train : `train.csv`\n",
    "* test : `test.csv`"
   ]
  },
  {
   "cell_type": "code",
   "execution_count": 3,
   "metadata": {},
   "outputs": [],
   "source": [
    "# 데이터 불러오기\n",
    "train = pd.read_csv('./train.csv')\n",
    "train = train.drop(['index'], axis=1)\n",
    "\n",
    "test = pd.read_csv('./test.csv')\n",
    "test = test.drop(['index'], axis=1)\n",
    "\n",
    "submit = pd.read_csv('./sample_submission.csv')"
   ]
  },
  {
   "cell_type": "markdown",
   "metadata": {},
   "source": [
    "### 데이터 전처리\n",
    "http://www.dodomira.com/2016/10/20/how_to_eda/ \n",
    "\n",
    "링크 참고 "
   ]
  },
  {
   "cell_type": "markdown",
   "metadata": {},
   "source": [
    "## 1. **데이터 셋 확인**\n",
    "\n",
    "* 이전 EDA 코드 돌려봤기에 코드를 직접 합치지는 않았음"
   ]
  },
  {
   "cell_type": "code",
   "execution_count": null,
   "metadata": {},
   "outputs": [],
   "source": [
    "train.info()\n",
    "test.info()\n",
    "display(train.head())"
   ]
  },
  {
   "cell_type": "code",
   "execution_count": null,
   "metadata": {},
   "outputs": [],
   "source": [
    "# 각 유형 갯수 확인\n",
    "count_type = [0, 0, 0] # object, int64, float64\n",
    "for col in train.columns:\n",
    "    if train[col].dtype == 'object':\n",
    "        count_type[0] += 1\n",
    "    elif train[col].dtype == 'int64':\n",
    "        count_type[1] += 1\n",
    "    elif train[col].dtype == 'float64':\n",
    "        count_type[2] += 1\n",
    "display(count_type)"
   ]
  },
  {
   "cell_type": "markdown",
   "metadata": {},
   "source": [
    "#### object 8개, int64 7개 , float64 4개 있음.\n",
    "-------------------------"
   ]
  },
  {
   "cell_type": "markdown",
   "metadata": {},
   "source": [
    "## 2. **결측치 처리**\n",
    "* 결측치는 직업 유형에만 존재함 -> 'unfilled'로 대체함. \n",
    "* 향후 '직업 유형의 결측치를 어떻게 해결할 것 인가' 고민이 필요함."
   ]
  },
  {
   "cell_type": "code",
   "execution_count": null,
   "metadata": {},
   "outputs": [],
   "source": [
    "test['occyp_type'].count"
   ]
  },
  {
   "cell_type": "code",
   "execution_count": null,
   "metadata": {},
   "outputs": [],
   "source": [
    "test['occyp_type'].isnull().sum()"
   ]
  },
  {
   "cell_type": "code",
   "execution_count": null,
   "metadata": {},
   "outputs": [],
   "source": [
    "# 결측치 확인\n",
    "print('훈련데이터 결측치 합 \\n', train.isnull().sum())\n",
    "print('테스트데이터 결측치 합 \\n', test.isnull().sum())"
   ]
  },
  {
   "cell_type": "code",
   "execution_count": 5,
   "metadata": {},
   "outputs": [
    {
     "name": "stdout",
     "output_type": "stream",
     "text": [
      "\n",
      "훈련데이터 결측치 합 \n",
      " gender           0\n",
      "car              0\n",
      "reality          0\n",
      "child_num        0\n",
      "income_total     0\n",
      "income_type      0\n",
      "edu_type         0\n",
      "family_type      0\n",
      "house_type       0\n",
      "DAYS_BIRTH       0\n",
      "DAYS_EMPLOYED    0\n",
      "FLAG_MOBIL       0\n",
      "work_phone       0\n",
      "phone            0\n",
      "email            0\n",
      "occyp_type       0\n",
      "family_size      0\n",
      "begin_month      0\n",
      "credit           0\n",
      "dtype: int64\n",
      "테스트데이터 결측치 합 \n",
      " gender           0\n",
      "car              0\n",
      "reality          0\n",
      "child_num        0\n",
      "income_total     0\n",
      "income_type      0\n",
      "edu_type         0\n",
      "family_type      0\n",
      "house_type       0\n",
      "DAYS_BIRTH       0\n",
      "DAYS_EMPLOYED    0\n",
      "FLAG_MOBIL       0\n",
      "work_phone       0\n",
      "phone            0\n",
      "email            0\n",
      "occyp_type       0\n",
      "family_size      0\n",
      "begin_month      0\n",
      "dtype: int64\n"
     ]
    }
   ],
   "source": [
    "# 결측치 처리\n",
    "print()\n",
    "train['occyp_type'].fillna('unfilled', inplace=True) # 직업 유형 경우, 결측치가 많아서 따로 'unfilled' 라고 채움\n",
    "test['occyp_type'].fillna('unfilled', inplace=True)\n",
    "train.fillna('NAN', inplace=True) \n",
    "test.fillna('NAN', inplace=True)\n",
    "\n",
    "# 확인\n",
    "print('훈련데이터 결측치 합 \\n', train.isnull().sum())\n",
    "print('테스트데이터 결측치 합 \\n', test.isnull().sum())"
   ]
  },
  {
   "cell_type": "markdown",
   "metadata": {},
   "source": [
    "## 3. **이상치 처리**\n",
    "* 정수형, 실수형 데이터에서 이상치 찾아보고, 그에 맞게 처리하자."
   ]
  },
  {
   "cell_type": "code",
   "execution_count": null,
   "metadata": {},
   "outputs": [],
   "source": [
    "display(len(train.columns))\n",
    "display((train.columns))"
   ]
  },
  {
   "cell_type": "markdown",
   "metadata": {},
   "source": [
    "### **3-1. 각 컬럼 데이터 변환 and 이상치 처리**\n",
    "* 정수/실수형 데이터를 가진 10개 컬럼 중 휴대전화/직장전화/가정용전화/이메일 보유여부는 이상치 없음. (1아니면 0이니깐)\n",
    "* 이 외에 6개 컬럼들 하나씩 살펴보기\n",
    " * 6개: 자녀 수, 가족 규모, 연간 소득, 출생일, 업무 시작일, 신용카드 발급 월 \n",
    " * 또한 분석하기 용이하게 데이터 변경 (ex) 부호 변환 or 일 수를 나이로)"
   ]
  },
  {
   "cell_type": "markdown",
   "metadata": {},
   "source": [
    "#### 1) 자녀 수\n",
    "* 6명 이상의 자녀를 가진 사람은 5명으로 변경 -> 이유: test set에서 자녀의 수 max가 5 이기 때문. "
   ]
  },
  {
   "cell_type": "code",
   "execution_count": null,
   "metadata": {},
   "outputs": [],
   "source": [
    "print('train childnum unique:', train['child_num'].unique())"
   ]
  },
  {
   "cell_type": "code",
   "execution_count": null,
   "metadata": {},
   "outputs": [],
   "source": [
    "print('test childnum unique:', test['child_num'].unique())"
   ]
  },
  {
   "cell_type": "code",
   "execution_count": 6,
   "metadata": {},
   "outputs": [
    {
     "name": "stdout",
     "output_type": "stream",
     "text": [
      "childnum unique: [0 1 2]\n"
     ]
    },
    {
     "data": {
      "text/plain": [
       "<AxesSubplot:xlabel='child_num'>"
      ]
     },
     "execution_count": 6,
     "metadata": {},
     "output_type": "execute_result"
    },
    {
     "data": {
      "image/png": "[encoded data removed]",
      "text/plain": [
       "<Figure size 576x396 with 1 Axes>"
      ]
     },
     "metadata": {},
     "output_type": "display_data"
    }
   ],
   "source": [
    "# 아이가 3명 이상인 데이터는 2로 변경\n",
    "train.loc[train['child_num'] >= 3,'child_num']=2\n",
    "print('childnum unique:', train['child_num'].unique())\n",
    "sns.distplot(train['child_num'], kde=False, label='child_num')"
   ]
  },
  {
   "cell_type": "markdown",
   "metadata": {},
   "source": [
    "#### 2) 가족 규모\n",
    "* 1의 이유와 같이 최대 아이 숫자를 5로 했기 때문에 가족 규모의 최댓값도 7로 변경함"
   ]
  },
  {
   "cell_type": "code",
   "execution_count": null,
   "metadata": {},
   "outputs": [],
   "source": [
    "print('train familysize unique:', train['family_size'].unique())"
   ]
  },
  {
   "cell_type": "code",
   "execution_count": null,
   "metadata": {},
   "outputs": [],
   "source": [
    "print('test familysize unique:', test['family_size'].unique())"
   ]
  },
  {
   "cell_type": "code",
   "execution_count": 7,
   "metadata": {},
   "outputs": [],
   "source": [
    "# 수정\n",
    "train.loc[train['family_size'] >= 5,'family_size'] = 4"
   ]
  },
  {
   "cell_type": "code",
   "execution_count": null,
   "metadata": {},
   "outputs": [],
   "source": [
    "print('train familysize unique:', train['family_size'].unique())\n",
    "sns.distplot(train['family_size'], kde=False, label='family_size')"
   ]
  },
  {
   "cell_type": "markdown",
   "metadata": {},
   "source": [
    "#### 3) 연간 소득\n",
    "* 테스트 데이터에서도 박스플롯 밖의 값이 많이 있기에 박스플롯 밖의 값 제거 안하기로 결정"
   ]
  },
  {
   "cell_type": "code",
   "execution_count": null,
   "metadata": {},
   "outputs": [],
   "source": [
    "sns.distplot(train['income_total'], kde=False, label='income_total')\n",
    "fig, ax = plt.subplots(1, 2, figsize=(15,8))\n",
    "sns.boxplot(y=train[\"income_total\"],data=train, ax=ax[0])\n",
    "ax[0].set_title(\"train Boxplot of income_total\")\n",
    "\n",
    "sns.boxplot(y=test[\"income_total\"],data=test, ax=ax[1])\n",
    "ax[1].set_title(\"test Boxplot of income_total\")"
   ]
  },
  {
   "cell_type": "markdown",
   "metadata": {},
   "source": [
    "#### 4) 출생일 -> 나이\n",
    "* 양수 변환 후 나이로 변환\n",
    "* 정수형으로 변환"
   ]
  },
  {
   "cell_type": "code",
   "execution_count": null,
   "metadata": {},
   "outputs": [],
   "source": [
    "def days_to_age(x):\n",
    "    return (x*-1)/365\n",
    "\n",
    "# train\n",
    "train['DAYS_BIRTH'] = train['DAYS_BIRTH'].apply(days_to_age)\n",
    "train['DAYS_BIRTH'] = train['DAYS_BIRTH'].astype({'DAYS_BIRTH':'int'})\n",
    "display(train['DAYS_BIRTH'])\n",
    "\n",
    "# test\n",
    "test['DAYS_BIRTH'] = test['DAYS_BIRTH'].apply(days_to_age)\n",
    "test['DAYS_BIRTH'] = test['DAYS_BIRTH'].astype({'DAYS_BIRTH':'int'})\n",
    "display(test['DAYS_BIRTH'])"
   ]
  },
  {
   "cell_type": "markdown",
   "metadata": {},
   "source": [
    "#### 5) 업무시작일 -> 업무 연차\n",
    "* 양수 변환 후 연차로 변환\n",
    "    * 단, 365243은 0연차로 변환\n",
    "    * 135일 일한 사람과 0연차를 구분하기 위해서 0연차를 제외하고 모두 +1 해줌\n",
    "* 정수형으로 변환"
   ]
  },
  {
   "cell_type": "code",
   "execution_count": null,
   "metadata": {},
   "outputs": [],
   "source": [
    "def days_to_year(x):\n",
    "    if x==365243 :\n",
    "        return 0\n",
    "    return (x*-1)/365+1\n",
    "\n",
    "# train\n",
    "train['DAYS_EMPLOYED'] = train['DAYS_EMPLOYED'].apply(days_to_year)\n",
    "train['DAYS_EMPLOYED'] = train['DAYS_EMPLOYED'].astype({'DAYS_EMPLOYED':'int'})\n",
    "display(train['DAYS_EMPLOYED'])\n",
    "\n",
    "# test\n",
    "test['DAYS_EMPLOYED'] = test['DAYS_EMPLOYED'].apply(days_to_year)\n",
    "test['DAYS_EMPLOYED'] = test['DAYS_EMPLOYED'].astype({'DAYS_EMPLOYED':'int'})\n",
    "display(test['DAYS_EMPLOYED'])"
   ]
  },
  {
   "cell_type": "markdown",
   "metadata": {},
   "source": [
    "#### 6) 신용카드 발급 월"
   ]
  },
  {
   "cell_type": "markdown",
   "metadata": {},
   "source": [
    "* 양수로 변환"
   ]
  },
  {
   "cell_type": "code",
   "execution_count": null,
   "metadata": {},
   "outputs": [],
   "source": [
    "def minus(x):\n",
    "    return x * -1\n",
    "\n",
    "# train\n",
    "train['begin_month'] = train['begin_month'].apply(minus)\n",
    "display(train['begin_month'])\n",
    "\n",
    "# test\n",
    "test['begin_month'] = test['begin_month'].apply(minus)\n",
    "display(test['begin_month'])"
   ]
  },
  {
   "cell_type": "markdown",
   "metadata": {},
   "source": [
    "#### 7) 박스 플롯을 통한 이상치 확인\n",
    "* 박스플롯"
   ]
  },
  {
   "cell_type": "code",
   "execution_count": null,
   "metadata": {},
   "outputs": [],
   "source": [
    "train.info()"
   ]
  },
  {
   "cell_type": "markdown",
   "metadata": {},
   "source": [
    "* 1) 신용카드 발급 월\n",
    "* 2) 업무 연차\n",
    "* 3) 나이\n",
    "* 4) 연간 수입\n",
    " * 4개 컬럼에 대해 박스플롯 그려보기"
   ]
  },
  {
   "cell_type": "code",
   "execution_count": null,
   "metadata": {},
   "outputs": [],
   "source": [
    "# 신용카드 발급 월의 박스플롯\n",
    "fig, ax = plt.subplots(1, 2, figsize=(15,8))\n",
    "\n",
    "sns.boxplot(y=train[\"begin_month\"],data=train, ax=ax[0])\n",
    "ax[0].set_title(\"Boxplot of train's begin_month\")\n",
    "\n",
    "sns.boxplot(y=test[\"begin_month\"],data=test, ax=ax[1])\n",
    "ax[1].set_title(\"Boxplot of test's begin_month\")"
   ]
  },
  {
   "cell_type": "code",
   "execution_count": null,
   "metadata": {},
   "outputs": [],
   "source": [
    "# 나이에 대한 박스플롯\n",
    "fig, ax = plt.subplots(1, 2, figsize=(15,8))\n",
    "\n",
    "sns.boxplot(y=train[\"DAYS_BIRTH\"],data=train, ax=ax[0])\n",
    "ax[0].set_title(\"Boxplot of train's DAYS_BIRTH\")\n",
    "\n",
    "sns.boxplot(y=test[\"DAYS_BIRTH\"],data=test, ax=ax[1])\n",
    "ax[1].set_title(\"Boxplot of test's DAYS_BIRTH\")"
   ]
  },
  {
   "cell_type": "code",
   "execution_count": null,
   "metadata": {},
   "outputs": [],
   "source": [
    "# 연간 수입에 대한 박스플롯\n",
    "fig, ax = plt.subplots(1, 2, figsize=(15,8))\n",
    "\n",
    "sns.boxplot(y=train[\"income_total\"],data=train, ax=ax[0])\n",
    "ax[0].set_title(\"Boxplot of train's income_total\")\n",
    "\n",
    "sns.boxplot(y=test[\"income_total\"],data=test, ax=ax[1])\n",
    "ax[1].set_title(\"Boxplot of test's income_total\")"
   ]
  },
  {
   "cell_type": "code",
   "execution_count": null,
   "metadata": {},
   "outputs": [],
   "source": [
    "# 업무 연차에 대한 박스플롯\n",
    "fig, ax = plt.subplots(1, 2, figsize=(15,8))\n",
    "\n",
    "sns.boxplot(y=train[\"DAYS_EMPLOYED\"],data=train, ax=ax[0])\n",
    "ax[0].set_title(\"Boxplot of train's DAYS_EMPLOYED\")\n",
    "\n",
    "sns.boxplot(y=test[\"DAYS_EMPLOYED\"],data=test, ax=ax[1])\n",
    "ax[1].set_title(\"Boxplot of test's DAYS_EMPLOYED\")"
   ]
  },
  {
   "cell_type": "code",
   "execution_count": null,
   "metadata": {},
   "outputs": [],
   "source": [
    "# child_num, family_size\n",
    "fig, ax = plt.subplots(1, 2, figsize=(15,8))\n",
    "\n",
    "sns.boxplot(y=train[\"child_num\"],data=train, ax=ax[0])\n",
    "ax[0].set_title(\"Boxplot of child_num\")\n",
    "\n",
    "sns.boxplot(y=train[\"family_size\"],data=train, ax=ax[1])\n",
    "ax[1].set_title(\"Boxplot of family_size\")"
   ]
  },
  {
   "cell_type": "markdown",
   "metadata": {},
   "source": [
    "#### 8) 상관관계\n",
    "* 범주형과 수치형 상관관계 확인 - https://dodonam.tistory.com/217"
   ]
  },
  {
   "cell_type": "code",
   "execution_count": null,
   "metadata": {},
   "outputs": [],
   "source": [
    "#상관관계를 확인\n",
    "sns.set(rc={'figure.figsize':(14,8)})\n",
    "corr = train.corr()\n",
    "sns.heatmap(corr, cmap='coolwarm_r')"
   ]
  },
  {
   "cell_type": "code",
   "execution_count": null,
   "metadata": {},
   "outputs": [],
   "source": [
    "# 다중 공선성 확인\n",
    "list_numeric = [\"child_num\", \"income_total\", \"DAYS_BIRTH\", \"DAYS_EMPLOYED\", \"family_size\", \"begin_month\"]\n",
    "sns.heatmap(train[list_numeric].corr(), annot = True, fmt = \".2f\")\n",
    "plt.show()"
   ]
  },
  {
   "cell_type": "code",
   "execution_count": null,
   "metadata": {},
   "outputs": [],
   "source": [
    "#상관관계 수치로 확인\n",
    "# 종속변수('Class')와의 상관관계\n",
    "Corr = train.corr()\n",
    "IF = Corr['credit'].sort_values().to_frame()\n",
    "display(IF.head(5))\n",
    "print(IF)"
   ]
  },
  {
   "cell_type": "markdown",
   "metadata": {},
   "source": [
    "* 신용도와 가장 상관관계가 높은 컬럼은 \"begin_month\" 이나 0.147에 불과함"
   ]
  },
  {
   "cell_type": "markdown",
   "metadata": {},
   "source": [
    "#### 9) 회귀분석 그래프"
   ]
  },
  {
   "cell_type": "code",
   "execution_count": null,
   "metadata": {},
   "outputs": [],
   "source": [
    "# 9-1. 연차와 연간 소득의 회귀분석 그래프\n",
    "# 연차가 낮은데 소득이 굉장히 많은 경우는 제거해도 좋을 듯\n",
    "sns.lmplot(x=\"DAYS_EMPLOYED\", y=\"income_total\", data=train, line_kws={'color':\"red\"})"
   ]
  },
  {
   "cell_type": "markdown",
   "metadata": {},
   "source": [
    "## 4. **Feature Engineering** - 여기에 정규화 포함시켜야 할듯요!\n",
    "\n",
    "* 수치형 컬럼은 기존 데이터 분포와 비슷하고, 어느정도 일정한 범위를 갖게 정규화해야함\n",
    "* 각 컬럼마다 동일한 스케일러 적용할 필요는 없음. \n",
    "* [다른 스케일러 적용한 사례- 블로그](https://lsjsj92.tistory.com/555?category=853217)"
   ]
  },
  {
   "cell_type": "markdown",
   "metadata": {},
   "source": [
    "### 4-1. 범주형 데이터 one-hot encoding, label encoding\n",
    "* object (범주형)은 원핫인코딩 하기.\n",
    "    * 단, occyp_type은 라벨 인코딩.\n",
    "* 범주형 데이터를 가지는 변수 확인 (dtype가 object)\n",
    "* gender(2), car(2), reality(2), income_type(5), edu_type(5), family_type(5), house_type(6), occyp_type(18)"
   ]
  },
  {
   "cell_type": "code",
   "execution_count": 8,
   "metadata": {},
   "outputs": [
    {
     "data": {
      "text/plain": [
       "['gender',\n",
       " 'car',\n",
       " 'reality',\n",
       " 'income_type',\n",
       " 'edu_type',\n",
       " 'family_type',\n",
       " 'house_type',\n",
       " 'occyp_type']"
      ]
     },
     "metadata": {},
     "output_type": "display_data"
    }
   ],
   "source": [
    "# object 객체를 가지는 변수(열) 확인\n",
    "object_col = []\n",
    "for col in train.columns:\n",
    "    if train[col].dtype == 'object' : # and col!='occyp_type': # 변수가 18개인 occyp_type만 제외\n",
    "        object_col.append(col)\n",
    "display(object_col)"
   ]
  },
  {
   "cell_type": "code",
   "execution_count": null,
   "metadata": {},
   "outputs": [],
   "source": [
    "print(train['occyp_type'].unique())\n",
    "(len(train['occyp_type'].unique()))"
   ]
  },
  {
   "cell_type": "markdown",
   "metadata": {},
   "source": [
    "#### 4-1-1. train의 원핫인코딩, 라벨인코딩"
   ]
  },
  {
   "cell_type": "code",
   "execution_count": 9,
   "metadata": {},
   "outputs": [],
   "source": [
    "# occyp_type을 제외한 모든 object객체 열을 onehot encoding\n",
    "\n",
    "enc = OneHotEncoder()\n",
    "enc.fit(train.loc[:,object_col])\n",
    "\n",
    "train_onehot_df = pd.DataFrame(enc.transform(train.loc[:,object_col]).toarray(), \n",
    "             columns=enc.get_feature_names(object_col))\n",
    "train.drop(object_col, axis=1, inplace=True)\n",
    "train = pd.concat([train, train_onehot_df], axis=1)"
   ]
  },
  {
   "cell_type": "code",
   "execution_count": null,
   "metadata": {},
   "outputs": [],
   "source": [
    "# occyp_type을 label encoding\n",
    "\n",
    "# label_encoder=preprocessing.LabelEncoder()\n",
    "# train['occyp_type']=label_encoder.fit_transform(train['occyp_type'])"
   ]
  },
  {
   "cell_type": "code",
   "execution_count": null,
   "metadata": {},
   "outputs": [],
   "source": [
    "# 인코딩 확인\n",
    "\n",
    "display(train.head(5))\n",
    "print(train.columns)\n",
    "train.info()"
   ]
  },
  {
   "cell_type": "markdown",
   "metadata": {},
   "source": [
    "#### 4-1-2. test의 원핫인코딩, 라벨인코딩"
   ]
  },
  {
   "cell_type": "code",
   "execution_count": 10,
   "metadata": {},
   "outputs": [],
   "source": [
    "# occyp_type을 제외한 모든 object객체 열을  onehot encoding\n",
    "enc = OneHotEncoder()\n",
    "enc.fit(test.loc[:,object_col])\n",
    "\n",
    "test_onehot_df = pd.DataFrame(enc.transform(test.loc[:,object_col]).toarray(), \n",
    "             columns=enc.get_feature_names(object_col))\n",
    "test.drop(object_col, axis=1, inplace=True)\n",
    "test = pd.concat([test, test_onehot_df], axis=1)"
   ]
  },
  {
   "cell_type": "code",
   "execution_count": null,
   "metadata": {},
   "outputs": [],
   "source": [
    "# occyp_type을 label encoding\n",
    "\n",
    "# label_encoder=preprocessing.LabelEncoder()\n",
    "# test['occyp_type']=label_encoder.fit_transform(test['occyp_type'])"
   ]
  },
  {
   "cell_type": "code",
   "execution_count": null,
   "metadata": {},
   "outputs": [],
   "source": [
    "# 인코딩 확인\n",
    "\n",
    "display(test.head(5))\n",
    "print(test.columns)\n",
    "test.info()"
   ]
  },
  {
   "cell_type": "markdown",
   "metadata": {},
   "source": [
    "### 4-2. 데이터 정규화"
   ]
  },
  {
   "cell_type": "markdown",
   "metadata": {},
   "source": [
    "#### 정규화 전 분포도\n",
    "* 수치형 데이터만"
   ]
  },
  {
   "cell_type": "code",
   "execution_count": null,
   "metadata": {},
   "outputs": [],
   "source": [
    "fig, ax = plt.subplots(3, 2, figsize=(20,18))\n",
    "\n",
    "sns.distplot(train['child_num'], ax=ax[0][0])\n",
    "sns.distplot(train['income_total'], ax=ax[0][1])\n",
    "\n",
    "sns.distplot(train['DAYS_BIRTH'], ax=ax[1][0])\n",
    "sns.distplot(train['DAYS_EMPLOYED'], ax=ax[1][1])\n",
    "\n",
    "sns.distplot(train['family_size'], ax=ax[2][0])\n",
    "sns.distplot(train['begin_month'], ax=ax[2][1])"
   ]
  },
  {
   "cell_type": "markdown",
   "metadata": {},
   "source": [
    "#### 4-2-1. MinMaxScaler"
   ]
  },
  {
   "cell_type": "code",
   "execution_count": 11,
   "metadata": {},
   "outputs": [
    {
     "name": "stdout",
     "output_type": "stream",
     "text": [
      "MinMaxScaler()\n"
     ]
    },
    {
     "data": {
      "text/html": [
       "<div>\n",
       "<style scoped>\n",
       "    .dataframe tbody tr th:only-of-type {\n",
       "        vertical-align: middle;\n",
       "    }\n",
       "\n",
       "    .dataframe tbody tr th {\n",
       "        vertical-align: top;\n",
       "    }\n",
       "\n",
       "    .dataframe thead th {\n",
       "        text-align: right;\n",
       "    }\n",
       "</style>\n",
       "<table border=\"1\" class=\"dataframe\">\n",
       "  <thead>\n",
       "    <tr style=\"text-align: right;\">\n",
       "      <th></th>\n",
       "      <th>DAYS_BIRTH</th>\n",
       "      <th>DAYS_EMPLOYED</th>\n",
       "      <th>FLAG_MOBIL</th>\n",
       "      <th>begin_month</th>\n",
       "      <th>car_N</th>\n",
       "      <th>car_Y</th>\n",
       "      <th>child_num</th>\n",
       "      <th>edu_type_Academic degree</th>\n",
       "      <th>edu_type_Higher education</th>\n",
       "      <th>edu_type_Incomplete higher</th>\n",
       "      <th>...</th>\n",
       "      <th>occyp_type_Realty agents</th>\n",
       "      <th>occyp_type_Sales staff</th>\n",
       "      <th>occyp_type_Secretaries</th>\n",
       "      <th>occyp_type_Security staff</th>\n",
       "      <th>occyp_type_Waiters/barmen staff</th>\n",
       "      <th>occyp_type_unfilled</th>\n",
       "      <th>phone</th>\n",
       "      <th>reality_N</th>\n",
       "      <th>reality_Y</th>\n",
       "      <th>work_phone</th>\n",
       "    </tr>\n",
       "  </thead>\n",
       "  <tbody>\n",
       "    <tr>\n",
       "      <th>0</th>\n",
       "      <td>0.644982</td>\n",
       "      <td>0.028885</td>\n",
       "      <td>0.0</td>\n",
       "      <td>0.900000</td>\n",
       "      <td>1.0</td>\n",
       "      <td>0.0</td>\n",
       "      <td>0.0</td>\n",
       "      <td>0.0</td>\n",
       "      <td>1.0</td>\n",
       "      <td>0.0</td>\n",
       "      <td>...</td>\n",
       "      <td>0.0</td>\n",
       "      <td>0.0</td>\n",
       "      <td>0.0</td>\n",
       "      <td>0.0</td>\n",
       "      <td>0.0</td>\n",
       "      <td>1.0</td>\n",
       "      <td>0.0</td>\n",
       "      <td>1.0</td>\n",
       "      <td>0.0</td>\n",
       "      <td>0.0</td>\n",
       "    </tr>\n",
       "    <tr>\n",
       "      <th>1</th>\n",
       "      <td>0.789362</td>\n",
       "      <td>0.037204</td>\n",
       "      <td>0.0</td>\n",
       "      <td>0.916667</td>\n",
       "      <td>1.0</td>\n",
       "      <td>0.0</td>\n",
       "      <td>0.5</td>\n",
       "      <td>0.0</td>\n",
       "      <td>0.0</td>\n",
       "      <td>0.0</td>\n",
       "      <td>...</td>\n",
       "      <td>0.0</td>\n",
       "      <td>0.0</td>\n",
       "      <td>0.0</td>\n",
       "      <td>0.0</td>\n",
       "      <td>0.0</td>\n",
       "      <td>0.0</td>\n",
       "      <td>0.0</td>\n",
       "      <td>0.0</td>\n",
       "      <td>1.0</td>\n",
       "      <td>0.0</td>\n",
       "    </tr>\n",
       "    <tr>\n",
       "      <th>2</th>\n",
       "      <td>0.347624</td>\n",
       "      <td>0.029607</td>\n",
       "      <td>0.0</td>\n",
       "      <td>0.633333</td>\n",
       "      <td>0.0</td>\n",
       "      <td>1.0</td>\n",
       "      <td>0.0</td>\n",
       "      <td>0.0</td>\n",
       "      <td>1.0</td>\n",
       "      <td>0.0</td>\n",
       "      <td>...</td>\n",
       "      <td>0.0</td>\n",
       "      <td>0.0</td>\n",
       "      <td>0.0</td>\n",
       "      <td>0.0</td>\n",
       "      <td>0.0</td>\n",
       "      <td>0.0</td>\n",
       "      <td>1.0</td>\n",
       "      <td>0.0</td>\n",
       "      <td>1.0</td>\n",
       "      <td>0.0</td>\n",
       "    </tr>\n",
       "    <tr>\n",
       "      <th>3</th>\n",
       "      <td>0.576833</td>\n",
       "      <td>0.035755</td>\n",
       "      <td>0.0</td>\n",
       "      <td>0.383333</td>\n",
       "      <td>1.0</td>\n",
       "      <td>0.0</td>\n",
       "      <td>0.0</td>\n",
       "      <td>0.0</td>\n",
       "      <td>0.0</td>\n",
       "      <td>0.0</td>\n",
       "      <td>...</td>\n",
       "      <td>0.0</td>\n",
       "      <td>1.0</td>\n",
       "      <td>0.0</td>\n",
       "      <td>0.0</td>\n",
       "      <td>0.0</td>\n",
       "      <td>0.0</td>\n",
       "      <td>1.0</td>\n",
       "      <td>0.0</td>\n",
       "      <td>1.0</td>\n",
       "      <td>0.0</td>\n",
       "    </tr>\n",
       "    <tr>\n",
       "      <th>4</th>\n",
       "      <td>0.579756</td>\n",
       "      <td>0.035721</td>\n",
       "      <td>0.0</td>\n",
       "      <td>0.566667</td>\n",
       "      <td>0.0</td>\n",
       "      <td>1.0</td>\n",
       "      <td>0.0</td>\n",
       "      <td>0.0</td>\n",
       "      <td>1.0</td>\n",
       "      <td>0.0</td>\n",
       "      <td>...</td>\n",
       "      <td>0.0</td>\n",
       "      <td>0.0</td>\n",
       "      <td>0.0</td>\n",
       "      <td>0.0</td>\n",
       "      <td>0.0</td>\n",
       "      <td>0.0</td>\n",
       "      <td>0.0</td>\n",
       "      <td>0.0</td>\n",
       "      <td>1.0</td>\n",
       "      <td>0.0</td>\n",
       "    </tr>\n",
       "    <tr>\n",
       "      <th>...</th>\n",
       "      <td>...</td>\n",
       "      <td>...</td>\n",
       "      <td>...</td>\n",
       "      <td>...</td>\n",
       "      <td>...</td>\n",
       "      <td>...</td>\n",
       "      <td>...</td>\n",
       "      <td>...</td>\n",
       "      <td>...</td>\n",
       "      <td>...</td>\n",
       "      <td>...</td>\n",
       "      <td>...</td>\n",
       "      <td>...</td>\n",
       "      <td>...</td>\n",
       "      <td>...</td>\n",
       "      <td>...</td>\n",
       "      <td>...</td>\n",
       "      <td>...</td>\n",
       "      <td>...</td>\n",
       "      <td>...</td>\n",
       "      <td>...</td>\n",
       "    </tr>\n",
       "    <tr>\n",
       "      <th>26452</th>\n",
       "      <td>0.749298</td>\n",
       "      <td>0.036038</td>\n",
       "      <td>0.0</td>\n",
       "      <td>0.966667</td>\n",
       "      <td>1.0</td>\n",
       "      <td>0.0</td>\n",
       "      <td>1.0</td>\n",
       "      <td>0.0</td>\n",
       "      <td>0.0</td>\n",
       "      <td>0.0</td>\n",
       "      <td>...</td>\n",
       "      <td>0.0</td>\n",
       "      <td>0.0</td>\n",
       "      <td>0.0</td>\n",
       "      <td>0.0</td>\n",
       "      <td>0.0</td>\n",
       "      <td>0.0</td>\n",
       "      <td>0.0</td>\n",
       "      <td>1.0</td>\n",
       "      <td>0.0</td>\n",
       "      <td>0.0</td>\n",
       "    </tr>\n",
       "    <tr>\n",
       "      <th>26453</th>\n",
       "      <td>0.565197</td>\n",
       "      <td>0.034749</td>\n",
       "      <td>0.0</td>\n",
       "      <td>0.216667</td>\n",
       "      <td>1.0</td>\n",
       "      <td>0.0</td>\n",
       "      <td>0.5</td>\n",
       "      <td>0.0</td>\n",
       "      <td>1.0</td>\n",
       "      <td>0.0</td>\n",
       "      <td>...</td>\n",
       "      <td>0.0</td>\n",
       "      <td>0.0</td>\n",
       "      <td>0.0</td>\n",
       "      <td>0.0</td>\n",
       "      <td>0.0</td>\n",
       "      <td>1.0</td>\n",
       "      <td>0.0</td>\n",
       "      <td>0.0</td>\n",
       "      <td>1.0</td>\n",
       "      <td>0.0</td>\n",
       "    </tr>\n",
       "    <tr>\n",
       "      <th>26454</th>\n",
       "      <td>0.863759</td>\n",
       "      <td>0.035957</td>\n",
       "      <td>0.0</td>\n",
       "      <td>0.583333</td>\n",
       "      <td>0.0</td>\n",
       "      <td>1.0</td>\n",
       "      <td>0.0</td>\n",
       "      <td>0.0</td>\n",
       "      <td>0.0</td>\n",
       "      <td>0.0</td>\n",
       "      <td>...</td>\n",
       "      <td>0.0</td>\n",
       "      <td>0.0</td>\n",
       "      <td>0.0</td>\n",
       "      <td>0.0</td>\n",
       "      <td>0.0</td>\n",
       "      <td>0.0</td>\n",
       "      <td>0.0</td>\n",
       "      <td>1.0</td>\n",
       "      <td>0.0</td>\n",
       "      <td>0.0</td>\n",
       "    </tr>\n",
       "    <tr>\n",
       "      <th>26455</th>\n",
       "      <td>0.860148</td>\n",
       "      <td>0.040965</td>\n",
       "      <td>0.0</td>\n",
       "      <td>0.016667</td>\n",
       "      <td>1.0</td>\n",
       "      <td>0.0</td>\n",
       "      <td>0.0</td>\n",
       "      <td>0.0</td>\n",
       "      <td>0.0</td>\n",
       "      <td>1.0</td>\n",
       "      <td>...</td>\n",
       "      <td>0.0</td>\n",
       "      <td>0.0</td>\n",
       "      <td>0.0</td>\n",
       "      <td>0.0</td>\n",
       "      <td>0.0</td>\n",
       "      <td>0.0</td>\n",
       "      <td>0.0</td>\n",
       "      <td>0.0</td>\n",
       "      <td>1.0</td>\n",
       "      <td>0.0</td>\n",
       "    </tr>\n",
       "    <tr>\n",
       "      <th>26456</th>\n",
       "      <td>0.319998</td>\n",
       "      <td>0.038587</td>\n",
       "      <td>0.0</td>\n",
       "      <td>0.850000</td>\n",
       "      <td>1.0</td>\n",
       "      <td>0.0</td>\n",
       "      <td>0.0</td>\n",
       "      <td>0.0</td>\n",
       "      <td>0.0</td>\n",
       "      <td>0.0</td>\n",
       "      <td>...</td>\n",
       "      <td>0.0</td>\n",
       "      <td>0.0</td>\n",
       "      <td>0.0</td>\n",
       "      <td>1.0</td>\n",
       "      <td>0.0</td>\n",
       "      <td>0.0</td>\n",
       "      <td>0.0</td>\n",
       "      <td>1.0</td>\n",
       "      <td>0.0</td>\n",
       "      <td>0.0</td>\n",
       "    </tr>\n",
       "  </tbody>\n",
       "</table>\n",
       "<p>26457 rows × 56 columns</p>\n",
       "</div>"
      ],
      "text/plain": [
       "       DAYS_BIRTH  DAYS_EMPLOYED  FLAG_MOBIL  begin_month  car_N  car_Y  \\\n",
       "0        0.644982       0.028885         0.0     0.900000    1.0    0.0   \n",
       "1        0.789362       0.037204         0.0     0.916667    1.0    0.0   \n",
       "2        0.347624       0.029607         0.0     0.633333    0.0    1.0   \n",
       "3        0.576833       0.035755         0.0     0.383333    1.0    0.0   \n",
       "4        0.579756       0.035721         0.0     0.566667    0.0    1.0   \n",
       "...           ...            ...         ...          ...    ...    ...   \n",
       "26452    0.749298       0.036038         0.0     0.966667    1.0    0.0   \n",
       "26453    0.565197       0.034749         0.0     0.216667    1.0    0.0   \n",
       "26454    0.863759       0.035957         0.0     0.583333    0.0    1.0   \n",
       "26455    0.860148       0.040965         0.0     0.016667    1.0    0.0   \n",
       "26456    0.319998       0.038587         0.0     0.850000    1.0    0.0   \n",
       "\n",
       "       child_num  edu_type_Academic degree  edu_type_Higher education  \\\n",
       "0            0.0                       0.0                        1.0   \n",
       "1            0.5                       0.0                        0.0   \n",
       "2            0.0                       0.0                        1.0   \n",
       "3            0.0                       0.0                        0.0   \n",
       "4            0.0                       0.0                        1.0   \n",
       "...          ...                       ...                        ...   \n",
       "26452        1.0                       0.0                        0.0   \n",
       "26453        0.5                       0.0                        1.0   \n",
       "26454        0.0                       0.0                        0.0   \n",
       "26455        0.0                       0.0                        0.0   \n",
       "26456        0.0                       0.0                        0.0   \n",
       "\n",
       "       edu_type_Incomplete higher  ...  occyp_type_Realty agents  \\\n",
       "0                             0.0  ...                       0.0   \n",
       "1                             0.0  ...                       0.0   \n",
       "2                             0.0  ...                       0.0   \n",
       "3                             0.0  ...                       0.0   \n",
       "4                             0.0  ...                       0.0   \n",
       "...                           ...  ...                       ...   \n",
       "26452                         0.0  ...                       0.0   \n",
       "26453                         0.0  ...                       0.0   \n",
       "26454                         0.0  ...                       0.0   \n",
       "26455                         1.0  ...                       0.0   \n",
       "26456                         0.0  ...                       0.0   \n",
       "\n",
       "       occyp_type_Sales staff  occyp_type_Secretaries  \\\n",
       "0                         0.0                     0.0   \n",
       "1                         0.0                     0.0   \n",
       "2                         0.0                     0.0   \n",
       "3                         1.0                     0.0   \n",
       "4                         0.0                     0.0   \n",
       "...                       ...                     ...   \n",
       "26452                     0.0                     0.0   \n",
       "26453                     0.0                     0.0   \n",
       "26454                     0.0                     0.0   \n",
       "26455                     0.0                     0.0   \n",
       "26456                     0.0                     0.0   \n",
       "\n",
       "       occyp_type_Security staff  occyp_type_Waiters/barmen staff  \\\n",
       "0                            0.0                              0.0   \n",
       "1                            0.0                              0.0   \n",
       "2                            0.0                              0.0   \n",
       "3                            0.0                              0.0   \n",
       "4                            0.0                              0.0   \n",
       "...                          ...                              ...   \n",
       "26452                        0.0                              0.0   \n",
       "26453                        0.0                              0.0   \n",
       "26454                        0.0                              0.0   \n",
       "26455                        0.0                              0.0   \n",
       "26456                        1.0                              0.0   \n",
       "\n",
       "       occyp_type_unfilled  phone  reality_N  reality_Y  work_phone  \n",
       "0                      1.0    0.0        1.0        0.0         0.0  \n",
       "1                      0.0    0.0        0.0        1.0         0.0  \n",
       "2                      0.0    1.0        0.0        1.0         0.0  \n",
       "3                      0.0    1.0        0.0        1.0         0.0  \n",
       "4                      0.0    0.0        0.0        1.0         0.0  \n",
       "...                    ...    ...        ...        ...         ...  \n",
       "26452                  0.0    0.0        1.0        0.0         0.0  \n",
       "26453                  1.0    0.0        0.0        1.0         0.0  \n",
       "26454                  0.0    0.0        1.0        0.0         0.0  \n",
       "26455                  0.0    0.0        0.0        1.0         0.0  \n",
       "26456                  0.0    0.0        1.0        0.0         0.0  \n",
       "\n",
       "[26457 rows x 56 columns]"
      ]
     },
     "metadata": {},
     "output_type": "display_data"
    }
   ],
   "source": [
    "from sklearn.preprocessing import MinMaxScaler\n",
    "\n",
    "MinMaxScaler_data = train[train.columns.difference(['credit'])].copy()\n",
    "\n",
    "minMaxScaler = MinMaxScaler()\n",
    "print(minMaxScaler.fit(MinMaxScaler_data))\n",
    "train_data_minMaxScaled = minMaxScaler.transform(MinMaxScaler_data)\n",
    "\n",
    "# MinMaxScaler_data - MinMaxScaler적용한 데이터 프레임\n",
    "index = 0\n",
    "for col in MinMaxScaler_data.columns :\n",
    "    MinMaxScaler_data[col] = train_data_minMaxScaled[:,index]\n",
    "    index = index + 1\n",
    "display(MinMaxScaler_data)"
   ]
  },
  {
   "cell_type": "code",
   "execution_count": null,
   "metadata": {},
   "outputs": [],
   "source": [
    "# MinMaxScaler 적용한 후 분포도 확인\n",
    "fig, ax = plt.subplots(3, 2, figsize=(20,18))\n",
    "\n",
    "sns.distplot(MinMaxScaler_data['child_num'], ax=ax[0][0])\n",
    "sns.distplot(MinMaxScaler_data['income_total'], ax=ax[0][1])\n",
    "\n",
    "sns.distplot(MinMaxScaler_data['DAYS_BIRTH'], ax=ax[1][0])\n",
    "sns.distplot(MinMaxScaler_data['DAYS_EMPLOYED'], ax=ax[1][1])\n",
    "\n",
    "sns.distplot(MinMaxScaler_data['family_size'], ax=ax[2][0])\n",
    "sns.distplot(MinMaxScaler_data['begin_month'], ax=ax[2][1])"
   ]
  },
  {
   "cell_type": "markdown",
   "metadata": {},
   "source": [
    "#### 4-2-2 MaxAbsScaler"
   ]
  },
  {
   "cell_type": "code",
   "execution_count": null,
   "metadata": {},
   "outputs": [],
   "source": [
    "from sklearn.preprocessing import MaxAbsScaler\n",
    "\n",
    "MaxAbsScaler_data = train[train.columns.difference(['credit'])].copy()\n",
    "\n",
    "maxAbsScaler = MaxAbsScaler()\n",
    "print(maxAbsScaler.fit(MaxAbsScaler_data))\n",
    "train_data_maxAbsScaled = maxAbsScaler.transform(MaxAbsScaler_data)\n",
    "\n",
    "# MaxAbsScaler_data - MaxAbsScaler 적용한 데이터 프레임\n",
    "index = 0\n",
    "for col in MaxAbsScaler_data.columns :\n",
    "    MaxAbsScaler_data[col] = train_data_maxAbsScaled[:,index]\n",
    "    index = index + 1\n",
    "display(MaxAbsScaler_data)"
   ]
  },
  {
   "cell_type": "code",
   "execution_count": null,
   "metadata": {},
   "outputs": [],
   "source": [
    "# MaxAbsScaler_data 적용한 후 분포도 확인\n",
    "fig, ax = plt.subplots(3, 2, figsize=(20,18))\n",
    "\n",
    "sns.distplot(MaxAbsScaler_data['child_num'], ax=ax[0][0])\n",
    "sns.distplot(MaxAbsScaler_data['income_total'], ax=ax[0][1])\n",
    "\n",
    "sns.distplot(MaxAbsScaler_data['DAYS_BIRTH'], ax=ax[1][0])\n",
    "sns.distplot(MaxAbsScaler_data['DAYS_EMPLOYED'], ax=ax[1][1])\n",
    "\n",
    "sns.distplot(MaxAbsScaler_data['family_size'], ax=ax[2][0])\n",
    "sns.distplot(MaxAbsScaler_data['begin_month'], ax=ax[2][1])\n",
    "\n",
    "\n",
    "MinMaxScaler_data\n"
   ]
  },
  {
   "cell_type": "markdown",
   "metadata": {},
   "source": [
    "#### 4-2-3 StandardScaler"
   ]
  },
  {
   "cell_type": "code",
   "execution_count": null,
   "metadata": {},
   "outputs": [],
   "source": [
    "from sklearn.preprocessing import StandardScaler\n",
    "\n",
    "StandardScaler_data = train[train.columns.difference(['credit'])].copy()\n",
    "\n",
    "standardScaler = StandardScaler()\n",
    "print(standardScaler.fit(StandardScaler_data))\n",
    "train_data_standardScaled = standardScaler.transform(StandardScaler_data)\n",
    "\n",
    "# StandardScaler_data - StandardScaler 적용한 데이터 프레임\n",
    "index = 0\n",
    "for col in StandardScaler_data.columns :\n",
    "    StandardScaler_data[col] = train_data_standardScaled[:,index]\n",
    "    index = index + 1\n",
    "display(StandardScaler_data)"
   ]
  },
  {
   "cell_type": "code",
   "execution_count": null,
   "metadata": {},
   "outputs": [],
   "source": [
    "# MaxAbsScaler_data 적용한 후 분포도 확인\n",
    "fig, ax = plt.subplots(3, 2, figsize=(20,18))\n",
    "\n",
    "sns.distplot(StandardScaler_data['child_num'], ax=ax[0][0])\n",
    "sns.distplot(StandardScaler_data['income_total'], ax=ax[0][1])\n",
    "\n",
    "sns.distplot(StandardScaler_data['DAYS_BIRTH'], ax=ax[1][0])\n",
    "sns.distplot(StandardScaler_data['DAYS_EMPLOYED'], ax=ax[1][1])\n",
    "\n",
    "sns.distplot(StandardScaler_data['family_size'], ax=ax[2][0])\n",
    "sns.distplot(StandardScaler_data['begin_month'], ax=ax[2][1])"
   ]
  },
  {
   "cell_type": "markdown",
   "metadata": {},
   "source": [
    "#### 4-2-4 RobustScaler"
   ]
  },
  {
   "cell_type": "code",
   "execution_count": null,
   "metadata": {},
   "outputs": [],
   "source": [
    "from sklearn.preprocessing import RobustScaler\n",
    "\n",
    "RobustScaler_data = train[train.columns.difference(['credit'])].copy()\n",
    "\n",
    "robustScaler = RobustScaler()\n",
    "print(robustScaler.fit(RobustScaler_data))\n",
    "train_data_robustScaled = robustScaler.transform(RobustScaler_data)\n",
    "\n",
    "# StandardScaler_data - StandardScaler 적용한 데이터 프레임\n",
    "index = 0\n",
    "for col in RobustScaler_data.columns :\n",
    "    RobustScaler_data[col] = train_data_robustScaled[:,index]\n",
    "    index = index + 1\n",
    "display(RobustScaler_data)"
   ]
  },
  {
   "cell_type": "code",
   "execution_count": null,
   "metadata": {},
   "outputs": [],
   "source": [
    "# MaxAbsScaler_data 적용한 후 분포도 확인\n",
    "fig, ax = plt.subplots(3, 2, figsize=(20,18))\n",
    "\n",
    "sns.distplot(RobustScaler_data['child_num'], ax=ax[0][0])\n",
    "sns.distplot(RobustScaler_data['income_total'], ax=ax[0][1])\n",
    "\n",
    "sns.distplot(RobustScaler_data['DAYS_BIRTH'], ax=ax[1][0])\n",
    "sns.distplot(RobustScaler_data['DAYS_EMPLOYED'], ax=ax[1][1])\n",
    "\n",
    "sns.distplot(RobustScaler_data['family_size'], ax=ax[2][0])\n",
    "sns.distplot(RobustScaler_data['begin_month'], ax=ax[2][1])"
   ]
  },
  {
   "cell_type": "code",
   "execution_count": null,
   "metadata": {},
   "outputs": [],
   "source": [
    "# test.csv 정규화\n",
    "from sklearn import preprocessing\n",
    "testSet =  test.copy()\n",
    "testSet = preprocessing.MinMaxScaler().fit(testSet).transform(testSet)"
   ]
  },
  {
   "cell_type": "markdown",
   "metadata": {},
   "source": [
    "-----------------------------------------------\n",
    "## 여기까지 정규화, 이상치 처리 완료해야 함, 데이터 전처리 단계"
   ]
  },
  {
   "cell_type": "markdown",
   "metadata": {},
   "source": [
    "#### 정규화한 데이터 이름\n",
    "* MinMaxScaler_data\n",
    "* MaxAbsScaler_data\n",
    "* StandardScaler_data\n",
    "* RobustScaler_data"
   ]
  },
  {
   "cell_type": "markdown",
   "metadata": {},
   "source": [
    "## 5. 모델링"
   ]
  },
  {
   "cell_type": "markdown",
   "metadata": {},
   "source": [
    "### 5-0 데이터 분리\n",
    "* 데이터 분리는 stratifiedKFold를 사용하여 y값 분포를 비슷하게 분리 시킴 -> 5-fold\n",
    "    * StratifiedKFold(계층별 k-겹 교차검증) - 불균형한 분포도를 가진 레이블 데이터를 위한 방식, 특정 레이블 값이 너무 많거나 적은 경우\n",
    "    * 타겟에 속성값의 개수를 동일하게 가져감으로써 kfold 같이 데이터가 한곳으로 몰리는 것을 방지\n",
    "    * 대부분의 경우 회귀에서는 k-겹 교차 검증, 분류에서는 계층별 k-겹 교차검증의 기본값이 잘 작동함\n",
    "* n_split는 몇 개로 분할할지 결정\n",
    "* shtffle은 데이터 섞어서 샘플의 순서 랜덤하게. \n",
    "* 데이터를 섞을 때 random_state를 고정해서 똑같은 작업을 재현할 수있음\n",
    "* 그렇지 않으면 cross_val_score를 실행할 때마다 폴드가 바뀌어 매번 결과가 달라짐"
   ]
  },
  {
   "cell_type": "code",
   "execution_count": 12,
   "metadata": {},
   "outputs": [],
   "source": [
    "# 설명변수 X, 예측변수 y 할당 (사용하고자하는 정규화 스케일러로 변경 가능)\n",
    "X = MinMaxScaler_data\n",
    "Y = train['credit']"
   ]
  },
  {
   "cell_type": "code",
   "execution_count": 13,
   "metadata": {},
   "outputs": [
    {
     "data": {
      "text/plain": [
       "[(array([    0,     1,     3, ..., 26453, 26454, 26456]),\n",
       "  array([    2,    26,    45, ..., 26446, 26452, 26455])),\n",
       " (array([    2,     3,     6, ..., 26454, 26455, 26456]),\n",
       "  array([    0,     1,     4, ..., 26435, 26447, 26450])),\n",
       " (array([    0,     1,     2, ..., 26453, 26454, 26455]),\n",
       "  array([    3,    12,    16, ..., 26438, 26448, 26456])),\n",
       " (array([    0,     1,     2, ..., 26454, 26455, 26456]),\n",
       "  array([    6,    14,    29, ..., 26440, 26442, 26453])),\n",
       " (array([    0,     1,     2, ..., 26453, 26455, 26456]),\n",
       "  array([    7,     9,    10, ..., 26449, 26451, 26454]))]"
      ]
     },
     "metadata": {},
     "output_type": "display_data"
    }
   ],
   "source": [
    "skf = StratifiedKFold(n_splits=5, shuffle=True, random_state=42) \n",
    "folds=[]\n",
    "\n",
    "# 계층별 k-겹 교차검증을 위해 인덱스를 나누는 코드\n",
    "for train_index, valid_index in skf.split(X, Y):\n",
    "    folds.append((train_index, valid_index))\n",
    "display(folds)"
   ]
  },
  {
   "cell_type": "markdown",
   "metadata": {},
   "source": [
    "* 여기서 앞으로 계속 사용할 X,Y, folds 저장되어 있음"
   ]
  },
  {
   "cell_type": "markdown",
   "metadata": {},
   "source": [
    "### 5-1. LGBM\n",
    "[LGBM 모델 설명](https://lsjsj92.tistory.com/548)\n",
    "#### Training    \n",
    "* LGBM의 기본 파라미터로 훈련\n",
    "* 30번 이상 개선 없을 경우 중단.\n",
    "* 각 5개의 fold를 훈련하여 저장"
   ]
  },
  {
   "cell_type": "code",
   "execution_count": null,
   "metadata": {},
   "outputs": [],
   "source": [
    "random.seed(42)\n",
    "lgb_models={}\n",
    "for fold in range(5):\n",
    "    print(f'===================================={fold+1}============================================')\n",
    "    \n",
    "    # 인덱스를 활용하여 train과 test 셋으로 분할\n",
    "    train_index, valid_index = folds[fold]\n",
    "    X_train, X_valid, Y_train, Y_valid = X.iloc[train_index].values, X.iloc[valid_index].values,\\\n",
    "                                         Y[train_index].values, Y[valid_index].values \n",
    "    \n",
    "    # LGBM 모델 돌리기, \n",
    "    # 30번 이상 개선 없을 시 중단, 5개의 fold를 훈련하여 저장\n",
    "    lgb = LGBMClassifier(n_estimators=1000)\n",
    "    lgb.fit(X_train, Y_train, \n",
    "            eval_set=[(X_train, Y_train), (X_valid, Y_valid)], \n",
    "            early_stopping_rounds=30,\n",
    "           verbose=100)\n",
    "    lgb_models[fold]=lgb\n",
    "    print(f'================================================================================\\n\\n')"
   ]
  },
  {
   "cell_type": "markdown",
   "metadata": {},
   "source": [
    "#### Test inference\n",
    "* 각 폴드를 훈련시킨 LGBM으로 예측\n",
    "* 해당 대회는 logloss score를 겨루는 것이기 때문에 각 class의 probability를 얻어야함\n",
    "* 대부분의 머신러닝 모델에서 predict, predict_proba를 구분하여 사용함.\n",
    "* predict는 class 출력을 해주고 predict_proba는 class 별 probability를 출력해줌\n",
    "* predict_proba를 사용하여 예측한 것을 5-fold 더하여 평균내어 앙상블함"
   ]
  },
  {
   "cell_type": "code",
   "execution_count": null,
   "metadata": {},
   "outputs": [],
   "source": [
    "submit.iloc[:,1:]=0\n",
    "for fold in range(5):\n",
    "    submit.iloc[:,1:] += lgb_models[fold].predict_proba(testSet)/5"
   ]
  },
  {
   "cell_type": "code",
   "execution_count": null,
   "metadata": {},
   "outputs": [],
   "source": [
    "submit.to_csv('./LGBM_test_0422.csv', index=False) # 0.7272812144"
   ]
  },
  {
   "cell_type": "code",
   "execution_count": null,
   "metadata": {},
   "outputs": [],
   "source": [
    "submit.head(20)"
   ]
  },
  {
   "cell_type": "code",
   "execution_count": null,
   "metadata": {},
   "outputs": [],
   "source": [
    "display(X)\n",
    "display(Y)"
   ]
  },
  {
   "cell_type": "markdown",
   "metadata": {},
   "source": [
    "### 5-2. **로지스틱 회귀분석**"
   ]
  },
  {
   "cell_type": "code",
   "execution_count": null,
   "metadata": {},
   "outputs": [],
   "source": [
    "from sklearn.linear_model import LogisticRegression\n",
    "from sklearn.metrics import log_loss\n",
    "\n",
    "random.seed(42)\n",
    "logR_models={}\n",
    "for fold in range(5):\n",
    "    print(f'===================================={fold+1}============================================')\n",
    "    \n",
    "    # 인덱스를 활용하여 train과 test 셋으로 분할\n",
    "    train_index, valid_index = folds[fold]\n",
    "    X_train, X_valid, Y_train, Y_valid = X.iloc[train_index].values, X.iloc[valid_index].values,\\\n",
    "                                         Y[train_index].values, Y[valid_index].values \n",
    "    \n",
    "    # 로지스틱 회귀\n",
    "    logmodel = LogisticRegression(multi_class='multinomial')\n",
    "    logmodel.fit(X_train, Y_train)\n",
    "    print(f'Log Loss: {log_loss(Y_valid, logmodel.predict_proba(X_valid)):.6f}')\n",
    "    logR_models[fold]=logmodel\n",
    "    print('학습용 데이터셋 정확도 : %.5f' % logmodel.score(X_train, Y_train))\n",
    "    print('검증용 데이터셋 정확도 : %.5f' % logmodel.score(X_valid, Y_valid))\n",
    "#     print('컬럼의 계수 확인 : ', logmodel.coef_)\n",
    "    print(f'================================================================================\\n\\n')"
   ]
  },
  {
   "cell_type": "code",
   "execution_count": null,
   "metadata": {},
   "outputs": [],
   "source": [
    "# from sklearn.metrics import classification_report\n",
    "# y_pred=log.predict(X_test)\n",
    "# print(classification_report(y_test, y_pred))\n",
    "\n",
    "# 아래 결과는 md파일 참고\n",
    "# print(log.predict_proba(test))"
   ]
  },
  {
   "cell_type": "code",
   "execution_count": null,
   "metadata": {},
   "outputs": [],
   "source": [
    "# csv 파일 생성\n",
    "submit.iloc[:,1:]=0\n",
    "for fold in range(5):\n",
    "    submit.iloc[:,1:] += logR_models[fold].predict_proba(testSet)/5\n",
    "\n",
    "submit.to_csv('./logR_0422.csv', index=False)"
   ]
  },
  {
   "cell_type": "markdown",
   "metadata": {},
   "source": [
    "### 5-3 KNN"
   ]
  },
  {
   "cell_type": "code",
   "execution_count": null,
   "metadata": {},
   "outputs": [],
   "source": [
    "# 설명변수 X, 예측변수 y 할당\n",
    "X = train[train.columns.difference(['credit'])]\n",
    "y = train['credit']"
   ]
  },
  {
   "cell_type": "code",
   "execution_count": null,
   "metadata": {},
   "outputs": [],
   "source": [
    "# 설명변수 정규화\n",
    "from sklearn import preprocessing\n",
    "X = preprocessing.MinMaxScaler().fit(X).transform(X)"
   ]
  },
  {
   "cell_type": "code",
   "execution_count": null,
   "metadata": {},
   "outputs": [],
   "source": [
    "# 훈련, 검증 데이터를 7:3 비율로 구분\n",
    "from sklearn.model_selection import train_test_split\n",
    "X_train, X_test, y_train, y_test = train_test_split(X, y, test_size=0.3, random_state=10)"
   ]
  },
  {
   "cell_type": "code",
   "execution_count": null,
   "metadata": {},
   "outputs": [],
   "source": [
    "# 최적 k 도출 - Cross Validation 이용\n",
    "# 시간 진 ~ 짜 오래걸리니까 ... 변한거 없으면 그냥 돌리지 마세요 ....!\n",
    "from sklearn.model_selection import cross_val_score\n",
    "from sklearn.neighbors import KNeighborsClassifier\n",
    "\n",
    "k_range = range(1,50) # 1~100 에서 최적 k 찾기\n",
    "k_scores = []\n",
    "\n",
    "for k in k_range :\n",
    "    print(k)\n",
    "    knn = KNeighborsClassifier(k)\n",
    "    scores = cross_val_score(knn, X, y, cv=10, scoring = \"accuracy\") # 10-fold cross validation\n",
    "    k_scores.append(scores.mean())\n",
    "    "
   ]
  },
  {
   "cell_type": "code",
   "execution_count": null,
   "metadata": {},
   "outputs": [],
   "source": [
    "# 최적 k를 그래프로 확인    \n",
    "plt.plot(k_range, k_scores)\n",
    "plt.xlabel('value of K for KNN')\n",
    "plt.ylabel('Cross_Validation Accuracy')\n",
    "plt.show()\n",
    "\n",
    "# k_scores 리스트에서 최댓값의 index 구하기 (최적 k 찾기)\n",
    "k = k_scores.index(max(k_scores)) + 1\n",
    "print(k)"
   ]
  },
  {
   "cell_type": "code",
   "execution_count": null,
   "metadata": {},
   "outputs": [],
   "source": [
    "# 최적 k로 모델 학습\n",
    "# sklearn 라이브러리에서 KNN 분류 모형 가져오기\n",
    "from sklearn.neighbors import KNeighborsClassifier\n",
    "\n",
    "# 모형 객체 생성 (최적 k 사용)\n",
    "knn = KNeighborsClassifier(n_neighbors=75) # 75로 해놓음\n",
    "\n",
    "# train data를 가지고 모형 학습\n",
    "knn.fit(X_train, y_train)\n",
    "\n",
    "# test data를 가지고 예측(분류)하고 예측값을 y_hat에 저장\n",
    "y_hat = knn.predict(X_test)\n",
    "\n",
    "# 시각적으로 확인해보기\n",
    "print(y_hat[0:10])\n",
    "print(y_test.values[0:10])"
   ]
  },
  {
   "cell_type": "code",
   "execution_count": null,
   "metadata": {},
   "outputs": [],
   "source": [
    "# 모형 성능 평가 - confusion Matrix 계산\n",
    "from sklearn import metrics\n",
    "knn_matrix = metrics.confusion_matrix(y_test, y_hat)\n",
    "print(knn_matrix)"
   ]
  },
  {
   "cell_type": "code",
   "execution_count": null,
   "metadata": {},
   "outputs": [],
   "source": [
    "# 모형 성능 평가 - 평가 지표 계산\n",
    "knn_report = metrics.classification_report(y_test, y_hat)\n",
    "print(knn_report)"
   ]
  },
  {
   "cell_type": "markdown",
   "metadata": {},
   "source": [
    "### 5-4. SVM"
   ]
  },
  {
   "cell_type": "code",
   "execution_count": null,
   "metadata": {},
   "outputs": [],
   "source": [
    "from sklearn.model_selection import train_test_split\n",
    "\n",
    "# 설명변수 X, 예측변수 y 할당\n",
    "X = train[train.columns.difference(['credit'])]\n",
    "y = train['credit']\n",
    "\n",
    "# 설명변수 정규화\n",
    "from sklearn import preprocessing\n",
    "X = preprocessing.MinMaxScaler().fit(X).transform(X)\n",
    "\n",
    "X_train, X_test, y_train, y_test = train_test_split(X, y, test_size=0.3, random_state=10)"
   ]
  },
  {
   "cell_type": "code",
   "execution_count": null,
   "metadata": {},
   "outputs": [],
   "source": [
    "from sklearn import svm\n",
    "\n",
    "# 모형 객체 생성 (kernel='rbf' 적용)\n",
    "svm_model = svm.SVC(kernel='rbf', probability=True)\n",
    "\n",
    "# train data를 가지고 모형 학습\n",
    "svm_model.fit(X_train, y_train)   \n",
    "\n",
    "# test data를 가지고 y_hat을 예측 (분류) \n",
    "y_hat = svm_model.predict(X_test)\n",
    "\n",
    "print(y_hat[0:10])\n",
    "print(y_test[0:10])"
   ]
  },
  {
   "cell_type": "code",
   "execution_count": null,
   "metadata": {},
   "outputs": [],
   "source": [
    "# 모형 성능 평가 - Confusion Matrix 계산\n",
    "from sklearn import metrics \n",
    "svm_matrix = metrics.confusion_matrix(y_test, y_hat)  \n",
    "print(svm_matrix)\n",
    "print('\\n')\n",
    "\n",
    "# 모형 성능 평가 - 평가지표 계산\n",
    "svm_report = metrics.classification_report(y_test, y_hat)            \n",
    "print(svm_report)"
   ]
  },
  {
   "cell_type": "code",
   "execution_count": null,
   "metadata": {},
   "outputs": [],
   "source": [
    "# csv 파일 생성\n",
    "submit.iloc[:,1:]=0\n",
    "submit.iloc[:,1:] =log.predict_proba(test)\n",
    "\n",
    "submit.to_csv('./20210422_test_submit_svm.csv', index=False)"
   ]
  },
  {
   "cell_type": "markdown",
   "metadata": {},
   "source": [
    "* logloss"
   ]
  },
  {
   "cell_type": "code",
   "execution_count": null,
   "metadata": {},
   "outputs": [],
   "source": [
    "print(svm_model.predict_proba(X_test))"
   ]
  },
  {
   "cell_type": "code",
   "execution_count": null,
   "metadata": {},
   "outputs": [],
   "source": [
    "from sklearn.metrics import log_loss\n",
    "print(log_loss(y_test, svm_model.predict_proba(X_test)))"
   ]
  },
  {
   "cell_type": "markdown",
   "metadata": {},
   "source": [
    "### AdaBoost"
   ]
  },
  {
   "cell_type": "code",
   "execution_count": 14,
   "metadata": {},
   "outputs": [],
   "source": [
    "from sklearn.ensemble import AdaBoostClassifier\n",
    "from sklearn.tree import DecisionTreeClassifier"
   ]
  },
  {
   "cell_type": "code",
   "execution_count": 15,
   "metadata": {},
   "outputs": [],
   "source": [
    "# 랜덤 서치를 활용한 최적의 매개변수 값 찾기\n",
    "from scipy.stats import uniform, randint"
   ]
  },
  {
   "cell_type": "code",
   "execution_count": 16,
   "metadata": {},
   "outputs": [],
   "source": [
    "params = {'min_inpurity_decrease' : uniform(0.0001, 0.001),\n",
    "         'max_depth' : randint(20, 50),\n",
    "         'min_samples_split' : randint(2, 25),\n",
    "         'min_samples_leaf' : randint(1, 25),}\n",
    "\n",
    "from sklearn.model_selection import RandomizedSearchCV"
   ]
  },
  {
   "cell_type": "code",
   "execution_count": 4,
   "metadata": {},
   "outputs": [
    {
     "ename": "NameError",
     "evalue": "name 'X' is not defined",
     "output_type": "error",
     "traceback": [
      "\u001b[1;31m---------------------------------------------------------------------------\u001b[0m",
      "\u001b[1;31mNameError\u001b[0m                                 Traceback (most recent call last)",
      "\u001b[1;32m<ipython-input-4-0e49daad9dde>\u001b[0m in \u001b[0;36m<module>\u001b[1;34m\u001b[0m\n\u001b[1;32m----> 1\u001b[1;33m \u001b[0mX_train\u001b[0m\u001b[1;33m,\u001b[0m \u001b[0mX_valid\u001b[0m\u001b[1;33m,\u001b[0m \u001b[0mY_train\u001b[0m\u001b[1;33m,\u001b[0m \u001b[0mY_valid\u001b[0m \u001b[1;33m=\u001b[0m \u001b[0mX\u001b[0m\u001b[1;33m.\u001b[0m\u001b[0miloc\u001b[0m\u001b[1;33m[\u001b[0m\u001b[0mtrain_index\u001b[0m\u001b[1;33m]\u001b[0m\u001b[1;33m.\u001b[0m\u001b[0mvalues\u001b[0m\u001b[1;33m,\u001b[0m \u001b[0mX\u001b[0m\u001b[1;33m.\u001b[0m\u001b[0miloc\u001b[0m\u001b[1;33m[\u001b[0m\u001b[0mvalid_index\u001b[0m\u001b[1;33m]\u001b[0m\u001b[1;33m.\u001b[0m\u001b[0mvalues\u001b[0m\u001b[1;33m,\u001b[0m\u001b[0;31m\\\u001b[0m\u001b[1;33m\u001b[0m\u001b[1;33m\u001b[0m\u001b[0m\n\u001b[0m\u001b[0;32m      2\u001b[0m                                          \u001b[0mY\u001b[0m\u001b[1;33m[\u001b[0m\u001b[0mtrain_index\u001b[0m\u001b[1;33m]\u001b[0m\u001b[1;33m.\u001b[0m\u001b[0mvalues\u001b[0m\u001b[1;33m,\u001b[0m \u001b[0mY\u001b[0m\u001b[1;33m[\u001b[0m\u001b[0mvalid_index\u001b[0m\u001b[1;33m]\u001b[0m\u001b[1;33m.\u001b[0m\u001b[0mvalues\u001b[0m\u001b[1;33m\u001b[0m\u001b[1;33m\u001b[0m\u001b[0m\n\u001b[0;32m      3\u001b[0m \u001b[1;31m#gs = RandomizedSearchCV(DecisionTreeClassifier(random_state=42), params, n_iter=100, n_jobs=-1, random_state=42)\u001b[0m\u001b[1;33m\u001b[0m\u001b[1;33m\u001b[0m\u001b[1;33m\u001b[0m\u001b[0m\n\u001b[0;32m      4\u001b[0m \u001b[1;31m#gs.fit(X_train, Y_train)\u001b[0m\u001b[1;33m\u001b[0m\u001b[1;33m\u001b[0m\u001b[1;33m\u001b[0m\u001b[0m\n\u001b[0;32m      5\u001b[0m \u001b[1;31m#print(gs.best_params_)\u001b[0m\u001b[1;33m\u001b[0m\u001b[1;33m\u001b[0m\u001b[1;33m\u001b[0m\u001b[0m\n",
      "\u001b[1;31mNameError\u001b[0m: name 'X' is not defined"
     ]
    }
   ],
   "source": [
    "X_train, X_valid, Y_train, Y_valid = X.iloc[train_index].values, X.iloc[valid_index].values,\\\n",
    "                                         Y[train_index].values, Y[valid_index].values \n",
    "#gs = RandomizedSearchCV(DecisionTreeClassifier(random_state=42), params, n_iter=100, n_jobs=-1, random_state=42)\n",
    "#gs.fit(X_train, Y_train)\n",
    "#print(gs.best_params_)\n",
    "#print(X_train)\n",
    "print(X_train)"
   ]
  },
  {
   "cell_type": "code",
   "execution_count": null,
   "metadata": {},
   "outputs": [],
   "source": [
    "random.seed(42)\n",
    "Ada_models={}\n",
    "for fold in range(5):\n",
    "    print(f'===================================={fold+1}============================================')\n",
    "    \n",
    "    # 인덱스를 활용하여 train과 test 셋으로 분할\n",
    "    train_index, valid_index = folds[fold]\n",
    "    X_train, X_valid, Y_train, Y_valid = X.iloc[train_index].values, X.iloc[valid_index].values,\\\n",
    "                                         Y[train_index].values, Y[valid_index].values \n",
    "    \n",
    "    # 랜덤 서치를 통해 최적의 하이퍼파라미터 찾기\n",
    "    gs = RandomizedSearchCV(DecisionTreeClassifier(random_state=42), params, n_iter=100, n_jobs=-1, random_state=42)\n",
    "    gs.fit(X_train, Y_train)\n",
    "    print(gs.best_params_)\n",
    "    \n",
    "    # 30번 이상 개선 없을 시 중단, 5개의 fold를 훈련하여 저장\n",
    "    Ada = AdaBoostClassifier(base_estimator=gs.best_estimator_, n_estimators=1000, learning_rate=1., random_state=42)\n",
    "    Ada.fit(X_train, Y_train)\n",
    "    print(f'Log Loss: {log_loss(Y_valid, Ada.predict_proba(X_valid)):.6f}')\n",
    "    Ada_models[fold]=Ada\n",
    "    print('학습용 데이터셋 정확도 : %.5f' % Ada.score(X_train, Y_train))\n",
    "    print('검증용 데이터셋 정확도 : %.5f' % Ada.score(X_valid, Y_valid))\n",
    "\n",
    "    print(f'================================================================================\\n\\n')"
   ]
  },
  {
   "cell_type": "code",
   "execution_count": null,
   "metadata": {},
   "outputs": [],
   "source": [
    "base_model = DecisionTreeClassifier(\n",
    "    max_depth = 4,\n",
    "    max_features = 'auto', \n",
    "    class_weight = 'balanced',\n",
    "    random_state = 42)"
   ]
  },
  {
   "cell_type": "code",
   "execution_count": null,
   "metadata": {},
   "outputs": [],
   "source": [
    "random.seed(42)\n",
    "Ada_models={}\n",
    "for fold in range(5):\n",
    "    print(f'===================================={fold+1}============================================')\n",
    "    \n",
    "    # 인덱스를 활용하여 train과 test 셋으로 분할\n",
    "    train_index, valid_index = folds[fold]\n",
    "    X_train, X_valid, Y_train, Y_valid = X.iloc[train_index].values, X.iloc[valid_index].values,\\\n",
    "                                         Y[train_index].values, Y[valid_index].values \n",
    "    \n",
    "    # LGBM 모델 돌리기, \n",
    "    # 30번 이상 개선 없을 시 중단, 5개의 fold를 훈련하여 저장\n",
    "    Ada = AdaBoostClassifier(base_estimator=base_model, n_estimators=1000, learning_rate=1., random_state=42)\n",
    "    Ada.fit(X_train, Y_train)\n",
    "    print(f'Log Loss: {log_loss(Y_valid, Ada.predict_proba(X_valid)):.6f}')\n",
    "    Ada_models[fold]=Ada\n",
    "    print('학습용 데이터셋 정확도 : %.5f' % Ada.score(X_train, Y_train))\n",
    "    print('검증용 데이터셋 정확도 : %.5f' % Ada.score(X_valid, Y_valid))\n",
    "\n",
    "    print(f'================================================================================\\n\\n')"
   ]
  },
  {
   "cell_type": "markdown",
   "metadata": {},
   "source": [
    "* 그리드서치"
   ]
  },
  {
   "cell_type": "code",
   "execution_count": 21,
   "metadata": {},
   "outputs": [],
   "source": [
    "from sklearn.model_selection import GridSearchCV\n",
    "params = {'min_inpurity_decrease':[0.0001, 0.0002, 0.0003, 0.0004, 0.0005]}\n",
    "gs = GridSearchCV(DecisionTreeClassifier(random_state=42), params, cv=5, n_jobs=-1)"
   ]
  },
  {
   "cell_type": "code",
   "execution_count": 1,
   "metadata": {},
   "outputs": [
    {
     "ename": "NameError",
     "evalue": "name 'gs' is not defined",
     "output_type": "error",
     "traceback": [
      "\u001b[1;31m---------------------------------------------------------------------------\u001b[0m",
      "\u001b[1;31mNameError\u001b[0m                                 Traceback (most recent call last)",
      "\u001b[1;32m<ipython-input-1-c8b8feb86722>\u001b[0m in \u001b[0;36m<module>\u001b[1;34m\u001b[0m\n\u001b[1;32m----> 1\u001b[1;33m \u001b[0mgs\u001b[0m\u001b[1;33m.\u001b[0m\u001b[0mfit\u001b[0m\u001b[1;33m(\u001b[0m\u001b[0mX_train\u001b[0m\u001b[1;33m,\u001b[0m \u001b[0mY_train\u001b[0m\u001b[1;33m)\u001b[0m\u001b[1;33m\u001b[0m\u001b[1;33m\u001b[0m\u001b[0m\n\u001b[0m",
      "\u001b[1;31mNameError\u001b[0m: name 'gs' is not defined"
     ]
    }
   ],
   "source": [
    "gs.fit(X_train, Y_train)"
   ]
  }
 ],
 "metadata": {
  "kernelspec": {
   "display_name": "pydatavenv",
   "language": "python",
   "name": "pydatavenv"
  },
  "language_info": {
   "codemirror_mode": {
    "name": "ipython",
    "version": 3
   },
   "file_extension": ".py",
   "mimetype": "text/x-python",
   "name": "python",
   "nbconvert_exporter": "python",
   "pygments_lexer": "ipython3",
   "version": "3.8.8"
  }
 },
 "nbformat": 4,
 "nbformat_minor": 4
}
