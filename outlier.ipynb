{
 "cells": [
  {
   "cell_type": "markdown",
   "metadata": {},
   "source": [
    "# *BASECODE 작성*\n",
    "\n",
    "* 가상환경 activate 후 lightgbm 설치\n",
    "* conda install -c conda-forge lightgbm"
   ]
  },
  {
   "cell_type": "code",
   "execution_count": 119,
   "metadata": {},
   "outputs": [],
   "source": [
    "import warnings\n",
    "warnings.filterwarnings('ignore')\n",
    "import glob\n",
    "import pandas as pd\n",
    "import numpy as np\n",
    "from lightgbm import LGBMClassifier\n",
    "from sklearn.model_selection import StratifiedKFold\n",
    "from sklearn.preprocessing import OneHotEncoder\n",
    "from sklearn import preprocessing\n",
    "import random\n",
    "import seaborn as sns\n",
    "import matplotlib.pyplot as plt\n",
    "plt.style.use('seaborn')\n",
    "from sklearn.model_selection import train_test_split\n",
    "from sklearn import preprocessing\n",
    "from sklearn.metrics import log_loss"
   ]
  },
  {
   "cell_type": "markdown",
   "metadata": {},
   "source": [
    "## 0. **데이터 로드**\n",
    "* 훈련에 필요없는 index 컬럼 삭제\n",
    "#### 변수\n",
    "* train : `train.csv`\n",
    "* test : `test.csv`"
   ]
  },
  {
   "cell_type": "code",
   "execution_count": 120,
   "metadata": {},
   "outputs": [],
   "source": [
    "# 데이터 불러오기\n",
    "train = pd.read_csv('./train.csv')\n",
    "train = train.drop(['index'], axis=1)\n",
    "\n",
    "test = pd.read_csv('./test.csv')\n",
    "test = test.drop(['index'], axis=1)\n",
    "\n",
    "submit = pd.read_csv('./sample_submission.csv')"
   ]
  },
  {
   "cell_type": "markdown",
   "metadata": {},
   "source": [
    "### 데이터 전처리\n",
    "http://www.dodomira.com/2016/10/20/how_to_eda/ \n",
    "\n",
    "링크 참고 "
   ]
  },
  {
   "cell_type": "markdown",
   "metadata": {},
   "source": [
    "## 1. **데이터 셋 확인**\n",
    "\n",
    "* 이전 EDA 코드 돌려봤기에 코드를 직접 합치지는 않았음"
   ]
  },
  {
   "cell_type": "markdown",
   "metadata": {},
   "source": [
    "#### object 8개, int64 7개 , float64 4개 있음.\n",
    "-------------------------"
   ]
  },
  {
   "cell_type": "markdown",
   "metadata": {},
   "source": [
    "## 2. **결측치 처리**\n",
    "* 결측치는 직업 유형에만 존재함 -> 'unfilled'로 대체함. \n",
    "* 향후 '직업 유형의 결측치를 어떻게 해결할 것 인가' 고민이 필요함."
   ]
  },
  {
   "cell_type": "code",
   "execution_count": null,
   "metadata": {},
   "outputs": [],
   "source": [
    "test['occyp_type'].count"
   ]
  },
  {
   "cell_type": "code",
   "execution_count": null,
   "metadata": {},
   "outputs": [],
   "source": [
    "test['occyp_type'].isnull().sum()"
   ]
  },
  {
   "cell_type": "code",
   "execution_count": 121,
   "metadata": {},
   "outputs": [
    {
     "name": "stdout",
     "output_type": "stream",
     "text": [
      "훈련데이터 결측치 합 \n",
      " gender              0\n",
      "car                 0\n",
      "reality             0\n",
      "child_num           0\n",
      "income_total        0\n",
      "income_type         0\n",
      "edu_type            0\n",
      "family_type         0\n",
      "house_type          0\n",
      "DAYS_BIRTH          0\n",
      "DAYS_EMPLOYED       0\n",
      "FLAG_MOBIL          0\n",
      "work_phone          0\n",
      "phone               0\n",
      "email               0\n",
      "occyp_type       8171\n",
      "family_size         0\n",
      "begin_month         0\n",
      "credit              0\n",
      "dtype: int64\n",
      "테스트데이터 결측치 합 \n",
      " gender              0\n",
      "car                 0\n",
      "reality             0\n",
      "child_num           0\n",
      "income_total        0\n",
      "income_type         0\n",
      "edu_type            0\n",
      "family_type         0\n",
      "house_type          0\n",
      "DAYS_BIRTH          0\n",
      "DAYS_EMPLOYED       0\n",
      "FLAG_MOBIL          0\n",
      "work_phone          0\n",
      "phone               0\n",
      "email               0\n",
      "occyp_type       3152\n",
      "family_size         0\n",
      "begin_month         0\n",
      "dtype: int64\n"
     ]
    }
   ],
   "source": [
    "# 결측치 확인\n",
    "print('훈련데이터 결측치 합 \\n', train.isnull().sum())\n",
    "print('테스트데이터 결측치 합 \\n', test.isnull().sum())"
   ]
  },
  {
   "cell_type": "code",
   "execution_count": null,
   "metadata": {},
   "outputs": [],
   "source": [
    "# 결측치 처리\n",
    "print()\n",
    "train['occyp_type'].fillna('unfilled', inplace=True) # 직업 유형 경우, 결측치가 많아서 따로 'unfilled' 라고 채움\n",
    "test['occyp_type'].fillna('unfilled', inplace=True)\n",
    "train.fillna('NAN', inplace=True) \n",
    "test.fillna('NAN', inplace=True)\n",
    "\n",
    "# 확인\n",
    "print('훈련데이터 결측치 합 \\n', train.isnull().sum())\n",
    "print('테스트데이터 결측치 합 \\n', test.isnull().sum())"
   ]
  },
  {
   "cell_type": "code",
   "execution_count": 122,
   "metadata": {},
   "outputs": [
    {
     "name": "stdout",
     "output_type": "stream",
     "text": [
      "훈련데이터 결측치 합 \n",
      " gender           0\n",
      "car              0\n",
      "reality          0\n",
      "child_num        0\n",
      "income_total     0\n",
      "income_type      0\n",
      "edu_type         0\n",
      "family_type      0\n",
      "house_type       0\n",
      "DAYS_BIRTH       0\n",
      "DAYS_EMPLOYED    0\n",
      "FLAG_MOBIL       0\n",
      "work_phone       0\n",
      "phone            0\n",
      "email            0\n",
      "occyp_type       0\n",
      "family_size      0\n",
      "begin_month      0\n",
      "credit           0\n",
      "dtype: int64\n",
      "테스트데이터 결측치 합 \n",
      " gender           0\n",
      "car              0\n",
      "reality          0\n",
      "child_num        0\n",
      "income_total     0\n",
      "income_type      0\n",
      "edu_type         0\n",
      "family_type      0\n",
      "house_type       0\n",
      "DAYS_BIRTH       0\n",
      "DAYS_EMPLOYED    0\n",
      "FLAG_MOBIL       0\n",
      "work_phone       0\n",
      "phone            0\n",
      "email            0\n",
      "occyp_type       0\n",
      "family_size      0\n",
      "begin_month      0\n",
      "dtype: int64\n"
     ]
    }
   ],
   "source": [
    "# 결측치 처리 - Retired / NAN으로 나누어 채우기\n",
    "cond = (train['income_type'] == 'Pensioner')\n",
    "train['occyp_type'] = train['occyp_type'].fillna(cond.map({True:'Retired', False: 'NaN'}))\n",
    "train[(train['occyp_type'] == 'Retired')].count()\n",
    "\n",
    "cond1 = (test['income_type'] == 'Pensioner')\n",
    "test['occyp_type'] = test['occyp_type'].fillna(cond1.map({True:'Retired', False: 'NaN'}))\n",
    "test[(test['occyp_type'] == 'Retired')].count()\n",
    "\n",
    "# 확인\n",
    "print('훈련데이터 결측치 합 \\n', train.isnull().sum())\n",
    "print('테스트데이터 결측치 합 \\n', test.isnull().sum())"
   ]
  },
  {
   "cell_type": "markdown",
   "metadata": {},
   "source": [
    "## 3. **이상치 처리**\n",
    "* 정수형, 실수형 데이터에서 이상치 찾아보고, 그에 맞게 처리하자."
   ]
  },
  {
   "cell_type": "markdown",
   "metadata": {},
   "source": [
    "### **3-1. 각 컬럼 데이터 변환 and 이상치 처리**\n",
    "* 정수/실수형 데이터를 가진 10개 컬럼 중 휴대전화/직장전화/가정용전화/이메일 보유여부는 이상치 없음. (1아니면 0이니깐)\n",
    "* 이 외에 6개 컬럼들 하나씩 살펴보기\n",
    " * 6개: 자녀 수, 가족 규모, 연간 소득, 출생일, 업무 시작일, 신용카드 발급 월 \n",
    " * 또한 분석하기 용이하게 데이터 변경 (ex) 부호 변환 or 일 수를 나이로)"
   ]
  },
  {
   "cell_type": "markdown",
   "metadata": {},
   "source": [
    "#### 1) 자녀 수\n",
    "* 6명 이상의 자녀를 가진 사람은 5명으로 변경 -> 이유: test set에서 자녀의 수 max가 5 이기 때문. "
   ]
  },
  {
   "cell_type": "code",
   "execution_count": 133,
   "metadata": {},
   "outputs": [
    {
     "name": "stdout",
     "output_type": "stream",
     "text": [
      "childnum unique: [0 1 2 3 4 5]\n"
     ]
    },
    {
     "data": {
      "text/plain": [
       "<AxesSubplot:xlabel='child_num'>"
      ]
     },
     "execution_count": 133,
     "metadata": {},
     "output_type": "execute_result"
    },
    {
     "data": {
      "image/png": "[encoded data removed]",
      "text/plain": [
       "<Figure size 576x396 with 1 Axes>"
      ]
     },
     "metadata": {},
     "output_type": "display_data"
    }
   ],
   "source": [
    "# 아이가 6명 이상인 데이터는 5로 변경\n",
    "train.loc[train['child_num'] >= 6,'child_num']=5\n",
    "print('childnum unique:', train['child_num'].unique())\n",
    "sns.distplot(train['child_num'], kde=False, label='child_num')"
   ]
  },
  {
   "cell_type": "code",
   "execution_count": 143,
   "metadata": {},
   "outputs": [
    {
     "name": "stdout",
     "output_type": "stream",
     "text": [
      "childnum unique: [0 1 2 3 4]\n"
     ]
    },
    {
     "data": {
      "text/plain": [
       "<AxesSubplot:xlabel='child_num'>"
      ]
     },
     "execution_count": 143,
     "metadata": {},
     "output_type": "execute_result"
    },
    {
     "data": {
      "image/png": "[encoded data removed]",
      "text/plain": [
       "<Figure size 576x396 with 1 Axes>"
      ]
     },
     "metadata": {},
     "output_type": "display_data"
    }
   ],
   "source": [
    "# 아이가 5명 이상인 데이터는 4로 변경\n",
    "train.loc[train['child_num'] >= 5,'child_num']=4\n",
    "print('childnum unique:', train['child_num'].unique())\n",
    "sns.distplot(train['child_num'], kde=False, label='child_num')"
   ]
  },
  {
   "cell_type": "code",
   "execution_count": 152,
   "metadata": {},
   "outputs": [
    {
     "name": "stdout",
     "output_type": "stream",
     "text": [
      "childnum unique: [0 1 2 3]\n"
     ]
    },
    {
     "data": {
      "text/plain": [
       "<AxesSubplot:xlabel='child_num'>"
      ]
     },
     "execution_count": 152,
     "metadata": {},
     "output_type": "execute_result"
    },
    {
     "data": {
      "image/png": "[encoded data removed]",
      "text/plain": [
       "<Figure size 576x396 with 1 Axes>"
      ]
     },
     "metadata": {},
     "output_type": "display_data"
    }
   ],
   "source": [
    "# 아이가 4명 이상인 데이터는 3로 변경\n",
    "train.loc[train['child_num'] >= 4,'child_num']=3\n",
    "print('childnum unique:', train['child_num'].unique())\n",
    "sns.distplot(train['child_num'], kde=False, label='child_num')"
   ]
  },
  {
   "cell_type": "code",
   "execution_count": null,
   "metadata": {},
   "outputs": [],
   "source": [
    "# 아이가 3명 이상인 데이터는 2로 변경\n",
    "train.loc[train['child_num'] >= 3,'child_num']=2\n",
    "print('childnum unique:', train['child_num'].unique())\n",
    "sns.distplot(train['child_num'], kde=False, label='child_num')"
   ]
  },
  {
   "cell_type": "markdown",
   "metadata": {},
   "source": [
    "#### 2) 가족 규모\n",
    "* 1의 이유와 같이 최대 아이 숫자를 5로 했기 때문에 가족 규모의 최댓값도 7로 변경함"
   ]
  },
  {
   "cell_type": "code",
   "execution_count": 134,
   "metadata": {},
   "outputs": [],
   "source": [
    "train.loc[train['family_size'] >= 8,'family_size']=7"
   ]
  },
  {
   "cell_type": "code",
   "execution_count": 144,
   "metadata": {},
   "outputs": [],
   "source": [
    "# 가족 규모의 최댓값도 6으로 변경\n",
    "train.loc[train['family_size'] >= 7,'family_size']=6"
   ]
  },
  {
   "cell_type": "code",
   "execution_count": 153,
   "metadata": {},
   "outputs": [],
   "source": [
    "# 가족 규모의 최댓값도 5으로 변경\n",
    "train.loc[train['family_size'] >= 6,'family_size']=5"
   ]
  },
  {
   "cell_type": "code",
   "execution_count": null,
   "metadata": {},
   "outputs": [],
   "source": [
    "# 가족 규모의 최댓값도 4으로 변경\n",
    "train.loc[train['family_size'] >= 5,'family_size']=4"
   ]
  },
  {
   "cell_type": "code",
   "execution_count": null,
   "metadata": {},
   "outputs": [],
   "source": [
    "print('train familysize unique:', train['family_size'].unique())\n",
    "sns.distplot(train['family_size'], kde=False, label='family_size')"
   ]
  },
  {
   "cell_type": "markdown",
   "metadata": {},
   "source": [
    "#### 3) 연간 소득\n",
    "* 테스트 데이터에서도 박스플롯 밖의 값이 많이 있기에 박스플롯 밖의 값 제거 안하기로 결정"
   ]
  },
  {
   "cell_type": "markdown",
   "metadata": {},
   "source": [
    "#### 4) 출생일 -> 나이\n",
    "* 양수 변환 후 나이로 변환\n",
    "* 정수형으로 변환"
   ]
  },
  {
   "cell_type": "code",
   "execution_count": 123,
   "metadata": {},
   "outputs": [
    {
     "data": {
      "text/plain": [
       "0        38\n",
       "1        31\n",
       "2        52\n",
       "3        41\n",
       "4        41\n",
       "         ..\n",
       "26452    33\n",
       "26453    41\n",
       "26454    27\n",
       "26455    27\n",
       "26456    53\n",
       "Name: DAYS_BIRTH, Length: 26457, dtype: int32"
      ]
     },
     "metadata": {},
     "output_type": "display_data"
    },
    {
     "data": {
      "text/plain": [
       "0       60\n",
       "1       51\n",
       "2       43\n",
       "3       52\n",
       "4       48\n",
       "        ..\n",
       "9995    50\n",
       "9996    29\n",
       "9997    57\n",
       "9998    45\n",
       "9999    25\n",
       "Name: DAYS_BIRTH, Length: 10000, dtype: int32"
      ]
     },
     "metadata": {},
     "output_type": "display_data"
    }
   ],
   "source": [
    "def days_to_age(x):\n",
    "    return (x*-1)/365\n",
    "\n",
    "# train\n",
    "train['DAYS_BIRTH'] = train['DAYS_BIRTH'].apply(days_to_age)\n",
    "train['DAYS_BIRTH'] = train['DAYS_BIRTH'].astype({'DAYS_BIRTH':'int'})\n",
    "display(train['DAYS_BIRTH'])\n",
    "\n",
    "# test\n",
    "test['DAYS_BIRTH'] = test['DAYS_BIRTH'].apply(days_to_age)\n",
    "test['DAYS_BIRTH'] = test['DAYS_BIRTH'].astype({'DAYS_BIRTH':'int'})\n",
    "display(test['DAYS_BIRTH'])"
   ]
  },
  {
   "cell_type": "markdown",
   "metadata": {},
   "source": [
    "#### 5) 업무시작일 -> 업무 연차\n",
    "* 양수 변환 후 연차로 변환\n",
    "    * 단, 365243은 0연차로 변환\n",
    "    * 135일 일한 사람과 0연차를 구분하기 위해서 0연차를 제외하고 모두 +1 해줌\n",
    "* 정수형으로 변환"
   ]
  },
  {
   "cell_type": "code",
   "execution_count": 124,
   "metadata": {},
   "outputs": [
    {
     "data": {
      "text/plain": [
       "0        13\n",
       "1         5\n",
       "2        13\n",
       "3         6\n",
       "4         6\n",
       "         ..\n",
       "26452     6\n",
       "26453     7\n",
       "26454     6\n",
       "26455     1\n",
       "26456     3\n",
       "Name: DAYS_EMPLOYED, Length: 26457, dtype: int32"
      ]
     },
     "metadata": {},
     "output_type": "display_data"
    },
    {
     "data": {
      "text/plain": [
       "0        0\n",
       "1       24\n",
       "2        1\n",
       "3        7\n",
       "4       26\n",
       "        ..\n",
       "9995    15\n",
       "9996     4\n",
       "9997    39\n",
       "9998     3\n",
       "9999     1\n",
       "Name: DAYS_EMPLOYED, Length: 10000, dtype: int32"
      ]
     },
     "metadata": {},
     "output_type": "display_data"
    }
   ],
   "source": [
    "def days_to_year(x):\n",
    "    if x==365243 :\n",
    "        return 0\n",
    "    return (x*-1)/365+1\n",
    "\n",
    "# train\n",
    "train['DAYS_EMPLOYED'] = train['DAYS_EMPLOYED'].apply(days_to_year)\n",
    "train['DAYS_EMPLOYED'] = train['DAYS_EMPLOYED'].astype({'DAYS_EMPLOYED':'int'})\n",
    "display(train['DAYS_EMPLOYED'])\n",
    "\n",
    "# test\n",
    "test['DAYS_EMPLOYED'] = test['DAYS_EMPLOYED'].apply(days_to_year)\n",
    "test['DAYS_EMPLOYED'] = test['DAYS_EMPLOYED'].astype({'DAYS_EMPLOYED':'int'})\n",
    "display(test['DAYS_EMPLOYED'])"
   ]
  },
  {
   "cell_type": "markdown",
   "metadata": {},
   "source": [
    "#### 6) 신용카드 발급 월"
   ]
  },
  {
   "cell_type": "markdown",
   "metadata": {},
   "source": [
    "* 양수로 변환"
   ]
  },
  {
   "cell_type": "code",
   "execution_count": 125,
   "metadata": {},
   "outputs": [
    {
     "data": {
      "text/plain": [
       "0         6\n",
       "1         5\n",
       "2        22\n",
       "3        37\n",
       "4        26\n",
       "         ..\n",
       "26452     2\n",
       "26453    47\n",
       "26454    25\n",
       "26455    59\n",
       "26456     9\n",
       "Name: begin_month, Length: 26457, dtype: int64"
      ]
     },
     "metadata": {},
     "output_type": "display_data"
    },
    {
     "data": {
      "text/plain": [
       "0       60.0\n",
       "1       36.0\n",
       "2       40.0\n",
       "3       41.0\n",
       "4        8.0\n",
       "        ... \n",
       "9995    19.0\n",
       "9996    34.0\n",
       "9997    55.0\n",
       "9998    33.0\n",
       "9999    11.0\n",
       "Name: begin_month, Length: 10000, dtype: float64"
      ]
     },
     "metadata": {},
     "output_type": "display_data"
    }
   ],
   "source": [
    "def minus(x):\n",
    "    return x * -1\n",
    "\n",
    "# train\n",
    "train['begin_month'] = train['begin_month'].apply(minus)\n",
    "display(train['begin_month'])\n",
    "\n",
    "# test\n",
    "test['begin_month'] = test['begin_month'].apply(minus)\n",
    "display(test['begin_month'])"
   ]
  },
  {
   "cell_type": "markdown",
   "metadata": {},
   "source": [
    "#### 7) 박스 플롯을 통한 이상치 확인\n",
    "* 박스플롯"
   ]
  },
  {
   "cell_type": "markdown",
   "metadata": {},
   "source": [
    "#### 8) 상관관계\n",
    "* 범주형과 수치형 상관관계 확인 - https://dodonam.tistory.com/217"
   ]
  },
  {
   "cell_type": "markdown",
   "metadata": {},
   "source": [
    "## 4. **Feature Engineering** - 여기에 정규화 포함시켜야 할듯요!\n",
    "\n",
    "* 수치형 컬럼은 기존 데이터 분포와 비슷하고, 어느정도 일정한 범위를 갖게 정규화해야함\n",
    "* 각 컬럼마다 동일한 스케일러 적용할 필요는 없음. \n",
    "* [다른 스케일러 적용한 사례- 블로그](https://lsjsj92.tistory.com/555?category=853217)"
   ]
  },
  {
   "cell_type": "markdown",
   "metadata": {},
   "source": [
    "### 4-1. 범주형 데이터 one-hot encoding, label encoding\n",
    "* object (범주형)은 원핫인코딩 하기.\n",
    "    * 단, occyp_type은 라벨 인코딩.\n",
    "* 범주형 데이터를 가지는 변수 확인 (dtype가 object)\n",
    "* gender(2), car(2), reality(2), income_type(5), edu_type(5), family_type(5), house_type(6), occyp_type(18)"
   ]
  },
  {
   "cell_type": "code",
   "execution_count": 154,
   "metadata": {},
   "outputs": [
    {
     "data": {
      "text/plain": [
       "[]"
      ]
     },
     "metadata": {},
     "output_type": "display_data"
    }
   ],
   "source": [
    "# object 객체를 가지는 변수(열) 확인\n",
    "object_col = []\n",
    "for col in train.columns:\n",
    "    if train[col].dtype == 'object' : # and col!='occyp_type': # 변수가 18개인 occyp_type만 제외\n",
    "        object_col.append(col)\n",
    "display(object_col)"
   ]
  },
  {
   "cell_type": "markdown",
   "metadata": {},
   "source": [
    "#### 4-1-1. train의 원핫인코딩, 라벨인코딩"
   ]
  },
  {
   "cell_type": "code",
   "execution_count": 155,
   "metadata": {},
   "outputs": [],
   "source": [
    "# occyp_type을 제외한 모든 object객체 열을 onehot encoding\n",
    "\n",
    "enc = OneHotEncoder()\n",
    "enc.fit(train.loc[:,object_col])\n",
    "\n",
    "train_onehot_df = pd.DataFrame(enc.transform(train.loc[:,object_col]).toarray(), \n",
    "             columns=enc.get_feature_names(object_col))\n",
    "train.drop(object_col, axis=1, inplace=True)\n",
    "train = pd.concat([train, train_onehot_df], axis=1)"
   ]
  },
  {
   "cell_type": "markdown",
   "metadata": {},
   "source": [
    "#### 4-1-2. test의 원핫인코딩, 라벨인코딩"
   ]
  },
  {
   "cell_type": "markdown",
   "metadata": {},
   "source": [
    "### 4-2. 데이터 정규화"
   ]
  },
  {
   "cell_type": "markdown",
   "metadata": {},
   "source": [
    "#### 정규화 전 분포도\n",
    "* 수치형 데이터만"
   ]
  },
  {
   "cell_type": "markdown",
   "metadata": {},
   "source": [
    "#### 4-2-1. MinMaxScaler"
   ]
  },
  {
   "cell_type": "code",
   "execution_count": 156,
   "metadata": {},
   "outputs": [
    {
     "name": "stdout",
     "output_type": "stream",
     "text": [
      "MinMaxScaler()\n"
     ]
    },
    {
     "data": {
      "text/html": [
       "<div>\n",
       "<style scoped>\n",
       "    .dataframe tbody tr th:only-of-type {\n",
       "        vertical-align: middle;\n",
       "    }\n",
       "\n",
       "    .dataframe tbody tr th {\n",
       "        vertical-align: top;\n",
       "    }\n",
       "\n",
       "    .dataframe thead th {\n",
       "        text-align: right;\n",
       "    }\n",
       "</style>\n",
       "<table border=\"1\" class=\"dataframe\">\n",
       "  <thead>\n",
       "    <tr style=\"text-align: right;\">\n",
       "      <th></th>\n",
       "      <th>DAYS_BIRTH</th>\n",
       "      <th>DAYS_EMPLOYED</th>\n",
       "      <th>FLAG_MOBIL</th>\n",
       "      <th>begin_month</th>\n",
       "      <th>car_N</th>\n",
       "      <th>car_Y</th>\n",
       "      <th>child_num</th>\n",
       "      <th>edu_type_Academic degree</th>\n",
       "      <th>edu_type_Higher education</th>\n",
       "      <th>edu_type_Incomplete higher</th>\n",
       "      <th>...</th>\n",
       "      <th>occyp_type_Realty agents</th>\n",
       "      <th>occyp_type_Retired</th>\n",
       "      <th>occyp_type_Sales staff</th>\n",
       "      <th>occyp_type_Secretaries</th>\n",
       "      <th>occyp_type_Security staff</th>\n",
       "      <th>occyp_type_Waiters/barmen staff</th>\n",
       "      <th>phone</th>\n",
       "      <th>reality_N</th>\n",
       "      <th>reality_Y</th>\n",
       "      <th>work_phone</th>\n",
       "    </tr>\n",
       "  </thead>\n",
       "  <tbody>\n",
       "    <tr>\n",
       "      <th>0</th>\n",
       "      <td>0.361702</td>\n",
       "      <td>0.295455</td>\n",
       "      <td>0.0</td>\n",
       "      <td>0.100000</td>\n",
       "      <td>1.0</td>\n",
       "      <td>0.0</td>\n",
       "      <td>0.000000</td>\n",
       "      <td>0.0</td>\n",
       "      <td>1.0</td>\n",
       "      <td>0.0</td>\n",
       "      <td>...</td>\n",
       "      <td>0.0</td>\n",
       "      <td>0.0</td>\n",
       "      <td>0.0</td>\n",
       "      <td>0.0</td>\n",
       "      <td>0.0</td>\n",
       "      <td>0.0</td>\n",
       "      <td>0.0</td>\n",
       "      <td>1.0</td>\n",
       "      <td>0.0</td>\n",
       "      <td>0.0</td>\n",
       "    </tr>\n",
       "    <tr>\n",
       "      <th>1</th>\n",
       "      <td>0.212766</td>\n",
       "      <td>0.113636</td>\n",
       "      <td>0.0</td>\n",
       "      <td>0.083333</td>\n",
       "      <td>1.0</td>\n",
       "      <td>0.0</td>\n",
       "      <td>0.333333</td>\n",
       "      <td>0.0</td>\n",
       "      <td>0.0</td>\n",
       "      <td>0.0</td>\n",
       "      <td>...</td>\n",
       "      <td>0.0</td>\n",
       "      <td>0.0</td>\n",
       "      <td>0.0</td>\n",
       "      <td>0.0</td>\n",
       "      <td>0.0</td>\n",
       "      <td>0.0</td>\n",
       "      <td>0.0</td>\n",
       "      <td>0.0</td>\n",
       "      <td>1.0</td>\n",
       "      <td>0.0</td>\n",
       "    </tr>\n",
       "    <tr>\n",
       "      <th>2</th>\n",
       "      <td>0.659574</td>\n",
       "      <td>0.295455</td>\n",
       "      <td>0.0</td>\n",
       "      <td>0.366667</td>\n",
       "      <td>0.0</td>\n",
       "      <td>1.0</td>\n",
       "      <td>0.000000</td>\n",
       "      <td>0.0</td>\n",
       "      <td>1.0</td>\n",
       "      <td>0.0</td>\n",
       "      <td>...</td>\n",
       "      <td>0.0</td>\n",
       "      <td>0.0</td>\n",
       "      <td>0.0</td>\n",
       "      <td>0.0</td>\n",
       "      <td>0.0</td>\n",
       "      <td>0.0</td>\n",
       "      <td>1.0</td>\n",
       "      <td>0.0</td>\n",
       "      <td>1.0</td>\n",
       "      <td>0.0</td>\n",
       "    </tr>\n",
       "    <tr>\n",
       "      <th>3</th>\n",
       "      <td>0.425532</td>\n",
       "      <td>0.136364</td>\n",
       "      <td>0.0</td>\n",
       "      <td>0.616667</td>\n",
       "      <td>1.0</td>\n",
       "      <td>0.0</td>\n",
       "      <td>0.000000</td>\n",
       "      <td>0.0</td>\n",
       "      <td>0.0</td>\n",
       "      <td>0.0</td>\n",
       "      <td>...</td>\n",
       "      <td>0.0</td>\n",
       "      <td>0.0</td>\n",
       "      <td>1.0</td>\n",
       "      <td>0.0</td>\n",
       "      <td>0.0</td>\n",
       "      <td>0.0</td>\n",
       "      <td>1.0</td>\n",
       "      <td>0.0</td>\n",
       "      <td>1.0</td>\n",
       "      <td>0.0</td>\n",
       "    </tr>\n",
       "    <tr>\n",
       "      <th>4</th>\n",
       "      <td>0.425532</td>\n",
       "      <td>0.136364</td>\n",
       "      <td>0.0</td>\n",
       "      <td>0.433333</td>\n",
       "      <td>0.0</td>\n",
       "      <td>1.0</td>\n",
       "      <td>0.000000</td>\n",
       "      <td>0.0</td>\n",
       "      <td>1.0</td>\n",
       "      <td>0.0</td>\n",
       "      <td>...</td>\n",
       "      <td>0.0</td>\n",
       "      <td>0.0</td>\n",
       "      <td>0.0</td>\n",
       "      <td>0.0</td>\n",
       "      <td>0.0</td>\n",
       "      <td>0.0</td>\n",
       "      <td>0.0</td>\n",
       "      <td>0.0</td>\n",
       "      <td>1.0</td>\n",
       "      <td>0.0</td>\n",
       "    </tr>\n",
       "    <tr>\n",
       "      <th>...</th>\n",
       "      <td>...</td>\n",
       "      <td>...</td>\n",
       "      <td>...</td>\n",
       "      <td>...</td>\n",
       "      <td>...</td>\n",
       "      <td>...</td>\n",
       "      <td>...</td>\n",
       "      <td>...</td>\n",
       "      <td>...</td>\n",
       "      <td>...</td>\n",
       "      <td>...</td>\n",
       "      <td>...</td>\n",
       "      <td>...</td>\n",
       "      <td>...</td>\n",
       "      <td>...</td>\n",
       "      <td>...</td>\n",
       "      <td>...</td>\n",
       "      <td>...</td>\n",
       "      <td>...</td>\n",
       "      <td>...</td>\n",
       "      <td>...</td>\n",
       "    </tr>\n",
       "    <tr>\n",
       "      <th>26452</th>\n",
       "      <td>0.255319</td>\n",
       "      <td>0.136364</td>\n",
       "      <td>0.0</td>\n",
       "      <td>0.033333</td>\n",
       "      <td>1.0</td>\n",
       "      <td>0.0</td>\n",
       "      <td>0.666667</td>\n",
       "      <td>0.0</td>\n",
       "      <td>0.0</td>\n",
       "      <td>0.0</td>\n",
       "      <td>...</td>\n",
       "      <td>0.0</td>\n",
       "      <td>0.0</td>\n",
       "      <td>0.0</td>\n",
       "      <td>0.0</td>\n",
       "      <td>0.0</td>\n",
       "      <td>0.0</td>\n",
       "      <td>0.0</td>\n",
       "      <td>1.0</td>\n",
       "      <td>0.0</td>\n",
       "      <td>0.0</td>\n",
       "    </tr>\n",
       "    <tr>\n",
       "      <th>26453</th>\n",
       "      <td>0.425532</td>\n",
       "      <td>0.159091</td>\n",
       "      <td>0.0</td>\n",
       "      <td>0.783333</td>\n",
       "      <td>1.0</td>\n",
       "      <td>0.0</td>\n",
       "      <td>0.333333</td>\n",
       "      <td>0.0</td>\n",
       "      <td>1.0</td>\n",
       "      <td>0.0</td>\n",
       "      <td>...</td>\n",
       "      <td>0.0</td>\n",
       "      <td>0.0</td>\n",
       "      <td>0.0</td>\n",
       "      <td>0.0</td>\n",
       "      <td>0.0</td>\n",
       "      <td>0.0</td>\n",
       "      <td>0.0</td>\n",
       "      <td>0.0</td>\n",
       "      <td>1.0</td>\n",
       "      <td>0.0</td>\n",
       "    </tr>\n",
       "    <tr>\n",
       "      <th>26454</th>\n",
       "      <td>0.127660</td>\n",
       "      <td>0.136364</td>\n",
       "      <td>0.0</td>\n",
       "      <td>0.416667</td>\n",
       "      <td>0.0</td>\n",
       "      <td>1.0</td>\n",
       "      <td>0.000000</td>\n",
       "      <td>0.0</td>\n",
       "      <td>0.0</td>\n",
       "      <td>0.0</td>\n",
       "      <td>...</td>\n",
       "      <td>0.0</td>\n",
       "      <td>0.0</td>\n",
       "      <td>0.0</td>\n",
       "      <td>0.0</td>\n",
       "      <td>0.0</td>\n",
       "      <td>0.0</td>\n",
       "      <td>0.0</td>\n",
       "      <td>1.0</td>\n",
       "      <td>0.0</td>\n",
       "      <td>0.0</td>\n",
       "    </tr>\n",
       "    <tr>\n",
       "      <th>26455</th>\n",
       "      <td>0.127660</td>\n",
       "      <td>0.022727</td>\n",
       "      <td>0.0</td>\n",
       "      <td>0.983333</td>\n",
       "      <td>1.0</td>\n",
       "      <td>0.0</td>\n",
       "      <td>0.000000</td>\n",
       "      <td>0.0</td>\n",
       "      <td>0.0</td>\n",
       "      <td>1.0</td>\n",
       "      <td>...</td>\n",
       "      <td>0.0</td>\n",
       "      <td>0.0</td>\n",
       "      <td>0.0</td>\n",
       "      <td>0.0</td>\n",
       "      <td>0.0</td>\n",
       "      <td>0.0</td>\n",
       "      <td>0.0</td>\n",
       "      <td>0.0</td>\n",
       "      <td>1.0</td>\n",
       "      <td>0.0</td>\n",
       "    </tr>\n",
       "    <tr>\n",
       "      <th>26456</th>\n",
       "      <td>0.680851</td>\n",
       "      <td>0.068182</td>\n",
       "      <td>0.0</td>\n",
       "      <td>0.150000</td>\n",
       "      <td>1.0</td>\n",
       "      <td>0.0</td>\n",
       "      <td>0.000000</td>\n",
       "      <td>0.0</td>\n",
       "      <td>0.0</td>\n",
       "      <td>0.0</td>\n",
       "      <td>...</td>\n",
       "      <td>0.0</td>\n",
       "      <td>0.0</td>\n",
       "      <td>0.0</td>\n",
       "      <td>0.0</td>\n",
       "      <td>1.0</td>\n",
       "      <td>0.0</td>\n",
       "      <td>0.0</td>\n",
       "      <td>1.0</td>\n",
       "      <td>0.0</td>\n",
       "      <td>0.0</td>\n",
       "    </tr>\n",
       "  </tbody>\n",
       "</table>\n",
       "<p>26457 rows × 57 columns</p>\n",
       "</div>"
      ],
      "text/plain": [
       "       DAYS_BIRTH  DAYS_EMPLOYED  FLAG_MOBIL  begin_month  car_N  car_Y  \\\n",
       "0        0.361702       0.295455         0.0     0.100000    1.0    0.0   \n",
       "1        0.212766       0.113636         0.0     0.083333    1.0    0.0   \n",
       "2        0.659574       0.295455         0.0     0.366667    0.0    1.0   \n",
       "3        0.425532       0.136364         0.0     0.616667    1.0    0.0   \n",
       "4        0.425532       0.136364         0.0     0.433333    0.0    1.0   \n",
       "...           ...            ...         ...          ...    ...    ...   \n",
       "26452    0.255319       0.136364         0.0     0.033333    1.0    0.0   \n",
       "26453    0.425532       0.159091         0.0     0.783333    1.0    0.0   \n",
       "26454    0.127660       0.136364         0.0     0.416667    0.0    1.0   \n",
       "26455    0.127660       0.022727         0.0     0.983333    1.0    0.0   \n",
       "26456    0.680851       0.068182         0.0     0.150000    1.0    0.0   \n",
       "\n",
       "       child_num  edu_type_Academic degree  edu_type_Higher education  \\\n",
       "0       0.000000                       0.0                        1.0   \n",
       "1       0.333333                       0.0                        0.0   \n",
       "2       0.000000                       0.0                        1.0   \n",
       "3       0.000000                       0.0                        0.0   \n",
       "4       0.000000                       0.0                        1.0   \n",
       "...          ...                       ...                        ...   \n",
       "26452   0.666667                       0.0                        0.0   \n",
       "26453   0.333333                       0.0                        1.0   \n",
       "26454   0.000000                       0.0                        0.0   \n",
       "26455   0.000000                       0.0                        0.0   \n",
       "26456   0.000000                       0.0                        0.0   \n",
       "\n",
       "       edu_type_Incomplete higher  ...  occyp_type_Realty agents  \\\n",
       "0                             0.0  ...                       0.0   \n",
       "1                             0.0  ...                       0.0   \n",
       "2                             0.0  ...                       0.0   \n",
       "3                             0.0  ...                       0.0   \n",
       "4                             0.0  ...                       0.0   \n",
       "...                           ...  ...                       ...   \n",
       "26452                         0.0  ...                       0.0   \n",
       "26453                         0.0  ...                       0.0   \n",
       "26454                         0.0  ...                       0.0   \n",
       "26455                         1.0  ...                       0.0   \n",
       "26456                         0.0  ...                       0.0   \n",
       "\n",
       "       occyp_type_Retired  occyp_type_Sales staff  occyp_type_Secretaries  \\\n",
       "0                     0.0                     0.0                     0.0   \n",
       "1                     0.0                     0.0                     0.0   \n",
       "2                     0.0                     0.0                     0.0   \n",
       "3                     0.0                     1.0                     0.0   \n",
       "4                     0.0                     0.0                     0.0   \n",
       "...                   ...                     ...                     ...   \n",
       "26452                 0.0                     0.0                     0.0   \n",
       "26453                 0.0                     0.0                     0.0   \n",
       "26454                 0.0                     0.0                     0.0   \n",
       "26455                 0.0                     0.0                     0.0   \n",
       "26456                 0.0                     0.0                     0.0   \n",
       "\n",
       "       occyp_type_Security staff  occyp_type_Waiters/barmen staff  phone  \\\n",
       "0                            0.0                              0.0    0.0   \n",
       "1                            0.0                              0.0    0.0   \n",
       "2                            0.0                              0.0    1.0   \n",
       "3                            0.0                              0.0    1.0   \n",
       "4                            0.0                              0.0    0.0   \n",
       "...                          ...                              ...    ...   \n",
       "26452                        0.0                              0.0    0.0   \n",
       "26453                        0.0                              0.0    0.0   \n",
       "26454                        0.0                              0.0    0.0   \n",
       "26455                        0.0                              0.0    0.0   \n",
       "26456                        1.0                              0.0    0.0   \n",
       "\n",
       "       reality_N  reality_Y  work_phone  \n",
       "0            1.0        0.0         0.0  \n",
       "1            0.0        1.0         0.0  \n",
       "2            0.0        1.0         0.0  \n",
       "3            0.0        1.0         0.0  \n",
       "4            0.0        1.0         0.0  \n",
       "...          ...        ...         ...  \n",
       "26452        1.0        0.0         0.0  \n",
       "26453        0.0        1.0         0.0  \n",
       "26454        1.0        0.0         0.0  \n",
       "26455        0.0        1.0         0.0  \n",
       "26456        1.0        0.0         0.0  \n",
       "\n",
       "[26457 rows x 57 columns]"
      ]
     },
     "metadata": {},
     "output_type": "display_data"
    }
   ],
   "source": [
    "from sklearn.preprocessing import MinMaxScaler\n",
    "\n",
    "MinMaxScaler_data = train[train.columns.difference(['credit'])].copy()\n",
    "\n",
    "minMaxScaler = MinMaxScaler()\n",
    "print(minMaxScaler.fit(MinMaxScaler_data))\n",
    "train_data_minMaxScaled = minMaxScaler.transform(MinMaxScaler_data)\n",
    "\n",
    "# MinMaxScaler_data - MinMaxScaler적용한 데이터 프레임\n",
    "index = 0\n",
    "for col in MinMaxScaler_data.columns :\n",
    "    MinMaxScaler_data[col] = train_data_minMaxScaled[:,index]\n",
    "    index = index + 1\n",
    "display(MinMaxScaler_data)"
   ]
  },
  {
   "cell_type": "markdown",
   "metadata": {},
   "source": [
    "-----------------------------------------------\n",
    "## 여기까지 정규화, 이상치 처리 완료해야 함, 데이터 전처리 단계"
   ]
  },
  {
   "cell_type": "markdown",
   "metadata": {},
   "source": [
    "#### 정규화한 데이터 이름\n",
    "* MinMaxScaler_data\n",
    "* MaxAbsScaler_data\n",
    "* StandardScaler_data\n",
    "* RobustScaler_data"
   ]
  },
  {
   "cell_type": "markdown",
   "metadata": {},
   "source": [
    "## 5. 모델링"
   ]
  },
  {
   "cell_type": "markdown",
   "metadata": {},
   "source": [
    "### 5-0 데이터 분리\n",
    "* 데이터 분리는 stratifiedKFold를 사용하여 y값 분포를 비슷하게 분리 시킴 -> 5-fold\n",
    "    * StratifiedKFold(계층별 k-겹 교차검증) - 불균형한 분포도를 가진 레이블 데이터를 위한 방식, 특정 레이블 값이 너무 많거나 적은 경우\n",
    "    * 타겟에 속성값의 개수를 동일하게 가져감으로써 kfold 같이 데이터가 한곳으로 몰리는 것을 방지\n",
    "    * 대부분의 경우 회귀에서는 k-겹 교차 검증, 분류에서는 계층별 k-겹 교차검증의 기본값이 잘 작동함\n",
    "* n_split는 몇 개로 분할할지 결정\n",
    "* shtffle은 데이터 섞어서 샘플의 순서 랜덤하게. \n",
    "* 데이터를 섞을 때 random_state를 고정해서 똑같은 작업을 재현할 수있음\n",
    "* 그렇지 않으면 cross_val_score를 실행할 때마다 폴드가 바뀌어 매번 결과가 달라짐"
   ]
  },
  {
   "cell_type": "code",
   "execution_count": 157,
   "metadata": {},
   "outputs": [],
   "source": [
    "# 설명변수 X, 예측변수 y 할당 (사용하고자하는 정규화 스케일러로 변경 가능)\n",
    "X = MinMaxScaler_data\n",
    "Y = train['credit']"
   ]
  },
  {
   "cell_type": "code",
   "execution_count": 158,
   "metadata": {},
   "outputs": [
    {
     "data": {
      "text/plain": [
       "[(array([    0,     1,     3, ..., 26453, 26454, 26456]),\n",
       "  array([    2,    26,    45, ..., 26446, 26452, 26455])),\n",
       " (array([    2,     3,     6, ..., 26454, 26455, 26456]),\n",
       "  array([    0,     1,     4, ..., 26435, 26447, 26450])),\n",
       " (array([    0,     1,     2, ..., 26453, 26454, 26455]),\n",
       "  array([    3,    12,    16, ..., 26438, 26448, 26456])),\n",
       " (array([    0,     1,     2, ..., 26454, 26455, 26456]),\n",
       "  array([    6,    14,    29, ..., 26440, 26442, 26453])),\n",
       " (array([    0,     1,     2, ..., 26453, 26455, 26456]),\n",
       "  array([    7,     9,    10, ..., 26449, 26451, 26454]))]"
      ]
     },
     "metadata": {},
     "output_type": "display_data"
    }
   ],
   "source": [
    "skf = StratifiedKFold(n_splits=5, shuffle=True, random_state=42) \n",
    "folds=[]\n",
    "\n",
    "# 계층별 k-겹 교차검증을 위해 인덱스를 나누는 코드\n",
    "for train_index, valid_index in skf.split(X, Y):\n",
    "    folds.append((train_index, valid_index))\n",
    "display(folds)"
   ]
  },
  {
   "cell_type": "markdown",
   "metadata": {},
   "source": [
    "* 여기서 앞으로 계속 사용할 X,Y, folds 저장되어 있음"
   ]
  },
  {
   "cell_type": "markdown",
   "metadata": {},
   "source": [
    "### 5-1. LGBM\n",
    "[LGBM 모델 설명](https://lsjsj92.tistory.com/548)\n",
    "#### Training    \n",
    "* LGBM의 기본 파라미터로 훈련\n",
    "* 30번 이상 개선 없을 경우 중단.\n",
    "* 각 5개의 fold를 훈련하여 저장"
   ]
  },
  {
   "cell_type": "code",
   "execution_count": 159,
   "metadata": {},
   "outputs": [
    {
     "name": "stdout",
     "output_type": "stream",
     "text": [
      "====================================1============================================\n",
      "Training until validation scores don't improve for 30 rounds\n",
      "[100]\ttraining's multi_logloss: 0.662713\tvalid_1's multi_logloss: 0.758952\n",
      "[200]\ttraining's multi_logloss: 0.581757\tvalid_1's multi_logloss: 0.745026\n",
      "[300]\ttraining's multi_logloss: 0.52151\tvalid_1's multi_logloss: 0.73977\n",
      "Early stopping, best iteration is:\n",
      "[301]\ttraining's multi_logloss: 0.521066\tvalid_1's multi_logloss: 0.739657\n",
      "================================================================================\n",
      "\n",
      "\n",
      "====================================2============================================\n",
      "Training until validation scores don't improve for 30 rounds\n",
      "[100]\ttraining's multi_logloss: 0.661765\tvalid_1's multi_logloss: 0.770789\n",
      "[200]\ttraining's multi_logloss: 0.578846\tvalid_1's multi_logloss: 0.760218\n",
      "[300]\ttraining's multi_logloss: 0.516949\tvalid_1's multi_logloss: 0.755942\n",
      "Early stopping, best iteration is:\n",
      "[308]\ttraining's multi_logloss: 0.51176\tvalid_1's multi_logloss: 0.755008\n",
      "================================================================================\n",
      "\n",
      "\n",
      "====================================3============================================\n",
      "Training until validation scores don't improve for 30 rounds\n",
      "[100]\ttraining's multi_logloss: 0.663253\tvalid_1's multi_logloss: 0.766317\n",
      "[200]\ttraining's multi_logloss: 0.578658\tvalid_1's multi_logloss: 0.750836\n",
      "Early stopping, best iteration is:\n",
      "[243]\ttraining's multi_logloss: 0.551232\tvalid_1's multi_logloss: 0.749454\n",
      "================================================================================\n",
      "\n",
      "\n",
      "====================================4============================================\n",
      "Training until validation scores don't improve for 30 rounds\n",
      "[100]\ttraining's multi_logloss: 0.660254\tvalid_1's multi_logloss: 0.758309\n",
      "[200]\ttraining's multi_logloss: 0.576797\tvalid_1's multi_logloss: 0.745306\n",
      "[300]\ttraining's multi_logloss: 0.512967\tvalid_1's multi_logloss: 0.739673\n",
      "Early stopping, best iteration is:\n",
      "[322]\ttraining's multi_logloss: 0.501505\tvalid_1's multi_logloss: 0.738496\n",
      "================================================================================\n",
      "\n",
      "\n",
      "====================================5============================================\n",
      "Training until validation scores don't improve for 30 rounds\n",
      "[100]\ttraining's multi_logloss: 0.663309\tvalid_1's multi_logloss: 0.758031\n",
      "[200]\ttraining's multi_logloss: 0.579116\tvalid_1's multi_logloss: 0.745735\n",
      "Early stopping, best iteration is:\n",
      "[232]\ttraining's multi_logloss: 0.558557\tvalid_1's multi_logloss: 0.74428\n",
      "================================================================================\n",
      "\n",
      "\n"
     ]
    }
   ],
   "source": [
    "random.seed(42)\n",
    "lgb_models={}\n",
    "for fold in range(5):\n",
    "    print(f'===================================={fold+1}============================================')\n",
    "    \n",
    "    # 인덱스를 활용하여 train과 test 셋으로 분할\n",
    "    train_index, valid_index = folds[fold]\n",
    "    X_train, X_valid, Y_train, Y_valid = X.iloc[train_index].values, X.iloc[valid_index].values,\\\n",
    "                                         Y[train_index].values, Y[valid_index].values \n",
    "    \n",
    "    # LGBM 모델 돌리기, \n",
    "    # 30번 이상 개선 없을 시 중단, 5개의 fold를 훈련하여 저장\n",
    "    lgb = LGBMClassifier(n_estimators=1000)\n",
    "    lgb.fit(X_train, Y_train, \n",
    "            eval_set=[(X_train, Y_train), (X_valid, Y_valid)], \n",
    "            early_stopping_rounds=30,\n",
    "           verbose=100)\n",
    "    lgb_models[fold]=lgb\n",
    "    print(f'================================================================================\\n\\n')"
   ]
  },
  {
   "cell_type": "markdown",
   "metadata": {},
   "source": [
    "#### Test inference\n",
    "* 각 폴드를 훈련시킨 LGBM으로 예측\n",
    "* 해당 대회는 logloss score를 겨루는 것이기 때문에 각 class의 probability를 얻어야함\n",
    "* 대부분의 머신러닝 모델에서 predict, predict_proba를 구분하여 사용함.\n",
    "* predict는 class 출력을 해주고 predict_proba는 class 별 probability를 출력해줌\n",
    "* predict_proba를 사용하여 예측한 것을 5-fold 더하여 평균내어 앙상블함"
   ]
  },
  {
   "cell_type": "markdown",
   "metadata": {},
   "source": [
    "### 5-2. **로지스틱 회귀분석**"
   ]
  },
  {
   "cell_type": "code",
   "execution_count": 151,
   "metadata": {},
   "outputs": [
    {
     "name": "stdout",
     "output_type": "stream",
     "text": [
      "====================================1============================================\n",
      "Log Loss: 0.867011\n",
      "학습용 데이터셋 정확도 : 0.64356\n",
      "검증용 데이터셋 정확도 : 0.64324\n",
      "================================================================================\n",
      "\n",
      "\n",
      "====================================2============================================\n",
      "Log Loss: 0.863637\n",
      "학습용 데이터셋 정확도 : 0.64328\n",
      "검증용 데이터셋 정확도 : 0.64324\n",
      "================================================================================\n",
      "\n",
      "\n",
      "====================================3============================================\n",
      "Log Loss: 0.859671\n",
      "학습용 데이터셋 정확도 : 0.64297\n",
      "검증용 데이터셋 정확도 : 0.64279\n",
      "================================================================================\n",
      "\n",
      "\n",
      "====================================4============================================\n",
      "Log Loss: 0.867006\n",
      "학습용 데이터셋 정확도 : 0.64325\n",
      "검증용 데이터셋 정확도 : 0.64260\n",
      "================================================================================\n",
      "\n",
      "\n",
      "====================================5============================================\n",
      "Log Loss: 0.857805\n",
      "학습용 데이터셋 정확도 : 0.64287\n",
      "검증용 데이터셋 정확도 : 0.64298\n",
      "================================================================================\n",
      "\n",
      "\n"
     ]
    }
   ],
   "source": [
    "from sklearn.linear_model import LogisticRegression\n",
    "from sklearn.metrics import log_loss\n",
    "\n",
    "random.seed(42)\n",
    "logR_models={}\n",
    "for fold in range(5):\n",
    "    print(f'===================================={fold+1}============================================')\n",
    "    \n",
    "    # 인덱스를 활용하여 train과 test 셋으로 분할\n",
    "    train_index, valid_index = folds[fold]\n",
    "    X_train, X_valid, Y_train, Y_valid = X.iloc[train_index].values, X.iloc[valid_index].values,\\\n",
    "                                         Y[train_index].values, Y[valid_index].values \n",
    "    \n",
    "    # 로지스틱 회귀\n",
    "    logmodel = LogisticRegression()\n",
    "    logmodel.fit(X_train, Y_train)\n",
    "    print(f'Log Loss: {log_loss(Y_valid, logmodel.predict_proba(X_valid)):.6f}')\n",
    "    logR_models[fold]=logmodel\n",
    "    print('학습용 데이터셋 정확도 : %.5f' % logmodel.score(X_train, Y_train))\n",
    "    print('검증용 데이터셋 정확도 : %.5f' % logmodel.score(X_valid, Y_valid))\n",
    "#     print('컬럼의 계수 확인 : ', logmodel.coef_)\n",
    "    print(f'================================================================================\\n\\n')"
   ]
  }
 ],
 "metadata": {
  "kernelspec": {
   "display_name": "pydatavenv",
   "language": "python",
   "name": "pydatavenv"
  },
  "language_info": {
   "codemirror_mode": {
    "name": "ipython",
    "version": 3
   },
   "file_extension": ".py",
   "mimetype": "text/x-python",
   "name": "python",
   "nbconvert_exporter": "python",
   "pygments_lexer": "ipython3",
   "version": "3.8.8"
  }
 },
 "nbformat": 4,
 "nbformat_minor": 4
}
