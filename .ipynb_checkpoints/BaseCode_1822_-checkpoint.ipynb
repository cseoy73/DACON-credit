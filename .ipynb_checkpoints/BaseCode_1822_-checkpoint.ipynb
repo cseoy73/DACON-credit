{
 "cells": [
  {
   "cell_type": "markdown",
   "metadata": {},
   "source": [
    "# *BASECODE 작성*\n",
    "\n",
    "* 가상환경 activate 후 lightgbm 설치\n",
    "* conda install -c conda-forge lightgbm"
   ]
  },
  {
   "cell_type": "code",
   "execution_count": 97,
   "metadata": {},
   "outputs": [],
   "source": [
    "import warnings\n",
    "warnings.filterwarnings('ignore')\n",
    "import glob\n",
    "import pandas as pd\n",
    "import numpy as np\n",
    "from lightgbm import LGBMClassifier\n",
    "from sklearn.model_selection import StratifiedKFold\n",
    "from sklearn.preprocessing import OneHotEncoder\n",
    "from sklearn import preprocessing\n",
    "import random\n",
    "import seaborn as sns\n",
    "import matplotlib.pyplot as plt\n",
    "plt.style.use('seaborn')"
   ]
  },
  {
   "cell_type": "markdown",
   "metadata": {},
   "source": [
    "## 0. **데이터 로드**\n",
    "* 훈련에 필요없는 index 컬럼 삭제\n",
    "#### 변수\n",
    "* train : `train.csv`\n",
    "* test : `test.csv`"
   ]
  },
  {
   "cell_type": "code",
   "execution_count": 98,
   "metadata": {},
   "outputs": [],
   "source": [
    "# 데이터 불러오기\n",
    "train = pd.read_csv('./train.csv')\n",
    "train = train.drop(['index'], axis=1)\n",
    "\n",
    "test = pd.read_csv('./test.csv')\n",
    "test = test.drop(['index'], axis=1)\n",
    "\n",
    "submit = pd.read_csv('./sample_submission.csv')"
   ]
  },
  {
   "cell_type": "markdown",
   "metadata": {},
   "source": [
    "### 데이터 전처리\n",
    "http://www.dodomira.com/2016/10/20/how_to_eda/ \n",
    "\n",
    "링크 참고 "
   ]
  },
  {
   "cell_type": "markdown",
   "metadata": {},
   "source": [
    "## 1. **데이터 셋 확인**\n",
    "\n",
    "* 이전 EDA 코드 돌려봤기에 코드를 직접 합치지는 않았음"
   ]
  },
  {
   "cell_type": "code",
   "execution_count": 99,
   "metadata": {},
   "outputs": [
    {
     "name": "stdout",
     "output_type": "stream",
     "text": [
      "<class 'pandas.core.frame.DataFrame'>\n",
      "RangeIndex: 26457 entries, 0 to 26456\n",
      "Data columns (total 19 columns):\n",
      " #   Column         Non-Null Count  Dtype  \n",
      "---  ------         --------------  -----  \n",
      " 0   gender         26457 non-null  object \n",
      " 1   car            26457 non-null  object \n",
      " 2   reality        26457 non-null  object \n",
      " 3   child_num      26457 non-null  int64  \n",
      " 4   income_total   26457 non-null  float64\n",
      " 5   income_type    26457 non-null  object \n",
      " 6   edu_type       26457 non-null  object \n",
      " 7   family_type    26457 non-null  object \n",
      " 8   house_type     26457 non-null  object \n",
      " 9   DAYS_BIRTH     26457 non-null  int64  \n",
      " 10  DAYS_EMPLOYED  26457 non-null  int64  \n",
      " 11  FLAG_MOBIL     26457 non-null  int64  \n",
      " 12  work_phone     26457 non-null  int64  \n",
      " 13  phone          26457 non-null  int64  \n",
      " 14  email          26457 non-null  int64  \n",
      " 15  occyp_type     18286 non-null  object \n",
      " 16  family_size    26457 non-null  float64\n",
      " 17  begin_month    26457 non-null  float64\n",
      " 18  credit         26457 non-null  float64\n",
      "dtypes: float64(4), int64(7), object(8)\n",
      "memory usage: 3.8+ MB\n",
      "<class 'pandas.core.frame.DataFrame'>\n",
      "RangeIndex: 10000 entries, 0 to 9999\n",
      "Data columns (total 18 columns):\n",
      " #   Column         Non-Null Count  Dtype  \n",
      "---  ------         --------------  -----  \n",
      " 0   gender         10000 non-null  object \n",
      " 1   car            10000 non-null  object \n",
      " 2   reality        10000 non-null  object \n",
      " 3   child_num      10000 non-null  int64  \n",
      " 4   income_total   10000 non-null  float64\n",
      " 5   income_type    10000 non-null  object \n",
      " 6   edu_type       10000 non-null  object \n",
      " 7   family_type    10000 non-null  object \n",
      " 8   house_type     10000 non-null  object \n",
      " 9   DAYS_BIRTH     10000 non-null  int64  \n",
      " 10  DAYS_EMPLOYED  10000 non-null  int64  \n",
      " 11  FLAG_MOBIL     10000 non-null  int64  \n",
      " 12  work_phone     10000 non-null  int64  \n",
      " 13  phone          10000 non-null  int64  \n",
      " 14  email          10000 non-null  int64  \n",
      " 15  occyp_type     6848 non-null   object \n",
      " 16  family_size    10000 non-null  int64  \n",
      " 17  begin_month    10000 non-null  int64  \n",
      "dtypes: float64(1), int64(9), object(8)\n",
      "memory usage: 1.4+ MB\n"
     ]
    },
    {
     "data": {
      "text/html": [
       "<div>\n",
       "<style scoped>\n",
       "    .dataframe tbody tr th:only-of-type {\n",
       "        vertical-align: middle;\n",
       "    }\n",
       "\n",
       "    .dataframe tbody tr th {\n",
       "        vertical-align: top;\n",
       "    }\n",
       "\n",
       "    .dataframe thead th {\n",
       "        text-align: right;\n",
       "    }\n",
       "</style>\n",
       "<table border=\"1\" class=\"dataframe\">\n",
       "  <thead>\n",
       "    <tr style=\"text-align: right;\">\n",
       "      <th></th>\n",
       "      <th>gender</th>\n",
       "      <th>car</th>\n",
       "      <th>reality</th>\n",
       "      <th>child_num</th>\n",
       "      <th>income_total</th>\n",
       "      <th>income_type</th>\n",
       "      <th>edu_type</th>\n",
       "      <th>family_type</th>\n",
       "      <th>house_type</th>\n",
       "      <th>DAYS_BIRTH</th>\n",
       "      <th>DAYS_EMPLOYED</th>\n",
       "      <th>FLAG_MOBIL</th>\n",
       "      <th>work_phone</th>\n",
       "      <th>phone</th>\n",
       "      <th>email</th>\n",
       "      <th>occyp_type</th>\n",
       "      <th>family_size</th>\n",
       "      <th>begin_month</th>\n",
       "      <th>credit</th>\n",
       "    </tr>\n",
       "  </thead>\n",
       "  <tbody>\n",
       "    <tr>\n",
       "      <th>0</th>\n",
       "      <td>F</td>\n",
       "      <td>N</td>\n",
       "      <td>N</td>\n",
       "      <td>0</td>\n",
       "      <td>202500.0</td>\n",
       "      <td>Commercial associate</td>\n",
       "      <td>Higher education</td>\n",
       "      <td>Married</td>\n",
       "      <td>Municipal apartment</td>\n",
       "      <td>-13899</td>\n",
       "      <td>-4709</td>\n",
       "      <td>1</td>\n",
       "      <td>0</td>\n",
       "      <td>0</td>\n",
       "      <td>0</td>\n",
       "      <td>NaN</td>\n",
       "      <td>2.0</td>\n",
       "      <td>-6.0</td>\n",
       "      <td>1.0</td>\n",
       "    </tr>\n",
       "    <tr>\n",
       "      <th>1</th>\n",
       "      <td>F</td>\n",
       "      <td>N</td>\n",
       "      <td>Y</td>\n",
       "      <td>1</td>\n",
       "      <td>247500.0</td>\n",
       "      <td>Commercial associate</td>\n",
       "      <td>Secondary / secondary special</td>\n",
       "      <td>Civil marriage</td>\n",
       "      <td>House / apartment</td>\n",
       "      <td>-11380</td>\n",
       "      <td>-1540</td>\n",
       "      <td>1</td>\n",
       "      <td>0</td>\n",
       "      <td>0</td>\n",
       "      <td>1</td>\n",
       "      <td>Laborers</td>\n",
       "      <td>3.0</td>\n",
       "      <td>-5.0</td>\n",
       "      <td>1.0</td>\n",
       "    </tr>\n",
       "    <tr>\n",
       "      <th>2</th>\n",
       "      <td>M</td>\n",
       "      <td>Y</td>\n",
       "      <td>Y</td>\n",
       "      <td>0</td>\n",
       "      <td>450000.0</td>\n",
       "      <td>Working</td>\n",
       "      <td>Higher education</td>\n",
       "      <td>Married</td>\n",
       "      <td>House / apartment</td>\n",
       "      <td>-19087</td>\n",
       "      <td>-4434</td>\n",
       "      <td>1</td>\n",
       "      <td>0</td>\n",
       "      <td>1</td>\n",
       "      <td>0</td>\n",
       "      <td>Managers</td>\n",
       "      <td>2.0</td>\n",
       "      <td>-22.0</td>\n",
       "      <td>2.0</td>\n",
       "    </tr>\n",
       "    <tr>\n",
       "      <th>3</th>\n",
       "      <td>F</td>\n",
       "      <td>N</td>\n",
       "      <td>Y</td>\n",
       "      <td>0</td>\n",
       "      <td>202500.0</td>\n",
       "      <td>Commercial associate</td>\n",
       "      <td>Secondary / secondary special</td>\n",
       "      <td>Married</td>\n",
       "      <td>House / apartment</td>\n",
       "      <td>-15088</td>\n",
       "      <td>-2092</td>\n",
       "      <td>1</td>\n",
       "      <td>0</td>\n",
       "      <td>1</td>\n",
       "      <td>0</td>\n",
       "      <td>Sales staff</td>\n",
       "      <td>2.0</td>\n",
       "      <td>-37.0</td>\n",
       "      <td>0.0</td>\n",
       "    </tr>\n",
       "    <tr>\n",
       "      <th>4</th>\n",
       "      <td>F</td>\n",
       "      <td>Y</td>\n",
       "      <td>Y</td>\n",
       "      <td>0</td>\n",
       "      <td>157500.0</td>\n",
       "      <td>State servant</td>\n",
       "      <td>Higher education</td>\n",
       "      <td>Married</td>\n",
       "      <td>House / apartment</td>\n",
       "      <td>-15037</td>\n",
       "      <td>-2105</td>\n",
       "      <td>1</td>\n",
       "      <td>0</td>\n",
       "      <td>0</td>\n",
       "      <td>0</td>\n",
       "      <td>Managers</td>\n",
       "      <td>2.0</td>\n",
       "      <td>-26.0</td>\n",
       "      <td>2.0</td>\n",
       "    </tr>\n",
       "  </tbody>\n",
       "</table>\n",
       "</div>"
      ],
      "text/plain": [
       "  gender car reality  child_num  income_total           income_type  \\\n",
       "0      F   N       N          0      202500.0  Commercial associate   \n",
       "1      F   N       Y          1      247500.0  Commercial associate   \n",
       "2      M   Y       Y          0      450000.0               Working   \n",
       "3      F   N       Y          0      202500.0  Commercial associate   \n",
       "4      F   Y       Y          0      157500.0         State servant   \n",
       "\n",
       "                        edu_type     family_type           house_type  \\\n",
       "0               Higher education         Married  Municipal apartment   \n",
       "1  Secondary / secondary special  Civil marriage    House / apartment   \n",
       "2               Higher education         Married    House / apartment   \n",
       "3  Secondary / secondary special         Married    House / apartment   \n",
       "4               Higher education         Married    House / apartment   \n",
       "\n",
       "   DAYS_BIRTH  DAYS_EMPLOYED  FLAG_MOBIL  work_phone  phone  email  \\\n",
       "0      -13899          -4709           1           0      0      0   \n",
       "1      -11380          -1540           1           0      0      1   \n",
       "2      -19087          -4434           1           0      1      0   \n",
       "3      -15088          -2092           1           0      1      0   \n",
       "4      -15037          -2105           1           0      0      0   \n",
       "\n",
       "    occyp_type  family_size  begin_month  credit  \n",
       "0          NaN          2.0         -6.0     1.0  \n",
       "1     Laborers          3.0         -5.0     1.0  \n",
       "2     Managers          2.0        -22.0     2.0  \n",
       "3  Sales staff          2.0        -37.0     0.0  \n",
       "4     Managers          2.0        -26.0     2.0  "
      ]
     },
     "metadata": {},
     "output_type": "display_data"
    }
   ],
   "source": [
    "train.info()\n",
    "test.info()\n",
    "display(train.head())"
   ]
  },
  {
   "cell_type": "code",
   "execution_count": 100,
   "metadata": {},
   "outputs": [
    {
     "data": {
      "text/plain": [
       "[8, 7, 4]"
      ]
     },
     "metadata": {},
     "output_type": "display_data"
    }
   ],
   "source": [
    "# 각 유형 갯수 확인\n",
    "count_type = [0, 0, 0] # object, int64, float64\n",
    "for col in train.columns:\n",
    "    if train[col].dtype == 'object':\n",
    "        count_type[0] += 1\n",
    "    elif train[col].dtype == 'int64':\n",
    "        count_type[1] += 1\n",
    "    elif train[col].dtype == 'float64':\n",
    "        count_type[2] += 1\n",
    "display(count_type)"
   ]
  },
  {
   "cell_type": "markdown",
   "metadata": {},
   "source": [
    "#### object 8개, int64 7개 , float64 4개 있음.\n",
    "-------------------------"
   ]
  },
  {
   "cell_type": "markdown",
   "metadata": {},
   "source": [
    "## 2. **결측치 처리**\n",
    "* 결측치는 직업 유형에만 존재함 -> 'unfilled'로 대체함. \n",
    "* 향후 '직업 유형의 결측치를 어떻게 해결할 것 인가' 고민이 필요함."
   ]
  },
  {
   "cell_type": "code",
   "execution_count": 101,
   "metadata": {},
   "outputs": [
    {
     "data": {
      "text/plain": [
       "<bound method Series.count of 0                  NaN\n",
       "1           Core staff\n",
       "2             Laborers\n",
       "3              Drivers\n",
       "4             Managers\n",
       "             ...      \n",
       "9995       Accountants\n",
       "9996          Laborers\n",
       "9997    Medicine staff\n",
       "9998               NaN\n",
       "9999          Laborers\n",
       "Name: occyp_type, Length: 10000, dtype: object>"
      ]
     },
     "execution_count": 101,
     "metadata": {},
     "output_type": "execute_result"
    }
   ],
   "source": [
    "test['occyp_type'].count"
   ]
  },
  {
   "cell_type": "code",
   "execution_count": 102,
   "metadata": {},
   "outputs": [
    {
     "data": {
      "text/plain": [
       "3152"
      ]
     },
     "execution_count": 102,
     "metadata": {},
     "output_type": "execute_result"
    }
   ],
   "source": [
    "test['occyp_type'].isnull().sum()"
   ]
  },
  {
   "cell_type": "code",
   "execution_count": 103,
   "metadata": {},
   "outputs": [
    {
     "name": "stdout",
     "output_type": "stream",
     "text": [
      "훈련데이터 결측치 합 \n",
      " gender              0\n",
      "car                 0\n",
      "reality             0\n",
      "child_num           0\n",
      "income_total        0\n",
      "income_type         0\n",
      "edu_type            0\n",
      "family_type         0\n",
      "house_type          0\n",
      "DAYS_BIRTH          0\n",
      "DAYS_EMPLOYED       0\n",
      "FLAG_MOBIL          0\n",
      "work_phone          0\n",
      "phone               0\n",
      "email               0\n",
      "occyp_type       8171\n",
      "family_size         0\n",
      "begin_month         0\n",
      "credit              0\n",
      "dtype: int64\n",
      "테스트데이터 결측치 합 \n",
      " gender              0\n",
      "car                 0\n",
      "reality             0\n",
      "child_num           0\n",
      "income_total        0\n",
      "income_type         0\n",
      "edu_type            0\n",
      "family_type         0\n",
      "house_type          0\n",
      "DAYS_BIRTH          0\n",
      "DAYS_EMPLOYED       0\n",
      "FLAG_MOBIL          0\n",
      "work_phone          0\n",
      "phone               0\n",
      "email               0\n",
      "occyp_type       3152\n",
      "family_size         0\n",
      "begin_month         0\n",
      "dtype: int64\n"
     ]
    }
   ],
   "source": [
    "# 결측치 확인\n",
    "print('훈련데이터 결측치 합 \\n', train.isnull().sum())\n",
    "print('테스트데이터 결측치 합 \\n', test.isnull().sum())"
   ]
  },
  {
   "cell_type": "code",
   "execution_count": 104,
   "metadata": {},
   "outputs": [
    {
     "name": "stdout",
     "output_type": "stream",
     "text": [
      "\n",
      "훈련데이터 결측치 합 \n",
      " gender           0\n",
      "car              0\n",
      "reality          0\n",
      "child_num        0\n",
      "income_total     0\n",
      "income_type      0\n",
      "edu_type         0\n",
      "family_type      0\n",
      "house_type       0\n",
      "DAYS_BIRTH       0\n",
      "DAYS_EMPLOYED    0\n",
      "FLAG_MOBIL       0\n",
      "work_phone       0\n",
      "phone            0\n",
      "email            0\n",
      "occyp_type       0\n",
      "family_size      0\n",
      "begin_month      0\n",
      "credit           0\n",
      "dtype: int64\n",
      "테스트데이터 결측치 합 \n",
      " gender           0\n",
      "car              0\n",
      "reality          0\n",
      "child_num        0\n",
      "income_total     0\n",
      "income_type      0\n",
      "edu_type         0\n",
      "family_type      0\n",
      "house_type       0\n",
      "DAYS_BIRTH       0\n",
      "DAYS_EMPLOYED    0\n",
      "FLAG_MOBIL       0\n",
      "work_phone       0\n",
      "phone            0\n",
      "email            0\n",
      "occyp_type       0\n",
      "family_size      0\n",
      "begin_month      0\n",
      "dtype: int64\n"
     ]
    }
   ],
   "source": [
    "# 결측치 처리\n",
    "print()\n",
    "train['occyp_type'].fillna('unfilled', inplace=True) # 직업 유형 경우, 결측치가 많아서 따로 'unfilled' 라고 채움\n",
    "test['occyp_type'].fillna('unfilled', inplace=True)\n",
    "train.fillna('NAN', inplace=True) \n",
    "test.fillna('NAN', inplace=True)\n",
    "\n",
    "# 확인\n",
    "print('훈련데이터 결측치 합 \\n', train.isnull().sum())\n",
    "print('테스트데이터 결측치 합 \\n', test.isnull().sum())"
   ]
  },
  {
   "cell_type": "markdown",
   "metadata": {},
   "source": [
    "## 3. **이상치 처리**\n",
    "* 정수형, 실수형 데이터에서 이상치 찾아보고, 그에 맞게 처리하자."
   ]
  },
  {
   "cell_type": "code",
   "execution_count": 105,
   "metadata": {},
   "outputs": [
    {
     "data": {
      "text/plain": [
       "19"
      ]
     },
     "metadata": {},
     "output_type": "display_data"
    },
    {
     "data": {
      "text/plain": [
       "Index(['gender', 'car', 'reality', 'child_num', 'income_total', 'income_type',\n",
       "       'edu_type', 'family_type', 'house_type', 'DAYS_BIRTH', 'DAYS_EMPLOYED',\n",
       "       'FLAG_MOBIL', 'work_phone', 'phone', 'email', 'occyp_type',\n",
       "       'family_size', 'begin_month', 'credit'],\n",
       "      dtype='object')"
      ]
     },
     "metadata": {},
     "output_type": "display_data"
    }
   ],
   "source": [
    "display(len(train.columns))\n",
    "display((train.columns))"
   ]
  },
  {
   "cell_type": "markdown",
   "metadata": {},
   "source": [
    "### **3-1. 각 컬럼 데이터 변환 and 이상치 처리**\n",
    "* 정수/실수형 데이터를 가진 10개 컬럼 중 휴대전화/직장전화/가정용전화/이메일 보유여부는 이상치 없음. (1아니면 0이니깐)\n",
    "* 이 외에 6개 컬럼들 하나씩 살펴보기\n",
    " * 6개: 자녀 수, 가족 규모, 연간 소득, 출생일, 업무 시작일, 신용카드 발급 월 \n",
    " * 또한 분석하기 용이하게 데이터 변경 (ex) 부호 변환 or 일 수를 나이로)"
   ]
  },
  {
   "cell_type": "markdown",
   "metadata": {},
   "source": [
    "#### 1) 자녀 수\n",
    "* 6명 이상의 자녀를 가진 사람은 5명으로 변경 -> 이유: test set에서 자녀의 수 max가 5 이기 때문. "
   ]
  },
  {
   "cell_type": "code",
   "execution_count": 106,
   "metadata": {},
   "outputs": [
    {
     "name": "stdout",
     "output_type": "stream",
     "text": [
      "train childnum unique: [ 0  1  2  3  4  5 14 19  7]\n"
     ]
    }
   ],
   "source": [
    "print('train childnum unique:', train['child_num'].unique())"
   ]
  },
  {
   "cell_type": "code",
   "execution_count": 107,
   "metadata": {},
   "outputs": [
    {
     "name": "stdout",
     "output_type": "stream",
     "text": [
      "test childnum unique: [0 1 2 3 5 4]\n"
     ]
    }
   ],
   "source": [
    "print('test childnum unique:', test['child_num'].unique())"
   ]
  },
  {
   "cell_type": "code",
   "execution_count": 108,
   "metadata": {},
   "outputs": [
    {
     "name": "stdout",
     "output_type": "stream",
     "text": [
      "childnum unique: [0 1 2 3 4 5]\n"
     ]
    },
    {
     "data": {
      "text/plain": [
       "<AxesSubplot:xlabel='child_num'>"
      ]
     },
     "execution_count": 108,
     "metadata": {},
     "output_type": "execute_result"
    },
    {
     "data": {
      "image/png": "[encoded data removed]",
      "text/plain": [
       "<Figure size 576x396 with 1 Axes>"
      ]
     },
     "metadata": {},
     "output_type": "display_data"
    }
   ],
   "source": [
    "# 아이가 6명 이상인 데이터는 5로 변경\n",
    "train.loc[train['child_num'] >= 6,'child_num']=5\n",
    "print('childnum unique:', train['child_num'].unique())\n",
    "sns.distplot(train['child_num'], kde=False, label='child_num')"
   ]
  },
  {
   "cell_type": "markdown",
   "metadata": {},
   "source": [
    "#### 2) 가족 규모\n",
    "* 1의 이유와 같이 최대 아이 숫자를 5로 했기 때문에 가족 규모의 최댓값도 7로 변경함"
   ]
  },
  {
   "cell_type": "code",
   "execution_count": 109,
   "metadata": {},
   "outputs": [
    {
     "name": "stdout",
     "output_type": "stream",
     "text": [
      "train familysize unique: [ 2.  3.  4.  1.  5.  6.  7. 15. 20.  9.]\n"
     ]
    }
   ],
   "source": [
    "print('train familysize unique:', train['family_size'].unique())"
   ]
  },
  {
   "cell_type": "code",
   "execution_count": 110,
   "metadata": {},
   "outputs": [
    {
     "name": "stdout",
     "output_type": "stream",
     "text": [
      "test familysize unique: [2 1 3 4 5 7 6]\n"
     ]
    }
   ],
   "source": [
    "print('test familysize unique:', test['family_size'].unique())"
   ]
  },
  {
   "cell_type": "code",
   "execution_count": 111,
   "metadata": {},
   "outputs": [],
   "source": [
    "train.loc[train['family_size'] >= 8,'family_size']=7"
   ]
  },
  {
   "cell_type": "code",
   "execution_count": 112,
   "metadata": {},
   "outputs": [
    {
     "name": "stdout",
     "output_type": "stream",
     "text": [
      "train familysize unique: [2. 3. 4. 1. 5. 6. 7.]\n"
     ]
    },
    {
     "data": {
      "text/plain": [
       "<AxesSubplot:xlabel='family_size'>"
      ]
     },
     "execution_count": 112,
     "metadata": {},
     "output_type": "execute_result"
    },
    {
     "data": {
      "image/png": "[encoded data removed]",
      "text/plain": [
       "<Figure size 576x396 with 1 Axes>"
      ]
     },
     "metadata": {},
     "output_type": "display_data"
    }
   ],
   "source": [
    "print('train familysize unique:', train['family_size'].unique())\n",
    "sns.distplot(train['family_size'], kde=False, label='family_size')"
   ]
  },
  {
   "cell_type": "markdown",
   "metadata": {},
   "source": [
    "#### 3) 연간 소득\n",
    "* 테스트 데이터에서도 박스플롯 밖의 값이 많이 있기에 박스플롯 밖의 값 제거 안하기로 결정"
   ]
  },
  {
   "cell_type": "code",
   "execution_count": 113,
   "metadata": {},
   "outputs": [
    {
     "data": {
      "text/plain": [
       "Text(0.5, 1.0, 'test Boxplot of income_total')"
      ]
     },
     "execution_count": 113,
     "metadata": {},
     "output_type": "execute_result"
    },
    {
     "data": {
      "image/png": "[encoded data removed]",
      "text/plain": [
       "<Figure size 576x396 with 1 Axes>"
      ]
     },
     "metadata": {},
     "output_type": "display_data"
    },
    {
     "data": {
      "image/png": "[encoded data removed]",
      "text/plain": [
       "<Figure size 1080x576 with 2 Axes>"
      ]
     },
     "metadata": {},
     "output_type": "display_data"
    }
   ],
   "source": [
    "sns.distplot(train['income_total'], kde=False, label='income_total')\n",
    "fig, ax = plt.subplots(1, 2, figsize=(15,8))\n",
    "sns.boxplot(y=train[\"income_total\"],data=train, ax=ax[0])\n",
    "ax[0].set_title(\"train Boxplot of income_total\")\n",
    "\n",
    "sns.boxplot(y=test[\"income_total\"],data=test, ax=ax[1])\n",
    "ax[1].set_title(\"test Boxplot of income_total\")"
   ]
  },
  {
   "cell_type": "markdown",
   "metadata": {},
   "source": [
    "#### 4) 출생일 -> 나이\n",
    "* 양수 변환 후 나이로 변환\n",
    "* 정수형으로 변환"
   ]
  },
  {
   "cell_type": "code",
   "execution_count": 114,
   "metadata": {},
   "outputs": [
    {
     "data": {
      "text/plain": [
       "0        38\n",
       "1        31\n",
       "2        52\n",
       "3        41\n",
       "4        41\n",
       "         ..\n",
       "26452    33\n",
       "26453    41\n",
       "26454    27\n",
       "26455    27\n",
       "26456    53\n",
       "Name: DAYS_BIRTH, Length: 26457, dtype: int32"
      ]
     },
     "metadata": {},
     "output_type": "display_data"
    },
    {
     "data": {
      "text/plain": [
       "0       60\n",
       "1       51\n",
       "2       43\n",
       "3       52\n",
       "4       48\n",
       "        ..\n",
       "9995    50\n",
       "9996    29\n",
       "9997    57\n",
       "9998    45\n",
       "9999    25\n",
       "Name: DAYS_BIRTH, Length: 10000, dtype: int32"
      ]
     },
     "metadata": {},
     "output_type": "display_data"
    }
   ],
   "source": [
    "def days_to_age(x):\n",
    "    return (x*-1)/365\n",
    "\n",
    "# train\n",
    "train['DAYS_BIRTH'] = train['DAYS_BIRTH'].apply(days_to_age)\n",
    "train['DAYS_BIRTH'] = train['DAYS_BIRTH'].astype({'DAYS_BIRTH':'int'})\n",
    "display(train['DAYS_BIRTH'])\n",
    "\n",
    "# test\n",
    "test['DAYS_BIRTH'] = test['DAYS_BIRTH'].apply(days_to_age)\n",
    "test['DAYS_BIRTH'] = test['DAYS_BIRTH'].astype({'DAYS_BIRTH':'int'})\n",
    "display(test['DAYS_BIRTH'])"
   ]
  },
  {
   "cell_type": "markdown",
   "metadata": {},
   "source": [
    "#### 5) 업무시작일 -> 업무 연차\n",
    "* 양수 변환 후 연차로 변환\n",
    "    * 단, 365243은 0연차로 변환\n",
    "    * 135일 일한 사람과 0연차를 구분하기 위해서 0연차를 제외하고 모두 +1 해줌\n",
    "* 정수형으로 변환"
   ]
  },
  {
   "cell_type": "code",
   "execution_count": 115,
   "metadata": {},
   "outputs": [
    {
     "data": {
      "text/plain": [
       "0        13\n",
       "1         5\n",
       "2        13\n",
       "3         6\n",
       "4         6\n",
       "         ..\n",
       "26452     6\n",
       "26453     7\n",
       "26454     6\n",
       "26455     1\n",
       "26456     3\n",
       "Name: DAYS_EMPLOYED, Length: 26457, dtype: int32"
      ]
     },
     "metadata": {},
     "output_type": "display_data"
    },
    {
     "data": {
      "text/plain": [
       "0        0\n",
       "1       24\n",
       "2        1\n",
       "3        7\n",
       "4       26\n",
       "        ..\n",
       "9995    15\n",
       "9996     4\n",
       "9997    39\n",
       "9998     3\n",
       "9999     1\n",
       "Name: DAYS_EMPLOYED, Length: 10000, dtype: int32"
      ]
     },
     "metadata": {},
     "output_type": "display_data"
    }
   ],
   "source": [
    "def days_to_year(x):\n",
    "    if x==365243 :\n",
    "        return 0\n",
    "    return (x*-1)/365+1\n",
    "\n",
    "# train\n",
    "train['DAYS_EMPLOYED'] = train['DAYS_EMPLOYED'].apply(days_to_year)\n",
    "train['DAYS_EMPLOYED'] = train['DAYS_EMPLOYED'].astype({'DAYS_EMPLOYED':'int'})\n",
    "display(train['DAYS_EMPLOYED'])\n",
    "\n",
    "# test\n",
    "test['DAYS_EMPLOYED'] = test['DAYS_EMPLOYED'].apply(days_to_year)\n",
    "test['DAYS_EMPLOYED'] = test['DAYS_EMPLOYED'].astype({'DAYS_EMPLOYED':'int'})\n",
    "display(test['DAYS_EMPLOYED'])"
   ]
  },
  {
   "cell_type": "markdown",
   "metadata": {},
   "source": [
    "#### 6) 신용카드 발급 월"
   ]
  },
  {
   "cell_type": "markdown",
   "metadata": {},
   "source": [
    "* 양수로 변환"
   ]
  },
  {
   "cell_type": "code",
   "execution_count": 116,
   "metadata": {},
   "outputs": [
    {
     "data": {
      "text/plain": [
       "0         6.0\n",
       "1         5.0\n",
       "2        22.0\n",
       "3        37.0\n",
       "4        26.0\n",
       "         ... \n",
       "26452     2.0\n",
       "26453    47.0\n",
       "26454    25.0\n",
       "26455    59.0\n",
       "26456     9.0\n",
       "Name: begin_month, Length: 26457, dtype: float64"
      ]
     },
     "metadata": {},
     "output_type": "display_data"
    },
    {
     "data": {
      "text/plain": [
       "0       60\n",
       "1       36\n",
       "2       40\n",
       "3       41\n",
       "4        8\n",
       "        ..\n",
       "9995    19\n",
       "9996    34\n",
       "9997    55\n",
       "9998    33\n",
       "9999    11\n",
       "Name: begin_month, Length: 10000, dtype: int64"
      ]
     },
     "metadata": {},
     "output_type": "display_data"
    }
   ],
   "source": [
    "def minus(x):\n",
    "    return x * -1\n",
    "\n",
    "# train\n",
    "train['begin_month'] = train['begin_month'].apply(minus)\n",
    "display(train['begin_month'])\n",
    "\n",
    "# test\n",
    "test['begin_month'] = test['begin_month'].apply(minus)\n",
    "display(test['begin_month'])"
   ]
  },
  {
   "cell_type": "markdown",
   "metadata": {},
   "source": [
    "#### 7) 박스 플롯을 통한 이상치 확인\n",
    "* 박스플롯"
   ]
  },
  {
   "cell_type": "code",
   "execution_count": 117,
   "metadata": {},
   "outputs": [
    {
     "name": "stdout",
     "output_type": "stream",
     "text": [
      "<class 'pandas.core.frame.DataFrame'>\n",
      "RangeIndex: 26457 entries, 0 to 26456\n",
      "Data columns (total 19 columns):\n",
      " #   Column         Non-Null Count  Dtype  \n",
      "---  ------         --------------  -----  \n",
      " 0   gender         26457 non-null  object \n",
      " 1   car            26457 non-null  object \n",
      " 2   reality        26457 non-null  object \n",
      " 3   child_num      26457 non-null  int64  \n",
      " 4   income_total   26457 non-null  float64\n",
      " 5   income_type    26457 non-null  object \n",
      " 6   edu_type       26457 non-null  object \n",
      " 7   family_type    26457 non-null  object \n",
      " 8   house_type     26457 non-null  object \n",
      " 9   DAYS_BIRTH     26457 non-null  int32  \n",
      " 10  DAYS_EMPLOYED  26457 non-null  int32  \n",
      " 11  FLAG_MOBIL     26457 non-null  int64  \n",
      " 12  work_phone     26457 non-null  int64  \n",
      " 13  phone          26457 non-null  int64  \n",
      " 14  email          26457 non-null  int64  \n",
      " 15  occyp_type     26457 non-null  object \n",
      " 16  family_size    26457 non-null  float64\n",
      " 17  begin_month    26457 non-null  float64\n",
      " 18  credit         26457 non-null  float64\n",
      "dtypes: float64(4), int32(2), int64(5), object(8)\n",
      "memory usage: 3.6+ MB\n"
     ]
    }
   ],
   "source": [
    "train.info()"
   ]
  },
  {
   "cell_type": "markdown",
   "metadata": {},
   "source": [
    "* 1) 신용카드 발급 월\n",
    "* 2) 업무 연차\n",
    "* 3) 나이\n",
    "* 4) 연간 수입\n",
    " * 4개 컬럼에 대해 박스플롯 그려보기"
   ]
  },
  {
   "cell_type": "code",
   "execution_count": 118,
   "metadata": {},
   "outputs": [
    {
     "data": {
      "text/plain": [
       "Text(0.5, 1.0, \"Boxplot of test's begin_month\")"
      ]
     },
     "execution_count": 118,
     "metadata": {},
     "output_type": "execute_result"
    },
    {
     "data": {
      "image/png": "[encoded data removed]",
      "text/plain": [
       "<Figure size 1080x576 with 2 Axes>"
      ]
     },
     "metadata": {},
     "output_type": "display_data"
    }
   ],
   "source": [
    "# 신용카드 발급 월의 박스플롯\n",
    "fig, ax = plt.subplots(1, 2, figsize=(15,8))\n",
    "\n",
    "sns.boxplot(y=train[\"begin_month\"],data=train, ax=ax[0])\n",
    "ax[0].set_title(\"Boxplot of train's begin_month\")\n",
    "\n",
    "sns.boxplot(y=test[\"begin_month\"],data=test, ax=ax[1])\n",
    "ax[1].set_title(\"Boxplot of test's begin_month\")"
   ]
  },
  {
   "cell_type": "code",
   "execution_count": 119,
   "metadata": {},
   "outputs": [
    {
     "data": {
      "text/plain": [
       "Text(0.5, 1.0, \"Boxplot of test's DAYS_BIRTH\")"
      ]
     },
     "execution_count": 119,
     "metadata": {},
     "output_type": "execute_result"
    },
    {
     "data": {
      "image/png": "[encoded data removed]",
      "text/plain": [
       "<Figure size 1080x576 with 2 Axes>"
      ]
     },
     "metadata": {},
     "output_type": "display_data"
    }
   ],
   "source": [
    "# 나이에 대한 박스플롯\n",
    "fig, ax = plt.subplots(1, 2, figsize=(15,8))\n",
    "\n",
    "sns.boxplot(y=train[\"DAYS_BIRTH\"],data=train, ax=ax[0])\n",
    "ax[0].set_title(\"Boxplot of train's DAYS_BIRTH\")\n",
    "\n",
    "sns.boxplot(y=test[\"DAYS_BIRTH\"],data=test, ax=ax[1])\n",
    "ax[1].set_title(\"Boxplot of test's DAYS_BIRTH\")"
   ]
  },
  {
   "cell_type": "code",
   "execution_count": 120,
   "metadata": {},
   "outputs": [
    {
     "data": {
      "text/plain": [
       "Text(0.5, 1.0, \"Boxplot of test's income_total\")"
      ]
     },
     "execution_count": 120,
     "metadata": {},
     "output_type": "execute_result"
    },
    {
     "data": {
      "image/png": "[encoded data removed]",
      "text/plain": [
       "<Figure size 1080x576 with 2 Axes>"
      ]
     },
     "metadata": {},
     "output_type": "display_data"
    }
   ],
   "source": [
    "# 연간 수입에 대한 박스플롯\n",
    "fig, ax = plt.subplots(1, 2, figsize=(15,8))\n",
    "\n",
    "sns.boxplot(y=train[\"income_total\"],data=train, ax=ax[0])\n",
    "ax[0].set_title(\"Boxplot of train's income_total\")\n",
    "\n",
    "sns.boxplot(y=test[\"income_total\"],data=test, ax=ax[1])\n",
    "ax[1].set_title(\"Boxplot of test's income_total\")"
   ]
  },
  {
   "cell_type": "code",
   "execution_count": 121,
   "metadata": {},
   "outputs": [
    {
     "data": {
      "text/plain": [
       "Text(0.5, 1.0, \"Boxplot of test's DAYS_EMPLOYED\")"
      ]
     },
     "execution_count": 121,
     "metadata": {},
     "output_type": "execute_result"
    },
    {
     "data": {
      "image/png": "[encoded data removed]",
      "text/plain": [
       "<Figure size 1080x576 with 2 Axes>"
      ]
     },
     "metadata": {},
     "output_type": "display_data"
    }
   ],
   "source": [
    "# 업무 연차에 대한 박스플롯\n",
    "fig, ax = plt.subplots(1, 2, figsize=(15,8))\n",
    "\n",
    "sns.boxplot(y=train[\"DAYS_EMPLOYED\"],data=train, ax=ax[0])\n",
    "ax[0].set_title(\"Boxplot of train's DAYS_EMPLOYED\")\n",
    "\n",
    "sns.boxplot(y=test[\"DAYS_EMPLOYED\"],data=test, ax=ax[1])\n",
    "ax[1].set_title(\"Boxplot of test's DAYS_EMPLOYED\")"
   ]
  },
  {
   "cell_type": "code",
   "execution_count": 122,
   "metadata": {},
   "outputs": [
    {
     "data": {
      "text/plain": [
       "Text(0.5, 1.0, 'Boxplot of family_size')"
      ]
     },
     "execution_count": 122,
     "metadata": {},
     "output_type": "execute_result"
    },
    {
     "data": {
      "image/png": "[encoded data removed]",
      "text/plain": [
       "<Figure size 1080x576 with 2 Axes>"
      ]
     },
     "metadata": {},
     "output_type": "display_data"
    }
   ],
   "source": [
    "# child_num, family_size\n",
    "fig, ax = plt.subplots(1, 2, figsize=(15,8))\n",
    "\n",
    "sns.boxplot(y=train[\"child_num\"],data=train, ax=ax[0])\n",
    "ax[0].set_title(\"Boxplot of child_num\")\n",
    "\n",
    "sns.boxplot(y=train[\"family_size\"],data=train, ax=ax[1])\n",
    "ax[1].set_title(\"Boxplot of family_size\")"
   ]
  },
  {
   "cell_type": "markdown",
   "metadata": {},
   "source": [
    "#### 8) 상관관계\n",
    "* 범주형과 수치형 상관관계 확인 - https://dodonam.tistory.com/217"
   ]
  },
  {
   "cell_type": "code",
   "execution_count": 123,
   "metadata": {},
   "outputs": [
    {
     "data": {
      "text/plain": [
       "<AxesSubplot:>"
      ]
     },
     "execution_count": 123,
     "metadata": {},
     "output_type": "execute_result"
    },
    {
     "data": {
      "image/png": "[encoded data removed]",
      "text/plain": [
       "<Figure size 1008x576 with 2 Axes>"
      ]
     },
     "metadata": {},
     "output_type": "display_data"
    }
   ],
   "source": [
    "#상관관계를 확인\n",
    "sns.set(rc={'figure.figsize':(14,8)})\n",
    "corr = train.corr()\n",
    "sns.heatmap(corr, cmap='coolwarm_r')"
   ]
  },
  {
   "cell_type": "code",
   "execution_count": 124,
   "metadata": {},
   "outputs": [
    {
     "data": {
      "image/png": "[encoded data removed]",
      "text/plain": [
       "<Figure size 1008x576 with 2 Axes>"
      ]
     },
     "metadata": {},
     "output_type": "display_data"
    }
   ],
   "source": [
    "# 다중 공선성 확인\n",
    "list_numeric = [\"child_num\", \"income_total\", \"DAYS_BIRTH\", \"DAYS_EMPLOYED\", \"family_size\", \"begin_month\"]\n",
    "sns.heatmap(train[list_numeric].corr(), annot = True, fmt = \".2f\")\n",
    "plt.show()"
   ]
  },
  {
   "cell_type": "code",
   "execution_count": 125,
   "metadata": {},
   "outputs": [
    {
     "data": {
      "text/html": [
       "<div>\n",
       "<style scoped>\n",
       "    .dataframe tbody tr th:only-of-type {\n",
       "        vertical-align: middle;\n",
       "    }\n",
       "\n",
       "    .dataframe tbody tr th {\n",
       "        vertical-align: top;\n",
       "    }\n",
       "\n",
       "    .dataframe thead th {\n",
       "        text-align: right;\n",
       "    }\n",
       "</style>\n",
       "<table border=\"1\" class=\"dataframe\">\n",
       "  <thead>\n",
       "    <tr style=\"text-align: right;\">\n",
       "      <th></th>\n",
       "      <th>credit</th>\n",
       "    </tr>\n",
       "  </thead>\n",
       "  <tbody>\n",
       "    <tr>\n",
       "      <th>work_phone</th>\n",
       "      <td>-0.003134</td>\n",
       "    </tr>\n",
       "    <tr>\n",
       "      <th>child_num</th>\n",
       "      <td>0.002601</td>\n",
       "    </tr>\n",
       "    <tr>\n",
       "      <th>phone</th>\n",
       "      <td>0.003452</td>\n",
       "    </tr>\n",
       "    <tr>\n",
       "      <th>family_size</th>\n",
       "      <td>0.007195</td>\n",
       "    </tr>\n",
       "    <tr>\n",
       "      <th>income_total</th>\n",
       "      <td>0.008555</td>\n",
       "    </tr>\n",
       "  </tbody>\n",
       "</table>\n",
       "</div>"
      ],
      "text/plain": [
       "                credit\n",
       "work_phone   -0.003134\n",
       "child_num     0.002601\n",
       "phone         0.003452\n",
       "family_size   0.007195\n",
       "income_total  0.008555"
      ]
     },
     "metadata": {},
     "output_type": "display_data"
    },
    {
     "name": "stdout",
     "output_type": "stream",
     "text": [
      "                 credit\n",
      "work_phone    -0.003134\n",
      "child_num      0.002601\n",
      "phone          0.003452\n",
      "family_size    0.007195\n",
      "income_total   0.008555\n",
      "email          0.014812\n",
      "DAYS_EMPLOYED  0.023476\n",
      "DAYS_BIRTH     0.025059\n",
      "begin_month    0.147477\n",
      "credit         1.000000\n",
      "FLAG_MOBIL          NaN\n"
     ]
    }
   ],
   "source": [
    "#상관관계 수치로 확인\n",
    "# 종속변수('Class')와의 상관관계\n",
    "Corr = train.corr()\n",
    "IF = Corr['credit'].sort_values().to_frame()\n",
    "display(IF.head(5))\n",
    "print(IF)"
   ]
  },
  {
   "cell_type": "markdown",
   "metadata": {},
   "source": [
    "* 신용도와 가장 상관관계가 높은 컬럼은 \"begin_month\" 이나 0.147에 불과함"
   ]
  },
  {
   "cell_type": "markdown",
   "metadata": {},
   "source": [
    "#### 9) 회귀분석 그래프"
   ]
  },
  {
   "cell_type": "code",
   "execution_count": 126,
   "metadata": {},
   "outputs": [
    {
     "data": {
      "text/plain": [
       "<seaborn.axisgrid.FacetGrid at 0x1f3041658b0>"
      ]
     },
     "execution_count": 126,
     "metadata": {},
     "output_type": "execute_result"
    },
    {
     "data": {
      "image/png": "[encoded data removed]",
      "text/plain": [
       "<Figure size 360x360 with 1 Axes>"
      ]
     },
     "metadata": {},
     "output_type": "display_data"
    }
   ],
   "source": [
    "# 9-1. 연차와 연간 소득의 회귀분석 그래프\n",
    "# 연차가 낮은데 소득이 굉장히 많은 경우는 제거해도 좋을 듯\n",
    "sns.lmplot(x=\"DAYS_EMPLOYED\", y=\"income_total\", data=train, line_kws={'color':\"red\"})"
   ]
  },
  {
   "cell_type": "markdown",
   "metadata": {},
   "source": [
    "## 4. **Feature Engineering** - 여기에 정규화 포함시켜야 할듯요!\n",
    "\n",
    "* 수치형 컬럼은 기존 데이터 분포와 비슷하고, 어느정도 일정한 범위를 갖게 정규화해야함\n",
    "* 각 컬럼마다 동일한 스케일러 적용할 필요는 없음. \n",
    "* [다른 스케일러 적용한 사례- 블로그](https://lsjsj92.tistory.com/555?category=853217)"
   ]
  },
  {
   "cell_type": "markdown",
   "metadata": {},
   "source": [
    "### 4-1. 범주형 데이터 one-hot encoding, label encoding\n",
    "* object (범주형)은 원핫인코딩 하기.\n",
    "    * 단, occyp_type은 라벨 인코딩.\n",
    "* 범주형 데이터를 가지는 변수 확인 (dtype가 object)\n",
    "* gender(2), car(2), reality(2), income_type(5), edu_type(5), family_type(5), house_type(6), occyp_type(18)"
   ]
  },
  {
   "cell_type": "code",
   "execution_count": 127,
   "metadata": {},
   "outputs": [
    {
     "data": {
      "text/plain": [
       "['gender',\n",
       " 'car',\n",
       " 'reality',\n",
       " 'income_type',\n",
       " 'edu_type',\n",
       " 'family_type',\n",
       " 'house_type',\n",
       " 'occyp_type']"
      ]
     },
     "metadata": {},
     "output_type": "display_data"
    }
   ],
   "source": [
    "# object 객체를 가지는 변수(열) 확인\n",
    "object_col = []\n",
    "for col in train.columns:\n",
    "    if train[col].dtype == 'object' : # and col!='occyp_type': # 변수가 18개인 occyp_type만 제외\n",
    "        object_col.append(col)\n",
    "display(object_col)"
   ]
  },
  {
   "cell_type": "code",
   "execution_count": 128,
   "metadata": {},
   "outputs": [
    {
     "name": "stdout",
     "output_type": "stream",
     "text": [
      "['unfilled' 'Laborers' 'Managers' 'Sales staff' 'High skill tech staff'\n",
      " 'Core staff' 'Drivers' 'Medicine staff' 'Accountants' 'Realty agents'\n",
      " 'Security staff' 'Cleaning staff' 'Private service staff' 'Cooking staff'\n",
      " 'Secretaries' 'HR staff' 'IT staff' 'Low-skill Laborers'\n",
      " 'Waiters/barmen staff']\n"
     ]
    },
    {
     "data": {
      "text/plain": [
       "19"
      ]
     },
     "execution_count": 128,
     "metadata": {},
     "output_type": "execute_result"
    }
   ],
   "source": [
    "print(train['occyp_type'].unique())\n",
    "(len(train['occyp_type'].unique()))"
   ]
  },
  {
   "cell_type": "markdown",
   "metadata": {},
   "source": [
    "#### 4-1-1. train의 원핫인코딩, 라벨인코딩"
   ]
  },
  {
   "cell_type": "code",
   "execution_count": 129,
   "metadata": {},
   "outputs": [],
   "source": [
    "# occyp_type을 제외한 모든 object객체 열을 onehot encoding\n",
    "\n",
    "enc = OneHotEncoder()\n",
    "enc.fit(train.loc[:,object_col])\n",
    "\n",
    "train_onehot_df = pd.DataFrame(enc.transform(train.loc[:,object_col]).toarray(), \n",
    "             columns=enc.get_feature_names(object_col))\n",
    "train.drop(object_col, axis=1, inplace=True)\n",
    "train = pd.concat([train, train_onehot_df], axis=1)"
   ]
  },
  {
   "cell_type": "code",
   "execution_count": 130,
   "metadata": {},
   "outputs": [],
   "source": [
    "# occyp_type을 label encoding\n",
    "\n",
    "# label_encoder=preprocessing.LabelEncoder()\n",
    "# train['occyp_type']=label_encoder.fit_transform(train['occyp_type'])"
   ]
  },
  {
   "cell_type": "code",
   "execution_count": 131,
   "metadata": {},
   "outputs": [
    {
     "data": {
      "text/html": [
       "<div>\n",
       "<style scoped>\n",
       "    .dataframe tbody tr th:only-of-type {\n",
       "        vertical-align: middle;\n",
       "    }\n",
       "\n",
       "    .dataframe tbody tr th {\n",
       "        vertical-align: top;\n",
       "    }\n",
       "\n",
       "    .dataframe thead th {\n",
       "        text-align: right;\n",
       "    }\n",
       "</style>\n",
       "<table border=\"1\" class=\"dataframe\">\n",
       "  <thead>\n",
       "    <tr style=\"text-align: right;\">\n",
       "      <th></th>\n",
       "      <th>child_num</th>\n",
       "      <th>income_total</th>\n",
       "      <th>DAYS_BIRTH</th>\n",
       "      <th>DAYS_EMPLOYED</th>\n",
       "      <th>FLAG_MOBIL</th>\n",
       "      <th>work_phone</th>\n",
       "      <th>phone</th>\n",
       "      <th>email</th>\n",
       "      <th>family_size</th>\n",
       "      <th>begin_month</th>\n",
       "      <th>...</th>\n",
       "      <th>occyp_type_Low-skill Laborers</th>\n",
       "      <th>occyp_type_Managers</th>\n",
       "      <th>occyp_type_Medicine staff</th>\n",
       "      <th>occyp_type_Private service staff</th>\n",
       "      <th>occyp_type_Realty agents</th>\n",
       "      <th>occyp_type_Sales staff</th>\n",
       "      <th>occyp_type_Secretaries</th>\n",
       "      <th>occyp_type_Security staff</th>\n",
       "      <th>occyp_type_Waiters/barmen staff</th>\n",
       "      <th>occyp_type_unfilled</th>\n",
       "    </tr>\n",
       "  </thead>\n",
       "  <tbody>\n",
       "    <tr>\n",
       "      <th>0</th>\n",
       "      <td>0</td>\n",
       "      <td>202500.0</td>\n",
       "      <td>38</td>\n",
       "      <td>13</td>\n",
       "      <td>1</td>\n",
       "      <td>0</td>\n",
       "      <td>0</td>\n",
       "      <td>0</td>\n",
       "      <td>2.0</td>\n",
       "      <td>6.0</td>\n",
       "      <td>...</td>\n",
       "      <td>0.0</td>\n",
       "      <td>0.0</td>\n",
       "      <td>0.0</td>\n",
       "      <td>0.0</td>\n",
       "      <td>0.0</td>\n",
       "      <td>0.0</td>\n",
       "      <td>0.0</td>\n",
       "      <td>0.0</td>\n",
       "      <td>0.0</td>\n",
       "      <td>1.0</td>\n",
       "    </tr>\n",
       "    <tr>\n",
       "      <th>1</th>\n",
       "      <td>1</td>\n",
       "      <td>247500.0</td>\n",
       "      <td>31</td>\n",
       "      <td>5</td>\n",
       "      <td>1</td>\n",
       "      <td>0</td>\n",
       "      <td>0</td>\n",
       "      <td>1</td>\n",
       "      <td>3.0</td>\n",
       "      <td>5.0</td>\n",
       "      <td>...</td>\n",
       "      <td>0.0</td>\n",
       "      <td>0.0</td>\n",
       "      <td>0.0</td>\n",
       "      <td>0.0</td>\n",
       "      <td>0.0</td>\n",
       "      <td>0.0</td>\n",
       "      <td>0.0</td>\n",
       "      <td>0.0</td>\n",
       "      <td>0.0</td>\n",
       "      <td>0.0</td>\n",
       "    </tr>\n",
       "    <tr>\n",
       "      <th>2</th>\n",
       "      <td>0</td>\n",
       "      <td>450000.0</td>\n",
       "      <td>52</td>\n",
       "      <td>13</td>\n",
       "      <td>1</td>\n",
       "      <td>0</td>\n",
       "      <td>1</td>\n",
       "      <td>0</td>\n",
       "      <td>2.0</td>\n",
       "      <td>22.0</td>\n",
       "      <td>...</td>\n",
       "      <td>0.0</td>\n",
       "      <td>1.0</td>\n",
       "      <td>0.0</td>\n",
       "      <td>0.0</td>\n",
       "      <td>0.0</td>\n",
       "      <td>0.0</td>\n",
       "      <td>0.0</td>\n",
       "      <td>0.0</td>\n",
       "      <td>0.0</td>\n",
       "      <td>0.0</td>\n",
       "    </tr>\n",
       "    <tr>\n",
       "      <th>3</th>\n",
       "      <td>0</td>\n",
       "      <td>202500.0</td>\n",
       "      <td>41</td>\n",
       "      <td>6</td>\n",
       "      <td>1</td>\n",
       "      <td>0</td>\n",
       "      <td>1</td>\n",
       "      <td>0</td>\n",
       "      <td>2.0</td>\n",
       "      <td>37.0</td>\n",
       "      <td>...</td>\n",
       "      <td>0.0</td>\n",
       "      <td>0.0</td>\n",
       "      <td>0.0</td>\n",
       "      <td>0.0</td>\n",
       "      <td>0.0</td>\n",
       "      <td>1.0</td>\n",
       "      <td>0.0</td>\n",
       "      <td>0.0</td>\n",
       "      <td>0.0</td>\n",
       "      <td>0.0</td>\n",
       "    </tr>\n",
       "    <tr>\n",
       "      <th>4</th>\n",
       "      <td>0</td>\n",
       "      <td>157500.0</td>\n",
       "      <td>41</td>\n",
       "      <td>6</td>\n",
       "      <td>1</td>\n",
       "      <td>0</td>\n",
       "      <td>0</td>\n",
       "      <td>0</td>\n",
       "      <td>2.0</td>\n",
       "      <td>26.0</td>\n",
       "      <td>...</td>\n",
       "      <td>0.0</td>\n",
       "      <td>1.0</td>\n",
       "      <td>0.0</td>\n",
       "      <td>0.0</td>\n",
       "      <td>0.0</td>\n",
       "      <td>0.0</td>\n",
       "      <td>0.0</td>\n",
       "      <td>0.0</td>\n",
       "      <td>0.0</td>\n",
       "      <td>0.0</td>\n",
       "    </tr>\n",
       "  </tbody>\n",
       "</table>\n",
       "<p>5 rows × 57 columns</p>\n",
       "</div>"
      ],
      "text/plain": [
       "   child_num  income_total  DAYS_BIRTH  DAYS_EMPLOYED  FLAG_MOBIL  work_phone  \\\n",
       "0          0      202500.0          38             13           1           0   \n",
       "1          1      247500.0          31              5           1           0   \n",
       "2          0      450000.0          52             13           1           0   \n",
       "3          0      202500.0          41              6           1           0   \n",
       "4          0      157500.0          41              6           1           0   \n",
       "\n",
       "   phone  email  family_size  begin_month  ...  occyp_type_Low-skill Laborers  \\\n",
       "0      0      0          2.0          6.0  ...                            0.0   \n",
       "1      0      1          3.0          5.0  ...                            0.0   \n",
       "2      1      0          2.0         22.0  ...                            0.0   \n",
       "3      1      0          2.0         37.0  ...                            0.0   \n",
       "4      0      0          2.0         26.0  ...                            0.0   \n",
       "\n",
       "   occyp_type_Managers  occyp_type_Medicine staff  \\\n",
       "0                  0.0                        0.0   \n",
       "1                  0.0                        0.0   \n",
       "2                  1.0                        0.0   \n",
       "3                  0.0                        0.0   \n",
       "4                  1.0                        0.0   \n",
       "\n",
       "   occyp_type_Private service staff  occyp_type_Realty agents  \\\n",
       "0                               0.0                       0.0   \n",
       "1                               0.0                       0.0   \n",
       "2                               0.0                       0.0   \n",
       "3                               0.0                       0.0   \n",
       "4                               0.0                       0.0   \n",
       "\n",
       "   occyp_type_Sales staff  occyp_type_Secretaries  occyp_type_Security staff  \\\n",
       "0                     0.0                     0.0                        0.0   \n",
       "1                     0.0                     0.0                        0.0   \n",
       "2                     0.0                     0.0                        0.0   \n",
       "3                     1.0                     0.0                        0.0   \n",
       "4                     0.0                     0.0                        0.0   \n",
       "\n",
       "   occyp_type_Waiters/barmen staff  occyp_type_unfilled  \n",
       "0                              0.0                  1.0  \n",
       "1                              0.0                  0.0  \n",
       "2                              0.0                  0.0  \n",
       "3                              0.0                  0.0  \n",
       "4                              0.0                  0.0  \n",
       "\n",
       "[5 rows x 57 columns]"
      ]
     },
     "metadata": {},
     "output_type": "display_data"
    },
    {
     "name": "stdout",
     "output_type": "stream",
     "text": [
      "Index(['child_num', 'income_total', 'DAYS_BIRTH', 'DAYS_EMPLOYED',\n",
      "       'FLAG_MOBIL', 'work_phone', 'phone', 'email', 'family_size',\n",
      "       'begin_month', 'credit', 'gender_F', 'gender_M', 'car_N', 'car_Y',\n",
      "       'reality_N', 'reality_Y', 'income_type_Commercial associate',\n",
      "       'income_type_Pensioner', 'income_type_State servant',\n",
      "       'income_type_Student', 'income_type_Working',\n",
      "       'edu_type_Academic degree', 'edu_type_Higher education',\n",
      "       'edu_type_Incomplete higher', 'edu_type_Lower secondary',\n",
      "       'edu_type_Secondary / secondary special', 'family_type_Civil marriage',\n",
      "       'family_type_Married', 'family_type_Separated',\n",
      "       'family_type_Single / not married', 'family_type_Widow',\n",
      "       'house_type_Co-op apartment', 'house_type_House / apartment',\n",
      "       'house_type_Municipal apartment', 'house_type_Office apartment',\n",
      "       'house_type_Rented apartment', 'house_type_With parents',\n",
      "       'occyp_type_Accountants', 'occyp_type_Cleaning staff',\n",
      "       'occyp_type_Cooking staff', 'occyp_type_Core staff',\n",
      "       'occyp_type_Drivers', 'occyp_type_HR staff',\n",
      "       'occyp_type_High skill tech staff', 'occyp_type_IT staff',\n",
      "       'occyp_type_Laborers', 'occyp_type_Low-skill Laborers',\n",
      "       'occyp_type_Managers', 'occyp_type_Medicine staff',\n",
      "       'occyp_type_Private service staff', 'occyp_type_Realty agents',\n",
      "       'occyp_type_Sales staff', 'occyp_type_Secretaries',\n",
      "       'occyp_type_Security staff', 'occyp_type_Waiters/barmen staff',\n",
      "       'occyp_type_unfilled'],\n",
      "      dtype='object')\n",
      "<class 'pandas.core.frame.DataFrame'>\n",
      "RangeIndex: 26457 entries, 0 to 26456\n",
      "Data columns (total 57 columns):\n",
      " #   Column                                  Non-Null Count  Dtype  \n",
      "---  ------                                  --------------  -----  \n",
      " 0   child_num                               26457 non-null  int64  \n",
      " 1   income_total                            26457 non-null  float64\n",
      " 2   DAYS_BIRTH                              26457 non-null  int32  \n",
      " 3   DAYS_EMPLOYED                           26457 non-null  int32  \n",
      " 4   FLAG_MOBIL                              26457 non-null  int64  \n",
      " 5   work_phone                              26457 non-null  int64  \n",
      " 6   phone                                   26457 non-null  int64  \n",
      " 7   email                                   26457 non-null  int64  \n",
      " 8   family_size                             26457 non-null  float64\n",
      " 9   begin_month                             26457 non-null  float64\n",
      " 10  credit                                  26457 non-null  float64\n",
      " 11  gender_F                                26457 non-null  float64\n",
      " 12  gender_M                                26457 non-null  float64\n",
      " 13  car_N                                   26457 non-null  float64\n",
      " 14  car_Y                                   26457 non-null  float64\n",
      " 15  reality_N                               26457 non-null  float64\n",
      " 16  reality_Y                               26457 non-null  float64\n",
      " 17  income_type_Commercial associate        26457 non-null  float64\n",
      " 18  income_type_Pensioner                   26457 non-null  float64\n",
      " 19  income_type_State servant               26457 non-null  float64\n",
      " 20  income_type_Student                     26457 non-null  float64\n",
      " 21  income_type_Working                     26457 non-null  float64\n",
      " 22  edu_type_Academic degree                26457 non-null  float64\n",
      " 23  edu_type_Higher education               26457 non-null  float64\n",
      " 24  edu_type_Incomplete higher              26457 non-null  float64\n",
      " 25  edu_type_Lower secondary                26457 non-null  float64\n",
      " 26  edu_type_Secondary / secondary special  26457 non-null  float64\n",
      " 27  family_type_Civil marriage              26457 non-null  float64\n",
      " 28  family_type_Married                     26457 non-null  float64\n",
      " 29  family_type_Separated                   26457 non-null  float64\n",
      " 30  family_type_Single / not married        26457 non-null  float64\n",
      " 31  family_type_Widow                       26457 non-null  float64\n",
      " 32  house_type_Co-op apartment              26457 non-null  float64\n",
      " 33  house_type_House / apartment            26457 non-null  float64\n",
      " 34  house_type_Municipal apartment          26457 non-null  float64\n",
      " 35  house_type_Office apartment             26457 non-null  float64\n",
      " 36  house_type_Rented apartment             26457 non-null  float64\n",
      " 37  house_type_With parents                 26457 non-null  float64\n",
      " 38  occyp_type_Accountants                  26457 non-null  float64\n",
      " 39  occyp_type_Cleaning staff               26457 non-null  float64\n",
      " 40  occyp_type_Cooking staff                26457 non-null  float64\n",
      " 41  occyp_type_Core staff                   26457 non-null  float64\n",
      " 42  occyp_type_Drivers                      26457 non-null  float64\n",
      " 43  occyp_type_HR staff                     26457 non-null  float64\n",
      " 44  occyp_type_High skill tech staff        26457 non-null  float64\n",
      " 45  occyp_type_IT staff                     26457 non-null  float64\n",
      " 46  occyp_type_Laborers                     26457 non-null  float64\n",
      " 47  occyp_type_Low-skill Laborers           26457 non-null  float64\n",
      " 48  occyp_type_Managers                     26457 non-null  float64\n",
      " 49  occyp_type_Medicine staff               26457 non-null  float64\n",
      " 50  occyp_type_Private service staff        26457 non-null  float64\n",
      " 51  occyp_type_Realty agents                26457 non-null  float64\n",
      " 52  occyp_type_Sales staff                  26457 non-null  float64\n",
      " 53  occyp_type_Secretaries                  26457 non-null  float64\n",
      " 54  occyp_type_Security staff               26457 non-null  float64\n",
      " 55  occyp_type_Waiters/barmen staff         26457 non-null  float64\n",
      " 56  occyp_type_unfilled                     26457 non-null  float64\n",
      "dtypes: float64(50), int32(2), int64(5)\n",
      "memory usage: 11.3 MB\n"
     ]
    }
   ],
   "source": [
    "# 인코딩 확인\n",
    "\n",
    "display(train.head(5))\n",
    "print(train.columns)\n",
    "train.info()"
   ]
  },
  {
   "cell_type": "markdown",
   "metadata": {},
   "source": [
    "#### 4-1-2. test의 원핫인코딩, 라벨인코딩"
   ]
  },
  {
   "cell_type": "code",
   "execution_count": 132,
   "metadata": {},
   "outputs": [],
   "source": [
    "# occyp_type을 제외한 모든 object객체 열을  onehot encoding\n",
    "enc = OneHotEncoder()\n",
    "enc.fit(test.loc[:,object_col])\n",
    "\n",
    "test_onehot_df = pd.DataFrame(enc.transform(test.loc[:,object_col]).toarray(), \n",
    "             columns=enc.get_feature_names(object_col))\n",
    "test.drop(object_col, axis=1, inplace=True)\n",
    "test = pd.concat([test, test_onehot_df], axis=1)"
   ]
  },
  {
   "cell_type": "code",
   "execution_count": 133,
   "metadata": {},
   "outputs": [],
   "source": [
    "# occyp_type을 label encoding\n",
    "\n",
    "# label_encoder=preprocessing.LabelEncoder()\n",
    "# test['occyp_type']=label_encoder.fit_transform(test['occyp_type'])"
   ]
  },
  {
   "cell_type": "code",
   "execution_count": 134,
   "metadata": {},
   "outputs": [
    {
     "data": {
      "text/html": [
       "<div>\n",
       "<style scoped>\n",
       "    .dataframe tbody tr th:only-of-type {\n",
       "        vertical-align: middle;\n",
       "    }\n",
       "\n",
       "    .dataframe tbody tr th {\n",
       "        vertical-align: top;\n",
       "    }\n",
       "\n",
       "    .dataframe thead th {\n",
       "        text-align: right;\n",
       "    }\n",
       "</style>\n",
       "<table border=\"1\" class=\"dataframe\">\n",
       "  <thead>\n",
       "    <tr style=\"text-align: right;\">\n",
       "      <th></th>\n",
       "      <th>child_num</th>\n",
       "      <th>income_total</th>\n",
       "      <th>DAYS_BIRTH</th>\n",
       "      <th>DAYS_EMPLOYED</th>\n",
       "      <th>FLAG_MOBIL</th>\n",
       "      <th>work_phone</th>\n",
       "      <th>phone</th>\n",
       "      <th>email</th>\n",
       "      <th>family_size</th>\n",
       "      <th>begin_month</th>\n",
       "      <th>...</th>\n",
       "      <th>occyp_type_Low-skill Laborers</th>\n",
       "      <th>occyp_type_Managers</th>\n",
       "      <th>occyp_type_Medicine staff</th>\n",
       "      <th>occyp_type_Private service staff</th>\n",
       "      <th>occyp_type_Realty agents</th>\n",
       "      <th>occyp_type_Sales staff</th>\n",
       "      <th>occyp_type_Secretaries</th>\n",
       "      <th>occyp_type_Security staff</th>\n",
       "      <th>occyp_type_Waiters/barmen staff</th>\n",
       "      <th>occyp_type_unfilled</th>\n",
       "    </tr>\n",
       "  </thead>\n",
       "  <tbody>\n",
       "    <tr>\n",
       "      <th>0</th>\n",
       "      <td>0</td>\n",
       "      <td>112500.0</td>\n",
       "      <td>60</td>\n",
       "      <td>0</td>\n",
       "      <td>1</td>\n",
       "      <td>0</td>\n",
       "      <td>1</td>\n",
       "      <td>0</td>\n",
       "      <td>2</td>\n",
       "      <td>60</td>\n",
       "      <td>...</td>\n",
       "      <td>0.0</td>\n",
       "      <td>0.0</td>\n",
       "      <td>0.0</td>\n",
       "      <td>0.0</td>\n",
       "      <td>0.0</td>\n",
       "      <td>0.0</td>\n",
       "      <td>0.0</td>\n",
       "      <td>0.0</td>\n",
       "      <td>0.0</td>\n",
       "      <td>1.0</td>\n",
       "    </tr>\n",
       "    <tr>\n",
       "      <th>1</th>\n",
       "      <td>0</td>\n",
       "      <td>135000.0</td>\n",
       "      <td>51</td>\n",
       "      <td>24</td>\n",
       "      <td>1</td>\n",
       "      <td>0</td>\n",
       "      <td>1</td>\n",
       "      <td>0</td>\n",
       "      <td>2</td>\n",
       "      <td>36</td>\n",
       "      <td>...</td>\n",
       "      <td>0.0</td>\n",
       "      <td>0.0</td>\n",
       "      <td>0.0</td>\n",
       "      <td>0.0</td>\n",
       "      <td>0.0</td>\n",
       "      <td>0.0</td>\n",
       "      <td>0.0</td>\n",
       "      <td>0.0</td>\n",
       "      <td>0.0</td>\n",
       "      <td>0.0</td>\n",
       "    </tr>\n",
       "    <tr>\n",
       "      <th>2</th>\n",
       "      <td>0</td>\n",
       "      <td>69372.0</td>\n",
       "      <td>43</td>\n",
       "      <td>1</td>\n",
       "      <td>1</td>\n",
       "      <td>1</td>\n",
       "      <td>1</td>\n",
       "      <td>0</td>\n",
       "      <td>2</td>\n",
       "      <td>40</td>\n",
       "      <td>...</td>\n",
       "      <td>0.0</td>\n",
       "      <td>0.0</td>\n",
       "      <td>0.0</td>\n",
       "      <td>0.0</td>\n",
       "      <td>0.0</td>\n",
       "      <td>0.0</td>\n",
       "      <td>0.0</td>\n",
       "      <td>0.0</td>\n",
       "      <td>0.0</td>\n",
       "      <td>0.0</td>\n",
       "    </tr>\n",
       "    <tr>\n",
       "      <th>3</th>\n",
       "      <td>0</td>\n",
       "      <td>112500.0</td>\n",
       "      <td>52</td>\n",
       "      <td>7</td>\n",
       "      <td>1</td>\n",
       "      <td>1</td>\n",
       "      <td>0</td>\n",
       "      <td>0</td>\n",
       "      <td>2</td>\n",
       "      <td>41</td>\n",
       "      <td>...</td>\n",
       "      <td>0.0</td>\n",
       "      <td>0.0</td>\n",
       "      <td>0.0</td>\n",
       "      <td>0.0</td>\n",
       "      <td>0.0</td>\n",
       "      <td>0.0</td>\n",
       "      <td>0.0</td>\n",
       "      <td>0.0</td>\n",
       "      <td>0.0</td>\n",
       "      <td>0.0</td>\n",
       "    </tr>\n",
       "    <tr>\n",
       "      <th>4</th>\n",
       "      <td>0</td>\n",
       "      <td>225000.0</td>\n",
       "      <td>48</td>\n",
       "      <td>26</td>\n",
       "      <td>1</td>\n",
       "      <td>1</td>\n",
       "      <td>0</td>\n",
       "      <td>0</td>\n",
       "      <td>2</td>\n",
       "      <td>8</td>\n",
       "      <td>...</td>\n",
       "      <td>0.0</td>\n",
       "      <td>1.0</td>\n",
       "      <td>0.0</td>\n",
       "      <td>0.0</td>\n",
       "      <td>0.0</td>\n",
       "      <td>0.0</td>\n",
       "      <td>0.0</td>\n",
       "      <td>0.0</td>\n",
       "      <td>0.0</td>\n",
       "      <td>0.0</td>\n",
       "    </tr>\n",
       "  </tbody>\n",
       "</table>\n",
       "<p>5 rows × 56 columns</p>\n",
       "</div>"
      ],
      "text/plain": [
       "   child_num  income_total  DAYS_BIRTH  DAYS_EMPLOYED  FLAG_MOBIL  work_phone  \\\n",
       "0          0      112500.0          60              0           1           0   \n",
       "1          0      135000.0          51             24           1           0   \n",
       "2          0       69372.0          43              1           1           1   \n",
       "3          0      112500.0          52              7           1           1   \n",
       "4          0      225000.0          48             26           1           1   \n",
       "\n",
       "   phone  email  family_size  begin_month  ...  occyp_type_Low-skill Laborers  \\\n",
       "0      1      0            2           60  ...                            0.0   \n",
       "1      1      0            2           36  ...                            0.0   \n",
       "2      1      0            2           40  ...                            0.0   \n",
       "3      0      0            2           41  ...                            0.0   \n",
       "4      0      0            2            8  ...                            0.0   \n",
       "\n",
       "   occyp_type_Managers  occyp_type_Medicine staff  \\\n",
       "0                  0.0                        0.0   \n",
       "1                  0.0                        0.0   \n",
       "2                  0.0                        0.0   \n",
       "3                  0.0                        0.0   \n",
       "4                  1.0                        0.0   \n",
       "\n",
       "   occyp_type_Private service staff  occyp_type_Realty agents  \\\n",
       "0                               0.0                       0.0   \n",
       "1                               0.0                       0.0   \n",
       "2                               0.0                       0.0   \n",
       "3                               0.0                       0.0   \n",
       "4                               0.0                       0.0   \n",
       "\n",
       "   occyp_type_Sales staff  occyp_type_Secretaries  occyp_type_Security staff  \\\n",
       "0                     0.0                     0.0                        0.0   \n",
       "1                     0.0                     0.0                        0.0   \n",
       "2                     0.0                     0.0                        0.0   \n",
       "3                     0.0                     0.0                        0.0   \n",
       "4                     0.0                     0.0                        0.0   \n",
       "\n",
       "   occyp_type_Waiters/barmen staff  occyp_type_unfilled  \n",
       "0                              0.0                  1.0  \n",
       "1                              0.0                  0.0  \n",
       "2                              0.0                  0.0  \n",
       "3                              0.0                  0.0  \n",
       "4                              0.0                  0.0  \n",
       "\n",
       "[5 rows x 56 columns]"
      ]
     },
     "metadata": {},
     "output_type": "display_data"
    },
    {
     "name": "stdout",
     "output_type": "stream",
     "text": [
      "Index(['child_num', 'income_total', 'DAYS_BIRTH', 'DAYS_EMPLOYED',\n",
      "       'FLAG_MOBIL', 'work_phone', 'phone', 'email', 'family_size',\n",
      "       'begin_month', 'gender_F', 'gender_M', 'car_N', 'car_Y', 'reality_N',\n",
      "       'reality_Y', 'income_type_Commercial associate',\n",
      "       'income_type_Pensioner', 'income_type_State servant',\n",
      "       'income_type_Student', 'income_type_Working',\n",
      "       'edu_type_Academic degree', 'edu_type_Higher education',\n",
      "       'edu_type_Incomplete higher', 'edu_type_Lower secondary',\n",
      "       'edu_type_Secondary / secondary special', 'family_type_Civil marriage',\n",
      "       'family_type_Married', 'family_type_Separated',\n",
      "       'family_type_Single / not married', 'family_type_Widow',\n",
      "       'house_type_Co-op apartment', 'house_type_House / apartment',\n",
      "       'house_type_Municipal apartment', 'house_type_Office apartment',\n",
      "       'house_type_Rented apartment', 'house_type_With parents',\n",
      "       'occyp_type_Accountants', 'occyp_type_Cleaning staff',\n",
      "       'occyp_type_Cooking staff', 'occyp_type_Core staff',\n",
      "       'occyp_type_Drivers', 'occyp_type_HR staff',\n",
      "       'occyp_type_High skill tech staff', 'occyp_type_IT staff',\n",
      "       'occyp_type_Laborers', 'occyp_type_Low-skill Laborers',\n",
      "       'occyp_type_Managers', 'occyp_type_Medicine staff',\n",
      "       'occyp_type_Private service staff', 'occyp_type_Realty agents',\n",
      "       'occyp_type_Sales staff', 'occyp_type_Secretaries',\n",
      "       'occyp_type_Security staff', 'occyp_type_Waiters/barmen staff',\n",
      "       'occyp_type_unfilled'],\n",
      "      dtype='object')\n",
      "<class 'pandas.core.frame.DataFrame'>\n",
      "RangeIndex: 10000 entries, 0 to 9999\n",
      "Data columns (total 56 columns):\n",
      " #   Column                                  Non-Null Count  Dtype  \n",
      "---  ------                                  --------------  -----  \n",
      " 0   child_num                               10000 non-null  int64  \n",
      " 1   income_total                            10000 non-null  float64\n",
      " 2   DAYS_BIRTH                              10000 non-null  int32  \n",
      " 3   DAYS_EMPLOYED                           10000 non-null  int32  \n",
      " 4   FLAG_MOBIL                              10000 non-null  int64  \n",
      " 5   work_phone                              10000 non-null  int64  \n",
      " 6   phone                                   10000 non-null  int64  \n",
      " 7   email                                   10000 non-null  int64  \n",
      " 8   family_size                             10000 non-null  int64  \n",
      " 9   begin_month                             10000 non-null  int64  \n",
      " 10  gender_F                                10000 non-null  float64\n",
      " 11  gender_M                                10000 non-null  float64\n",
      " 12  car_N                                   10000 non-null  float64\n",
      " 13  car_Y                                   10000 non-null  float64\n",
      " 14  reality_N                               10000 non-null  float64\n",
      " 15  reality_Y                               10000 non-null  float64\n",
      " 16  income_type_Commercial associate        10000 non-null  float64\n",
      " 17  income_type_Pensioner                   10000 non-null  float64\n",
      " 18  income_type_State servant               10000 non-null  float64\n",
      " 19  income_type_Student                     10000 non-null  float64\n",
      " 20  income_type_Working                     10000 non-null  float64\n",
      " 21  edu_type_Academic degree                10000 non-null  float64\n",
      " 22  edu_type_Higher education               10000 non-null  float64\n",
      " 23  edu_type_Incomplete higher              10000 non-null  float64\n",
      " 24  edu_type_Lower secondary                10000 non-null  float64\n",
      " 25  edu_type_Secondary / secondary special  10000 non-null  float64\n",
      " 26  family_type_Civil marriage              10000 non-null  float64\n",
      " 27  family_type_Married                     10000 non-null  float64\n",
      " 28  family_type_Separated                   10000 non-null  float64\n",
      " 29  family_type_Single / not married        10000 non-null  float64\n",
      " 30  family_type_Widow                       10000 non-null  float64\n",
      " 31  house_type_Co-op apartment              10000 non-null  float64\n",
      " 32  house_type_House / apartment            10000 non-null  float64\n",
      " 33  house_type_Municipal apartment          10000 non-null  float64\n",
      " 34  house_type_Office apartment             10000 non-null  float64\n",
      " 35  house_type_Rented apartment             10000 non-null  float64\n",
      " 36  house_type_With parents                 10000 non-null  float64\n",
      " 37  occyp_type_Accountants                  10000 non-null  float64\n",
      " 38  occyp_type_Cleaning staff               10000 non-null  float64\n",
      " 39  occyp_type_Cooking staff                10000 non-null  float64\n",
      " 40  occyp_type_Core staff                   10000 non-null  float64\n",
      " 41  occyp_type_Drivers                      10000 non-null  float64\n",
      " 42  occyp_type_HR staff                     10000 non-null  float64\n",
      " 43  occyp_type_High skill tech staff        10000 non-null  float64\n",
      " 44  occyp_type_IT staff                     10000 non-null  float64\n",
      " 45  occyp_type_Laborers                     10000 non-null  float64\n",
      " 46  occyp_type_Low-skill Laborers           10000 non-null  float64\n",
      " 47  occyp_type_Managers                     10000 non-null  float64\n",
      " 48  occyp_type_Medicine staff               10000 non-null  float64\n",
      " 49  occyp_type_Private service staff        10000 non-null  float64\n",
      " 50  occyp_type_Realty agents                10000 non-null  float64\n",
      " 51  occyp_type_Sales staff                  10000 non-null  float64\n",
      " 52  occyp_type_Secretaries                  10000 non-null  float64\n",
      " 53  occyp_type_Security staff               10000 non-null  float64\n",
      " 54  occyp_type_Waiters/barmen staff         10000 non-null  float64\n",
      " 55  occyp_type_unfilled                     10000 non-null  float64\n",
      "dtypes: float64(47), int32(2), int64(7)\n",
      "memory usage: 4.2 MB\n"
     ]
    }
   ],
   "source": [
    "# 인코딩 확인\n",
    "\n",
    "display(test.head(5))\n",
    "print(test.columns)\n",
    "test.info()"
   ]
  },
  {
   "cell_type": "markdown",
   "metadata": {},
   "source": [
    "### 4-2. 데이터 정규화"
   ]
  },
  {
   "cell_type": "markdown",
   "metadata": {},
   "source": [
    "#### 정규화 전 분포도\n",
    "* 수치형 데이터만"
   ]
  },
  {
   "cell_type": "code",
   "execution_count": 137,
   "metadata": {},
   "outputs": [
    {
     "data": {
      "text/plain": [
       "<AxesSubplot:xlabel='begin_month', ylabel='Density'>"
      ]
     },
     "execution_count": 137,
     "metadata": {},
     "output_type": "execute_result"
    },
    {
     "data": {
      "image/png": "[encoded data removed]",
      "text/plain": [
       "<Figure size 1440x1296 with 6 Axes>"
      ]
     },
     "metadata": {},
     "output_type": "display_data"
    }
   ],
   "source": [
    "fig, ax = plt.subplots(3, 2, figsize=(20,18))\n",
    "\n",
    "sns.distplot(train['child_num'], ax=ax[0][0])\n",
    "sns.distplot(train['income_total'], ax=ax[0][1])\n",
    "\n",
    "sns.distplot(train['DAYS_BIRTH'], ax=ax[1][0])\n",
    "sns.distplot(train['DAYS_EMPLOYED'], ax=ax[1][1])\n",
    "\n",
    "sns.distplot(train['family_size'], ax=ax[2][0])\n",
    "sns.distplot(train['begin_month'], ax=ax[2][1])"
   ]
  },
  {
   "cell_type": "markdown",
   "metadata": {},
   "source": [
    "#### 4-2-1. MinMaxScaler"
   ]
  },
  {
   "cell_type": "code",
   "execution_count": 157,
   "metadata": {},
   "outputs": [
    {
     "name": "stdout",
     "output_type": "stream",
     "text": [
      "MinMaxScaler()\n"
     ]
    },
    {
     "data": {
      "text/html": [
       "<div>\n",
       "<style scoped>\n",
       "    .dataframe tbody tr th:only-of-type {\n",
       "        vertical-align: middle;\n",
       "    }\n",
       "\n",
       "    .dataframe tbody tr th {\n",
       "        vertical-align: top;\n",
       "    }\n",
       "\n",
       "    .dataframe thead th {\n",
       "        text-align: right;\n",
       "    }\n",
       "</style>\n",
       "<table border=\"1\" class=\"dataframe\">\n",
       "  <thead>\n",
       "    <tr style=\"text-align: right;\">\n",
       "      <th></th>\n",
       "      <th>DAYS_BIRTH</th>\n",
       "      <th>DAYS_EMPLOYED</th>\n",
       "      <th>FLAG_MOBIL</th>\n",
       "      <th>begin_month</th>\n",
       "      <th>car_N</th>\n",
       "      <th>car_Y</th>\n",
       "      <th>child_num</th>\n",
       "      <th>edu_type_Academic degree</th>\n",
       "      <th>edu_type_Higher education</th>\n",
       "      <th>edu_type_Incomplete higher</th>\n",
       "      <th>...</th>\n",
       "      <th>occyp_type_Realty agents</th>\n",
       "      <th>occyp_type_Sales staff</th>\n",
       "      <th>occyp_type_Secretaries</th>\n",
       "      <th>occyp_type_Security staff</th>\n",
       "      <th>occyp_type_Waiters/barmen staff</th>\n",
       "      <th>occyp_type_unfilled</th>\n",
       "      <th>phone</th>\n",
       "      <th>reality_N</th>\n",
       "      <th>reality_Y</th>\n",
       "      <th>work_phone</th>\n",
       "    </tr>\n",
       "  </thead>\n",
       "  <tbody>\n",
       "    <tr>\n",
       "      <th>0</th>\n",
       "      <td>0.361702</td>\n",
       "      <td>0.295455</td>\n",
       "      <td>0.0</td>\n",
       "      <td>0.100000</td>\n",
       "      <td>1.0</td>\n",
       "      <td>0.0</td>\n",
       "      <td>0.0</td>\n",
       "      <td>0.0</td>\n",
       "      <td>1.0</td>\n",
       "      <td>0.0</td>\n",
       "      <td>...</td>\n",
       "      <td>0.0</td>\n",
       "      <td>0.0</td>\n",
       "      <td>0.0</td>\n",
       "      <td>0.0</td>\n",
       "      <td>0.0</td>\n",
       "      <td>1.0</td>\n",
       "      <td>0.0</td>\n",
       "      <td>1.0</td>\n",
       "      <td>0.0</td>\n",
       "      <td>0.0</td>\n",
       "    </tr>\n",
       "    <tr>\n",
       "      <th>1</th>\n",
       "      <td>0.212766</td>\n",
       "      <td>0.113636</td>\n",
       "      <td>0.0</td>\n",
       "      <td>0.083333</td>\n",
       "      <td>1.0</td>\n",
       "      <td>0.0</td>\n",
       "      <td>0.2</td>\n",
       "      <td>0.0</td>\n",
       "      <td>0.0</td>\n",
       "      <td>0.0</td>\n",
       "      <td>...</td>\n",
       "      <td>0.0</td>\n",
       "      <td>0.0</td>\n",
       "      <td>0.0</td>\n",
       "      <td>0.0</td>\n",
       "      <td>0.0</td>\n",
       "      <td>0.0</td>\n",
       "      <td>0.0</td>\n",
       "      <td>0.0</td>\n",
       "      <td>1.0</td>\n",
       "      <td>0.0</td>\n",
       "    </tr>\n",
       "    <tr>\n",
       "      <th>2</th>\n",
       "      <td>0.659574</td>\n",
       "      <td>0.295455</td>\n",
       "      <td>0.0</td>\n",
       "      <td>0.366667</td>\n",
       "      <td>0.0</td>\n",
       "      <td>1.0</td>\n",
       "      <td>0.0</td>\n",
       "      <td>0.0</td>\n",
       "      <td>1.0</td>\n",
       "      <td>0.0</td>\n",
       "      <td>...</td>\n",
       "      <td>0.0</td>\n",
       "      <td>0.0</td>\n",
       "      <td>0.0</td>\n",
       "      <td>0.0</td>\n",
       "      <td>0.0</td>\n",
       "      <td>0.0</td>\n",
       "      <td>1.0</td>\n",
       "      <td>0.0</td>\n",
       "      <td>1.0</td>\n",
       "      <td>0.0</td>\n",
       "    </tr>\n",
       "    <tr>\n",
       "      <th>3</th>\n",
       "      <td>0.425532</td>\n",
       "      <td>0.136364</td>\n",
       "      <td>0.0</td>\n",
       "      <td>0.616667</td>\n",
       "      <td>1.0</td>\n",
       "      <td>0.0</td>\n",
       "      <td>0.0</td>\n",
       "      <td>0.0</td>\n",
       "      <td>0.0</td>\n",
       "      <td>0.0</td>\n",
       "      <td>...</td>\n",
       "      <td>0.0</td>\n",
       "      <td>1.0</td>\n",
       "      <td>0.0</td>\n",
       "      <td>0.0</td>\n",
       "      <td>0.0</td>\n",
       "      <td>0.0</td>\n",
       "      <td>1.0</td>\n",
       "      <td>0.0</td>\n",
       "      <td>1.0</td>\n",
       "      <td>0.0</td>\n",
       "    </tr>\n",
       "    <tr>\n",
       "      <th>4</th>\n",
       "      <td>0.425532</td>\n",
       "      <td>0.136364</td>\n",
       "      <td>0.0</td>\n",
       "      <td>0.433333</td>\n",
       "      <td>0.0</td>\n",
       "      <td>1.0</td>\n",
       "      <td>0.0</td>\n",
       "      <td>0.0</td>\n",
       "      <td>1.0</td>\n",
       "      <td>0.0</td>\n",
       "      <td>...</td>\n",
       "      <td>0.0</td>\n",
       "      <td>0.0</td>\n",
       "      <td>0.0</td>\n",
       "      <td>0.0</td>\n",
       "      <td>0.0</td>\n",
       "      <td>0.0</td>\n",
       "      <td>0.0</td>\n",
       "      <td>0.0</td>\n",
       "      <td>1.0</td>\n",
       "      <td>0.0</td>\n",
       "    </tr>\n",
       "    <tr>\n",
       "      <th>...</th>\n",
       "      <td>...</td>\n",
       "      <td>...</td>\n",
       "      <td>...</td>\n",
       "      <td>...</td>\n",
       "      <td>...</td>\n",
       "      <td>...</td>\n",
       "      <td>...</td>\n",
       "      <td>...</td>\n",
       "      <td>...</td>\n",
       "      <td>...</td>\n",
       "      <td>...</td>\n",
       "      <td>...</td>\n",
       "      <td>...</td>\n",
       "      <td>...</td>\n",
       "      <td>...</td>\n",
       "      <td>...</td>\n",
       "      <td>...</td>\n",
       "      <td>...</td>\n",
       "      <td>...</td>\n",
       "      <td>...</td>\n",
       "      <td>...</td>\n",
       "    </tr>\n",
       "    <tr>\n",
       "      <th>26452</th>\n",
       "      <td>0.255319</td>\n",
       "      <td>0.136364</td>\n",
       "      <td>0.0</td>\n",
       "      <td>0.033333</td>\n",
       "      <td>1.0</td>\n",
       "      <td>0.0</td>\n",
       "      <td>0.4</td>\n",
       "      <td>0.0</td>\n",
       "      <td>0.0</td>\n",
       "      <td>0.0</td>\n",
       "      <td>...</td>\n",
       "      <td>0.0</td>\n",
       "      <td>0.0</td>\n",
       "      <td>0.0</td>\n",
       "      <td>0.0</td>\n",
       "      <td>0.0</td>\n",
       "      <td>0.0</td>\n",
       "      <td>0.0</td>\n",
       "      <td>1.0</td>\n",
       "      <td>0.0</td>\n",
       "      <td>0.0</td>\n",
       "    </tr>\n",
       "    <tr>\n",
       "      <th>26453</th>\n",
       "      <td>0.425532</td>\n",
       "      <td>0.159091</td>\n",
       "      <td>0.0</td>\n",
       "      <td>0.783333</td>\n",
       "      <td>1.0</td>\n",
       "      <td>0.0</td>\n",
       "      <td>0.2</td>\n",
       "      <td>0.0</td>\n",
       "      <td>1.0</td>\n",
       "      <td>0.0</td>\n",
       "      <td>...</td>\n",
       "      <td>0.0</td>\n",
       "      <td>0.0</td>\n",
       "      <td>0.0</td>\n",
       "      <td>0.0</td>\n",
       "      <td>0.0</td>\n",
       "      <td>1.0</td>\n",
       "      <td>0.0</td>\n",
       "      <td>0.0</td>\n",
       "      <td>1.0</td>\n",
       "      <td>0.0</td>\n",
       "    </tr>\n",
       "    <tr>\n",
       "      <th>26454</th>\n",
       "      <td>0.127660</td>\n",
       "      <td>0.136364</td>\n",
       "      <td>0.0</td>\n",
       "      <td>0.416667</td>\n",
       "      <td>0.0</td>\n",
       "      <td>1.0</td>\n",
       "      <td>0.0</td>\n",
       "      <td>0.0</td>\n",
       "      <td>0.0</td>\n",
       "      <td>0.0</td>\n",
       "      <td>...</td>\n",
       "      <td>0.0</td>\n",
       "      <td>0.0</td>\n",
       "      <td>0.0</td>\n",
       "      <td>0.0</td>\n",
       "      <td>0.0</td>\n",
       "      <td>0.0</td>\n",
       "      <td>0.0</td>\n",
       "      <td>1.0</td>\n",
       "      <td>0.0</td>\n",
       "      <td>0.0</td>\n",
       "    </tr>\n",
       "    <tr>\n",
       "      <th>26455</th>\n",
       "      <td>0.127660</td>\n",
       "      <td>0.022727</td>\n",
       "      <td>0.0</td>\n",
       "      <td>0.983333</td>\n",
       "      <td>1.0</td>\n",
       "      <td>0.0</td>\n",
       "      <td>0.0</td>\n",
       "      <td>0.0</td>\n",
       "      <td>0.0</td>\n",
       "      <td>1.0</td>\n",
       "      <td>...</td>\n",
       "      <td>0.0</td>\n",
       "      <td>0.0</td>\n",
       "      <td>0.0</td>\n",
       "      <td>0.0</td>\n",
       "      <td>0.0</td>\n",
       "      <td>0.0</td>\n",
       "      <td>0.0</td>\n",
       "      <td>0.0</td>\n",
       "      <td>1.0</td>\n",
       "      <td>0.0</td>\n",
       "    </tr>\n",
       "    <tr>\n",
       "      <th>26456</th>\n",
       "      <td>0.680851</td>\n",
       "      <td>0.068182</td>\n",
       "      <td>0.0</td>\n",
       "      <td>0.150000</td>\n",
       "      <td>1.0</td>\n",
       "      <td>0.0</td>\n",
       "      <td>0.0</td>\n",
       "      <td>0.0</td>\n",
       "      <td>0.0</td>\n",
       "      <td>0.0</td>\n",
       "      <td>...</td>\n",
       "      <td>0.0</td>\n",
       "      <td>0.0</td>\n",
       "      <td>0.0</td>\n",
       "      <td>1.0</td>\n",
       "      <td>0.0</td>\n",
       "      <td>0.0</td>\n",
       "      <td>0.0</td>\n",
       "      <td>1.0</td>\n",
       "      <td>0.0</td>\n",
       "      <td>0.0</td>\n",
       "    </tr>\n",
       "  </tbody>\n",
       "</table>\n",
       "<p>26457 rows × 56 columns</p>\n",
       "</div>"
      ],
      "text/plain": [
       "       DAYS_BIRTH  DAYS_EMPLOYED  FLAG_MOBIL  begin_month  car_N  car_Y  \\\n",
       "0        0.361702       0.295455         0.0     0.100000    1.0    0.0   \n",
       "1        0.212766       0.113636         0.0     0.083333    1.0    0.0   \n",
       "2        0.659574       0.295455         0.0     0.366667    0.0    1.0   \n",
       "3        0.425532       0.136364         0.0     0.616667    1.0    0.0   \n",
       "4        0.425532       0.136364         0.0     0.433333    0.0    1.0   \n",
       "...           ...            ...         ...          ...    ...    ...   \n",
       "26452    0.255319       0.136364         0.0     0.033333    1.0    0.0   \n",
       "26453    0.425532       0.159091         0.0     0.783333    1.0    0.0   \n",
       "26454    0.127660       0.136364         0.0     0.416667    0.0    1.0   \n",
       "26455    0.127660       0.022727         0.0     0.983333    1.0    0.0   \n",
       "26456    0.680851       0.068182         0.0     0.150000    1.0    0.0   \n",
       "\n",
       "       child_num  edu_type_Academic degree  edu_type_Higher education  \\\n",
       "0            0.0                       0.0                        1.0   \n",
       "1            0.2                       0.0                        0.0   \n",
       "2            0.0                       0.0                        1.0   \n",
       "3            0.0                       0.0                        0.0   \n",
       "4            0.0                       0.0                        1.0   \n",
       "...          ...                       ...                        ...   \n",
       "26452        0.4                       0.0                        0.0   \n",
       "26453        0.2                       0.0                        1.0   \n",
       "26454        0.0                       0.0                        0.0   \n",
       "26455        0.0                       0.0                        0.0   \n",
       "26456        0.0                       0.0                        0.0   \n",
       "\n",
       "       edu_type_Incomplete higher  ...  occyp_type_Realty agents  \\\n",
       "0                             0.0  ...                       0.0   \n",
       "1                             0.0  ...                       0.0   \n",
       "2                             0.0  ...                       0.0   \n",
       "3                             0.0  ...                       0.0   \n",
       "4                             0.0  ...                       0.0   \n",
       "...                           ...  ...                       ...   \n",
       "26452                         0.0  ...                       0.0   \n",
       "26453                         0.0  ...                       0.0   \n",
       "26454                         0.0  ...                       0.0   \n",
       "26455                         1.0  ...                       0.0   \n",
       "26456                         0.0  ...                       0.0   \n",
       "\n",
       "       occyp_type_Sales staff  occyp_type_Secretaries  \\\n",
       "0                         0.0                     0.0   \n",
       "1                         0.0                     0.0   \n",
       "2                         0.0                     0.0   \n",
       "3                         1.0                     0.0   \n",
       "4                         0.0                     0.0   \n",
       "...                       ...                     ...   \n",
       "26452                     0.0                     0.0   \n",
       "26453                     0.0                     0.0   \n",
       "26454                     0.0                     0.0   \n",
       "26455                     0.0                     0.0   \n",
       "26456                     0.0                     0.0   \n",
       "\n",
       "       occyp_type_Security staff  occyp_type_Waiters/barmen staff  \\\n",
       "0                            0.0                              0.0   \n",
       "1                            0.0                              0.0   \n",
       "2                            0.0                              0.0   \n",
       "3                            0.0                              0.0   \n",
       "4                            0.0                              0.0   \n",
       "...                          ...                              ...   \n",
       "26452                        0.0                              0.0   \n",
       "26453                        0.0                              0.0   \n",
       "26454                        0.0                              0.0   \n",
       "26455                        0.0                              0.0   \n",
       "26456                        1.0                              0.0   \n",
       "\n",
       "       occyp_type_unfilled  phone  reality_N  reality_Y  work_phone  \n",
       "0                      1.0    0.0        1.0        0.0         0.0  \n",
       "1                      0.0    0.0        0.0        1.0         0.0  \n",
       "2                      0.0    1.0        0.0        1.0         0.0  \n",
       "3                      0.0    1.0        0.0        1.0         0.0  \n",
       "4                      0.0    0.0        0.0        1.0         0.0  \n",
       "...                    ...    ...        ...        ...         ...  \n",
       "26452                  0.0    0.0        1.0        0.0         0.0  \n",
       "26453                  1.0    0.0        0.0        1.0         0.0  \n",
       "26454                  0.0    0.0        1.0        0.0         0.0  \n",
       "26455                  0.0    0.0        0.0        1.0         0.0  \n",
       "26456                  0.0    0.0        1.0        0.0         0.0  \n",
       "\n",
       "[26457 rows x 56 columns]"
      ]
     },
     "metadata": {},
     "output_type": "display_data"
    }
   ],
   "source": [
    "from sklearn.preprocessing import MinMaxScaler\n",
    "\n",
    "MinMaxScaler_data = train[train.columns.difference(['credit'])].copy()\n",
    "\n",
    "minMaxScaler = MinMaxScaler()\n",
    "print(minMaxScaler.fit(MinMaxScaler_data))\n",
    "train_data_minMaxScaled = minMaxScaler.transform(MinMaxScaler_data)\n",
    "\n",
    "# MinMaxScaler_data - MinMaxScaler적용한 데이터 프레임\n",
    "index = 0\n",
    "for col in MinMaxScaler_data.columns :\n",
    "    MinMaxScaler_data[col] = train_data_minMaxScaled[:,index]\n",
    "    index = index + 1\n",
    "display(MinMaxScaler_data)"
   ]
  },
  {
   "cell_type": "code",
   "execution_count": null,
   "metadata": {},
   "outputs": [],
   "source": [
    "# MinMaxScaler 적용한 후 분포도 확인\n",
    "fig, ax = plt.subplots(3, 2, figsize=(20,18))\n",
    "\n",
    "sns.distplot(MinMaxScaler_data['child_num'], ax=ax[0][0])\n",
    "sns.distplot(MinMaxScaler_data['income_total'], ax=ax[0][1])\n",
    "\n",
    "sns.distplot(MinMaxScaler_data['DAYS_BIRTH'], ax=ax[1][0])\n",
    "sns.distplot(MinMaxScaler_data['DAYS_EMPLOYED'], ax=ax[1][1])\n",
    "\n",
    "sns.distplot(MinMaxScaler_data['family_size'], ax=ax[2][0])\n",
    "sns.distplot(MinMaxScaler_data['begin_month'], ax=ax[2][1])"
   ]
  },
  {
   "cell_type": "markdown",
   "metadata": {},
   "source": [
    "#### 4-2-2 MaxAbsScaler"
   ]
  },
  {
   "cell_type": "code",
   "execution_count": null,
   "metadata": {},
   "outputs": [],
   "source": [
    "from sklearn.preprocessing import MaxAbsScaler\n",
    "\n",
    "MaxAbsScaler_data = train[train.columns.difference(['credit'])].copy()\n",
    "\n",
    "maxAbsScaler = MaxAbsScaler()\n",
    "print(maxAbsScaler.fit(MaxAbsScaler_data))\n",
    "train_data_maxAbsScaled = maxAbsScaler.transform(MaxAbsScaler_data)\n",
    "\n",
    "# MaxAbsScaler_data - MaxAbsScaler 적용한 데이터 프레임\n",
    "index = 0\n",
    "for col in MaxAbsScaler_data.columns :\n",
    "    MaxAbsScaler_data[col] = train_data_maxAbsScaled[:,index]\n",
    "    index = index + 1\n",
    "display(MaxAbsScaler_data)"
   ]
  },
  {
   "cell_type": "code",
   "execution_count": null,
   "metadata": {},
   "outputs": [],
   "source": [
    "# MaxAbsScaler_data 적용한 후 분포도 확인\n",
    "fig, ax = plt.subplots(3, 2, figsize=(20,18))\n",
    "\n",
    "sns.distplot(MaxAbsScaler_data['child_num'], ax=ax[0][0])\n",
    "sns.distplot(MaxAbsScaler_data['income_total'], ax=ax[0][1])\n",
    "\n",
    "sns.distplot(MaxAbsScaler_data['DAYS_BIRTH'], ax=ax[1][0])\n",
    "sns.distplot(MaxAbsScaler_data['DAYS_EMPLOYED'], ax=ax[1][1])\n",
    "\n",
    "sns.distplot(MaxAbsScaler_data['family_size'], ax=ax[2][0])\n",
    "sns.distplot(MaxAbsScaler_data['begin_month'], ax=ax[2][1])\n",
    "\n",
    "\n",
    "MinMaxScaler_data\n"
   ]
  },
  {
   "cell_type": "markdown",
   "metadata": {},
   "source": [
    "#### 4-2-3 StandardScaler"
   ]
  },
  {
   "cell_type": "code",
   "execution_count": null,
   "metadata": {},
   "outputs": [],
   "source": [
    "from sklearn.preprocessing import StandardScaler\n",
    "\n",
    "StandardScaler_data = train[train.columns.difference(['credit'])].copy()\n",
    "\n",
    "standardScaler = StandardScaler()\n",
    "print(standardScaler.fit(StandardScaler_data))\n",
    "train_data_standardScaled = standardScaler.transform(StandardScaler_data)\n",
    "\n",
    "# StandardScaler_data - StandardScaler 적용한 데이터 프레임\n",
    "index = 0\n",
    "for col in StandardScaler_data.columns :\n",
    "    StandardScaler_data[col] = train_data_standardScaled[:,index]\n",
    "    index = index + 1\n",
    "display(StandardScaler_data)"
   ]
  },
  {
   "cell_type": "code",
   "execution_count": null,
   "metadata": {},
   "outputs": [],
   "source": [
    "# MaxAbsScaler_data 적용한 후 분포도 확인\n",
    "fig, ax = plt.subplots(3, 2, figsize=(20,18))\n",
    "\n",
    "sns.distplot(StandardScaler_data['child_num'], ax=ax[0][0])\n",
    "sns.distplot(StandardScaler_data['income_total'], ax=ax[0][1])\n",
    "\n",
    "sns.distplot(StandardScaler_data['DAYS_BIRTH'], ax=ax[1][0])\n",
    "sns.distplot(StandardScaler_data['DAYS_EMPLOYED'], ax=ax[1][1])\n",
    "\n",
    "sns.distplot(StandardScaler_data['family_size'], ax=ax[2][0])\n",
    "sns.distplot(StandardScaler_data['begin_month'], ax=ax[2][1])"
   ]
  },
  {
   "cell_type": "markdown",
   "metadata": {},
   "source": [
    "#### 4-2-4 RobustScaler"
   ]
  },
  {
   "cell_type": "code",
   "execution_count": null,
   "metadata": {},
   "outputs": [],
   "source": [
    "from sklearn.preprocessing import RobustScaler\n",
    "\n",
    "RobustScaler_data = train[train.columns.difference(['credit'])].copy()\n",
    "\n",
    "robustScaler = RobustScaler()\n",
    "print(robustScaler.fit(RobustScaler_data))\n",
    "train_data_robustScaled = robustScaler.transform(RobustScaler_data)\n",
    "\n",
    "# StandardScaler_data - StandardScaler 적용한 데이터 프레임\n",
    "index = 0\n",
    "for col in RobustScaler_data.columns :\n",
    "    RobustScaler_data[col] = train_data_robustScaled[:,index]\n",
    "    index = index + 1\n",
    "display(RobustScaler_data)"
   ]
  },
  {
   "cell_type": "code",
   "execution_count": null,
   "metadata": {},
   "outputs": [],
   "source": [
    "# MaxAbsScaler_data 적용한 후 분포도 확인\n",
    "fig, ax = plt.subplots(3, 2, figsize=(20,18))\n",
    "\n",
    "sns.distplot(RobustScaler_data['child_num'], ax=ax[0][0])\n",
    "sns.distplot(RobustScaler_data['income_total'], ax=ax[0][1])\n",
    "\n",
    "sns.distplot(RobustScaler_data['DAYS_BIRTH'], ax=ax[1][0])\n",
    "sns.distplot(RobustScaler_data['DAYS_EMPLOYED'], ax=ax[1][1])\n",
    "\n",
    "sns.distplot(RobustScaler_data['family_size'], ax=ax[2][0])\n",
    "sns.distplot(RobustScaler_data['begin_month'], ax=ax[2][1])"
   ]
  },
  {
   "cell_type": "markdown",
   "metadata": {},
   "source": [
    "-----------------------------------------------\n",
    "## 여기까지 정규화, 이상치 처리 완료해야 함, 데이터 전처리 단계"
   ]
  },
  {
   "cell_type": "markdown",
   "metadata": {},
   "source": [
    "#### 정규화한 데이터 이름\n",
    "* MinMaxScaler_data\n",
    "* MaxAbsScaler_data\n",
    "* StandardScaler_data\n",
    "* RobustScaler_data"
   ]
  },
  {
   "cell_type": "markdown",
   "metadata": {},
   "source": [
    "## 5. 모델링"
   ]
  },
  {
   "cell_type": "code",
   "execution_count": 160,
   "metadata": {},
   "outputs": [
    {
     "data": {
      "text/html": [
       "<div>\n",
       "<style scoped>\n",
       "    .dataframe tbody tr th:only-of-type {\n",
       "        vertical-align: middle;\n",
       "    }\n",
       "\n",
       "    .dataframe tbody tr th {\n",
       "        vertical-align: top;\n",
       "    }\n",
       "\n",
       "    .dataframe thead th {\n",
       "        text-align: right;\n",
       "    }\n",
       "</style>\n",
       "<table border=\"1\" class=\"dataframe\">\n",
       "  <thead>\n",
       "    <tr style=\"text-align: right;\">\n",
       "      <th></th>\n",
       "      <th>DAYS_BIRTH</th>\n",
       "      <th>DAYS_EMPLOYED</th>\n",
       "      <th>FLAG_MOBIL</th>\n",
       "      <th>begin_month</th>\n",
       "      <th>car_N</th>\n",
       "      <th>car_Y</th>\n",
       "      <th>child_num</th>\n",
       "      <th>edu_type_Academic degree</th>\n",
       "      <th>edu_type_Higher education</th>\n",
       "      <th>edu_type_Incomplete higher</th>\n",
       "      <th>...</th>\n",
       "      <th>occyp_type_Realty agents</th>\n",
       "      <th>occyp_type_Sales staff</th>\n",
       "      <th>occyp_type_Secretaries</th>\n",
       "      <th>occyp_type_Security staff</th>\n",
       "      <th>occyp_type_Waiters/barmen staff</th>\n",
       "      <th>occyp_type_unfilled</th>\n",
       "      <th>phone</th>\n",
       "      <th>reality_N</th>\n",
       "      <th>reality_Y</th>\n",
       "      <th>work_phone</th>\n",
       "    </tr>\n",
       "  </thead>\n",
       "  <tbody>\n",
       "    <tr>\n",
       "      <th>0</th>\n",
       "      <td>0.361702</td>\n",
       "      <td>0.295455</td>\n",
       "      <td>0.0</td>\n",
       "      <td>0.100000</td>\n",
       "      <td>1.0</td>\n",
       "      <td>0.0</td>\n",
       "      <td>0.0</td>\n",
       "      <td>0.0</td>\n",
       "      <td>1.0</td>\n",
       "      <td>0.0</td>\n",
       "      <td>...</td>\n",
       "      <td>0.0</td>\n",
       "      <td>0.0</td>\n",
       "      <td>0.0</td>\n",
       "      <td>0.0</td>\n",
       "      <td>0.0</td>\n",
       "      <td>1.0</td>\n",
       "      <td>0.0</td>\n",
       "      <td>1.0</td>\n",
       "      <td>0.0</td>\n",
       "      <td>0.0</td>\n",
       "    </tr>\n",
       "    <tr>\n",
       "      <th>1</th>\n",
       "      <td>0.212766</td>\n",
       "      <td>0.113636</td>\n",
       "      <td>0.0</td>\n",
       "      <td>0.083333</td>\n",
       "      <td>1.0</td>\n",
       "      <td>0.0</td>\n",
       "      <td>0.2</td>\n",
       "      <td>0.0</td>\n",
       "      <td>0.0</td>\n",
       "      <td>0.0</td>\n",
       "      <td>...</td>\n",
       "      <td>0.0</td>\n",
       "      <td>0.0</td>\n",
       "      <td>0.0</td>\n",
       "      <td>0.0</td>\n",
       "      <td>0.0</td>\n",
       "      <td>0.0</td>\n",
       "      <td>0.0</td>\n",
       "      <td>0.0</td>\n",
       "      <td>1.0</td>\n",
       "      <td>0.0</td>\n",
       "    </tr>\n",
       "    <tr>\n",
       "      <th>2</th>\n",
       "      <td>0.659574</td>\n",
       "      <td>0.295455</td>\n",
       "      <td>0.0</td>\n",
       "      <td>0.366667</td>\n",
       "      <td>0.0</td>\n",
       "      <td>1.0</td>\n",
       "      <td>0.0</td>\n",
       "      <td>0.0</td>\n",
       "      <td>1.0</td>\n",
       "      <td>0.0</td>\n",
       "      <td>...</td>\n",
       "      <td>0.0</td>\n",
       "      <td>0.0</td>\n",
       "      <td>0.0</td>\n",
       "      <td>0.0</td>\n",
       "      <td>0.0</td>\n",
       "      <td>0.0</td>\n",
       "      <td>1.0</td>\n",
       "      <td>0.0</td>\n",
       "      <td>1.0</td>\n",
       "      <td>0.0</td>\n",
       "    </tr>\n",
       "    <tr>\n",
       "      <th>3</th>\n",
       "      <td>0.425532</td>\n",
       "      <td>0.136364</td>\n",
       "      <td>0.0</td>\n",
       "      <td>0.616667</td>\n",
       "      <td>1.0</td>\n",
       "      <td>0.0</td>\n",
       "      <td>0.0</td>\n",
       "      <td>0.0</td>\n",
       "      <td>0.0</td>\n",
       "      <td>0.0</td>\n",
       "      <td>...</td>\n",
       "      <td>0.0</td>\n",
       "      <td>1.0</td>\n",
       "      <td>0.0</td>\n",
       "      <td>0.0</td>\n",
       "      <td>0.0</td>\n",
       "      <td>0.0</td>\n",
       "      <td>1.0</td>\n",
       "      <td>0.0</td>\n",
       "      <td>1.0</td>\n",
       "      <td>0.0</td>\n",
       "    </tr>\n",
       "    <tr>\n",
       "      <th>4</th>\n",
       "      <td>0.425532</td>\n",
       "      <td>0.136364</td>\n",
       "      <td>0.0</td>\n",
       "      <td>0.433333</td>\n",
       "      <td>0.0</td>\n",
       "      <td>1.0</td>\n",
       "      <td>0.0</td>\n",
       "      <td>0.0</td>\n",
       "      <td>1.0</td>\n",
       "      <td>0.0</td>\n",
       "      <td>...</td>\n",
       "      <td>0.0</td>\n",
       "      <td>0.0</td>\n",
       "      <td>0.0</td>\n",
       "      <td>0.0</td>\n",
       "      <td>0.0</td>\n",
       "      <td>0.0</td>\n",
       "      <td>0.0</td>\n",
       "      <td>0.0</td>\n",
       "      <td>1.0</td>\n",
       "      <td>0.0</td>\n",
       "    </tr>\n",
       "    <tr>\n",
       "      <th>...</th>\n",
       "      <td>...</td>\n",
       "      <td>...</td>\n",
       "      <td>...</td>\n",
       "      <td>...</td>\n",
       "      <td>...</td>\n",
       "      <td>...</td>\n",
       "      <td>...</td>\n",
       "      <td>...</td>\n",
       "      <td>...</td>\n",
       "      <td>...</td>\n",
       "      <td>...</td>\n",
       "      <td>...</td>\n",
       "      <td>...</td>\n",
       "      <td>...</td>\n",
       "      <td>...</td>\n",
       "      <td>...</td>\n",
       "      <td>...</td>\n",
       "      <td>...</td>\n",
       "      <td>...</td>\n",
       "      <td>...</td>\n",
       "      <td>...</td>\n",
       "    </tr>\n",
       "    <tr>\n",
       "      <th>26452</th>\n",
       "      <td>0.255319</td>\n",
       "      <td>0.136364</td>\n",
       "      <td>0.0</td>\n",
       "      <td>0.033333</td>\n",
       "      <td>1.0</td>\n",
       "      <td>0.0</td>\n",
       "      <td>0.4</td>\n",
       "      <td>0.0</td>\n",
       "      <td>0.0</td>\n",
       "      <td>0.0</td>\n",
       "      <td>...</td>\n",
       "      <td>0.0</td>\n",
       "      <td>0.0</td>\n",
       "      <td>0.0</td>\n",
       "      <td>0.0</td>\n",
       "      <td>0.0</td>\n",
       "      <td>0.0</td>\n",
       "      <td>0.0</td>\n",
       "      <td>1.0</td>\n",
       "      <td>0.0</td>\n",
       "      <td>0.0</td>\n",
       "    </tr>\n",
       "    <tr>\n",
       "      <th>26453</th>\n",
       "      <td>0.425532</td>\n",
       "      <td>0.159091</td>\n",
       "      <td>0.0</td>\n",
       "      <td>0.783333</td>\n",
       "      <td>1.0</td>\n",
       "      <td>0.0</td>\n",
       "      <td>0.2</td>\n",
       "      <td>0.0</td>\n",
       "      <td>1.0</td>\n",
       "      <td>0.0</td>\n",
       "      <td>...</td>\n",
       "      <td>0.0</td>\n",
       "      <td>0.0</td>\n",
       "      <td>0.0</td>\n",
       "      <td>0.0</td>\n",
       "      <td>0.0</td>\n",
       "      <td>1.0</td>\n",
       "      <td>0.0</td>\n",
       "      <td>0.0</td>\n",
       "      <td>1.0</td>\n",
       "      <td>0.0</td>\n",
       "    </tr>\n",
       "    <tr>\n",
       "      <th>26454</th>\n",
       "      <td>0.127660</td>\n",
       "      <td>0.136364</td>\n",
       "      <td>0.0</td>\n",
       "      <td>0.416667</td>\n",
       "      <td>0.0</td>\n",
       "      <td>1.0</td>\n",
       "      <td>0.0</td>\n",
       "      <td>0.0</td>\n",
       "      <td>0.0</td>\n",
       "      <td>0.0</td>\n",
       "      <td>...</td>\n",
       "      <td>0.0</td>\n",
       "      <td>0.0</td>\n",
       "      <td>0.0</td>\n",
       "      <td>0.0</td>\n",
       "      <td>0.0</td>\n",
       "      <td>0.0</td>\n",
       "      <td>0.0</td>\n",
       "      <td>1.0</td>\n",
       "      <td>0.0</td>\n",
       "      <td>0.0</td>\n",
       "    </tr>\n",
       "    <tr>\n",
       "      <th>26455</th>\n",
       "      <td>0.127660</td>\n",
       "      <td>0.022727</td>\n",
       "      <td>0.0</td>\n",
       "      <td>0.983333</td>\n",
       "      <td>1.0</td>\n",
       "      <td>0.0</td>\n",
       "      <td>0.0</td>\n",
       "      <td>0.0</td>\n",
       "      <td>0.0</td>\n",
       "      <td>1.0</td>\n",
       "      <td>...</td>\n",
       "      <td>0.0</td>\n",
       "      <td>0.0</td>\n",
       "      <td>0.0</td>\n",
       "      <td>0.0</td>\n",
       "      <td>0.0</td>\n",
       "      <td>0.0</td>\n",
       "      <td>0.0</td>\n",
       "      <td>0.0</td>\n",
       "      <td>1.0</td>\n",
       "      <td>0.0</td>\n",
       "    </tr>\n",
       "    <tr>\n",
       "      <th>26456</th>\n",
       "      <td>0.680851</td>\n",
       "      <td>0.068182</td>\n",
       "      <td>0.0</td>\n",
       "      <td>0.150000</td>\n",
       "      <td>1.0</td>\n",
       "      <td>0.0</td>\n",
       "      <td>0.0</td>\n",
       "      <td>0.0</td>\n",
       "      <td>0.0</td>\n",
       "      <td>0.0</td>\n",
       "      <td>...</td>\n",
       "      <td>0.0</td>\n",
       "      <td>0.0</td>\n",
       "      <td>0.0</td>\n",
       "      <td>1.0</td>\n",
       "      <td>0.0</td>\n",
       "      <td>0.0</td>\n",
       "      <td>0.0</td>\n",
       "      <td>1.0</td>\n",
       "      <td>0.0</td>\n",
       "      <td>0.0</td>\n",
       "    </tr>\n",
       "  </tbody>\n",
       "</table>\n",
       "<p>26457 rows × 56 columns</p>\n",
       "</div>"
      ],
      "text/plain": [
       "       DAYS_BIRTH  DAYS_EMPLOYED  FLAG_MOBIL  begin_month  car_N  car_Y  \\\n",
       "0        0.361702       0.295455         0.0     0.100000    1.0    0.0   \n",
       "1        0.212766       0.113636         0.0     0.083333    1.0    0.0   \n",
       "2        0.659574       0.295455         0.0     0.366667    0.0    1.0   \n",
       "3        0.425532       0.136364         0.0     0.616667    1.0    0.0   \n",
       "4        0.425532       0.136364         0.0     0.433333    0.0    1.0   \n",
       "...           ...            ...         ...          ...    ...    ...   \n",
       "26452    0.255319       0.136364         0.0     0.033333    1.0    0.0   \n",
       "26453    0.425532       0.159091         0.0     0.783333    1.0    0.0   \n",
       "26454    0.127660       0.136364         0.0     0.416667    0.0    1.0   \n",
       "26455    0.127660       0.022727         0.0     0.983333    1.0    0.0   \n",
       "26456    0.680851       0.068182         0.0     0.150000    1.0    0.0   \n",
       "\n",
       "       child_num  edu_type_Academic degree  edu_type_Higher education  \\\n",
       "0            0.0                       0.0                        1.0   \n",
       "1            0.2                       0.0                        0.0   \n",
       "2            0.0                       0.0                        1.0   \n",
       "3            0.0                       0.0                        0.0   \n",
       "4            0.0                       0.0                        1.0   \n",
       "...          ...                       ...                        ...   \n",
       "26452        0.4                       0.0                        0.0   \n",
       "26453        0.2                       0.0                        1.0   \n",
       "26454        0.0                       0.0                        0.0   \n",
       "26455        0.0                       0.0                        0.0   \n",
       "26456        0.0                       0.0                        0.0   \n",
       "\n",
       "       edu_type_Incomplete higher  ...  occyp_type_Realty agents  \\\n",
       "0                             0.0  ...                       0.0   \n",
       "1                             0.0  ...                       0.0   \n",
       "2                             0.0  ...                       0.0   \n",
       "3                             0.0  ...                       0.0   \n",
       "4                             0.0  ...                       0.0   \n",
       "...                           ...  ...                       ...   \n",
       "26452                         0.0  ...                       0.0   \n",
       "26453                         0.0  ...                       0.0   \n",
       "26454                         0.0  ...                       0.0   \n",
       "26455                         1.0  ...                       0.0   \n",
       "26456                         0.0  ...                       0.0   \n",
       "\n",
       "       occyp_type_Sales staff  occyp_type_Secretaries  \\\n",
       "0                         0.0                     0.0   \n",
       "1                         0.0                     0.0   \n",
       "2                         0.0                     0.0   \n",
       "3                         1.0                     0.0   \n",
       "4                         0.0                     0.0   \n",
       "...                       ...                     ...   \n",
       "26452                     0.0                     0.0   \n",
       "26453                     0.0                     0.0   \n",
       "26454                     0.0                     0.0   \n",
       "26455                     0.0                     0.0   \n",
       "26456                     0.0                     0.0   \n",
       "\n",
       "       occyp_type_Security staff  occyp_type_Waiters/barmen staff  \\\n",
       "0                            0.0                              0.0   \n",
       "1                            0.0                              0.0   \n",
       "2                            0.0                              0.0   \n",
       "3                            0.0                              0.0   \n",
       "4                            0.0                              0.0   \n",
       "...                          ...                              ...   \n",
       "26452                        0.0                              0.0   \n",
       "26453                        0.0                              0.0   \n",
       "26454                        0.0                              0.0   \n",
       "26455                        0.0                              0.0   \n",
       "26456                        1.0                              0.0   \n",
       "\n",
       "       occyp_type_unfilled  phone  reality_N  reality_Y  work_phone  \n",
       "0                      1.0    0.0        1.0        0.0         0.0  \n",
       "1                      0.0    0.0        0.0        1.0         0.0  \n",
       "2                      0.0    1.0        0.0        1.0         0.0  \n",
       "3                      0.0    1.0        0.0        1.0         0.0  \n",
       "4                      0.0    0.0        0.0        1.0         0.0  \n",
       "...                    ...    ...        ...        ...         ...  \n",
       "26452                  0.0    0.0        1.0        0.0         0.0  \n",
       "26453                  1.0    0.0        0.0        1.0         0.0  \n",
       "26454                  0.0    0.0        1.0        0.0         0.0  \n",
       "26455                  0.0    0.0        0.0        1.0         0.0  \n",
       "26456                  0.0    0.0        1.0        0.0         0.0  \n",
       "\n",
       "[26457 rows x 56 columns]"
      ]
     },
     "metadata": {},
     "output_type": "display_data"
    },
    {
     "data": {
      "text/plain": [
       "0        1.0\n",
       "1        1.0\n",
       "2        2.0\n",
       "3        0.0\n",
       "4        2.0\n",
       "        ... \n",
       "26452    1.0\n",
       "26453    2.0\n",
       "26454    2.0\n",
       "26455    2.0\n",
       "26456    2.0\n",
       "Name: credit, Length: 26457, dtype: float64"
      ]
     },
     "metadata": {},
     "output_type": "display_data"
    }
   ],
   "source": [
    "# 설명변수 X, 예측변수 y 할당\n",
    "X = MinMaxScaler_data\n",
    "y = train['credit']\n",
    "display(X)\n",
    "display(y)"
   ]
  },
  {
   "cell_type": "markdown",
   "metadata": {},
   "source": [
    "### 5-1. LGBM\n",
    "#### Training\n",
    "* 데이터 분리는 stratifiedKFold를 사용하여 y값 분포를 비슷하게 분리 시킴 -> 5-fold\n",
    "* LGBM의 기본 파라미터로 훈련\n",
    "* 30번 이상 개선 없을 경우 중단.\n",
    "* 각 5개의 fold를 훈련하여 저장"
   ]
  },
  {
   "cell_type": "code",
   "execution_count": 166,
   "metadata": {},
   "outputs": [
    {
     "name": "stdout",
     "output_type": "stream",
     "text": [
      "[    0     1     3 ... 26453 26454 26456] [    2    26    45 ... 26446 26452 26455]\n",
      "[    2     3     6 ... 26454 26455 26456] [    0     1     4 ... 26435 26447 26450]\n",
      "[    0     1     2 ... 26453 26454 26455] [    3    12    16 ... 26438 26448 26456]\n",
      "[    0     1     2 ... 26454 26455 26456] [    6    14    29 ... 26440 26442 26453]\n",
      "[    0     1     2 ... 26453 26455 26456] [    7     9    10 ... 26449 26451 26454]\n"
     ]
    }
   ],
   "source": [
    "# StratifiedKFold - 불균형한 분포도를 가진 레이블 데이터를 위한 방식, 특정 레이블 값이 너무 많거나 적은 경우\n",
    "# 5-fold\n",
    "\n",
    "skf = StratifiedKFold(n_splits=5, shuffle=True, random_state=42)\n",
    "folds=[]\n",
    "for train_idx, valid_idx in skf.split(X, y):\n",
    "    folds.append((train_idx, valid_idx))"
   ]
  },
  {
   "cell_type": "code",
   "execution_count": 162,
   "metadata": {},
   "outputs": [
    {
     "name": "stdout",
     "output_type": "stream",
     "text": [
      "====================================1============================================\n",
      "Training until validation scores don't improve for 30 rounds\n",
      "[100]\ttraining's multi_logloss: 0.663419\tvalid_1's multi_logloss: 0.759104\n",
      "[200]\ttraining's multi_logloss: 0.580283\tvalid_1's multi_logloss: 0.74573\n",
      "[300]\ttraining's multi_logloss: 0.518834\tvalid_1's multi_logloss: 0.740632\n",
      "Early stopping, best iteration is:\n",
      "[305]\ttraining's multi_logloss: 0.515974\tvalid_1's multi_logloss: 0.74046\n",
      "================================================================================\n",
      "\n",
      "\n",
      "====================================2============================================\n",
      "Training until validation scores don't improve for 30 rounds\n",
      "[100]\ttraining's multi_logloss: 0.658231\tvalid_1's multi_logloss: 0.767834\n",
      "[200]\ttraining's multi_logloss: 0.576896\tvalid_1's multi_logloss: 0.757428\n",
      "Early stopping, best iteration is:\n",
      "[247]\ttraining's multi_logloss: 0.546133\tvalid_1's multi_logloss: 0.754792\n",
      "================================================================================\n",
      "\n",
      "\n",
      "====================================3============================================\n",
      "Training until validation scores don't improve for 30 rounds\n",
      "[100]\ttraining's multi_logloss: 0.66177\tvalid_1's multi_logloss: 0.76476\n",
      "[200]\ttraining's multi_logloss: 0.578325\tvalid_1's multi_logloss: 0.752465\n",
      "Early stopping, best iteration is:\n",
      "[227]\ttraining's multi_logloss: 0.559959\tvalid_1's multi_logloss: 0.749958\n",
      "================================================================================\n",
      "\n",
      "\n",
      "====================================4============================================\n",
      "Training until validation scores don't improve for 30 rounds\n",
      "[100]\ttraining's multi_logloss: 0.661556\tvalid_1's multi_logloss: 0.762288\n",
      "[200]\ttraining's multi_logloss: 0.577084\tvalid_1's multi_logloss: 0.744695\n",
      "[300]\ttraining's multi_logloss: 0.516671\tvalid_1's multi_logloss: 0.738962\n",
      "Early stopping, best iteration is:\n",
      "[310]\ttraining's multi_logloss: 0.511584\tvalid_1's multi_logloss: 0.738563\n",
      "================================================================================\n",
      "\n",
      "\n",
      "====================================5============================================\n",
      "Training until validation scores don't improve for 30 rounds\n",
      "[100]\ttraining's multi_logloss: 0.662318\tvalid_1's multi_logloss: 0.757405\n",
      "[200]\ttraining's multi_logloss: 0.578045\tvalid_1's multi_logloss: 0.744823\n",
      "[300]\ttraining's multi_logloss: 0.515163\tvalid_1's multi_logloss: 0.740524\n",
      "Early stopping, best iteration is:\n",
      "[276]\ttraining's multi_logloss: 0.528868\tvalid_1's multi_logloss: 0.739978\n",
      "================================================================================\n",
      "\n",
      "\n"
     ]
    }
   ],
   "source": [
    "# 30번 이상 개선 없을 시 중단\n",
    "# 5개의 fold를 훈련하여 저장\n",
    "random.seed(42)\n",
    "lgb_models={}\n",
    "for fold in range(5):\n",
    "    print(f'===================================={fold+1}============================================')\n",
    "    train_idx, valid_idx = folds[fold]\n",
    "    X_train, X_valid, y_train, y_valid = train.drop(['credit'],axis=1).iloc[train_idx].values, train.drop(['credit'],axis=1).iloc[valid_idx].values,\\\n",
    "                                         train['credit'][train_idx].values, train['credit'][valid_idx].values \n",
    "    lgb = LGBMClassifier(n_estimators=1000)\n",
    "    lgb.fit(X_train, y_train, \n",
    "            eval_set=[(X_train, y_train), (X_valid, y_valid)], \n",
    "            early_stopping_rounds=30,\n",
    "           verbose=100)\n",
    "    lgb_models[fold]=lgb\n",
    "    print(f'================================================================================\\n\\n')"
   ]
  },
  {
   "cell_type": "markdown",
   "metadata": {},
   "source": [
    "#### Test inference\n",
    "* 각 폴드를 훈련시킨 LGBM으로 예측\n",
    "* 해당 대회는 logloss score를 겨루는 것이기 때문에 각 class의 probability를 얻어야함\n",
    "* 대부분의 머신러닝 모델에서 predict, predict_proba를 구분하여 사용함.\n",
    "* predict는 class 출력을 해주고 predict_proba는 class 별 probability를 출력해줌\n",
    "* predict_proba를 사용하여 예측한 것을 5-fold 더하여 평균내어 앙상블함"
   ]
  },
  {
   "cell_type": "code",
   "execution_count": 163,
   "metadata": {},
   "outputs": [],
   "source": [
    "submit.iloc[:,1:]=0\n",
    "for fold in range(5):\n",
    "    submit.iloc[:,1:] += lgb_models[fold].predict_proba(test)/5"
   ]
  },
  {
   "cell_type": "code",
   "execution_count": 164,
   "metadata": {},
   "outputs": [],
   "source": [
    "submit.to_csv('./20210416_test_submit_ensemble.csv', index=False) # 0.7272812144"
   ]
  },
  {
   "cell_type": "code",
   "execution_count": 165,
   "metadata": {},
   "outputs": [
    {
     "data": {
      "text/html": [
       "<div>\n",
       "<style scoped>\n",
       "    .dataframe tbody tr th:only-of-type {\n",
       "        vertical-align: middle;\n",
       "    }\n",
       "\n",
       "    .dataframe tbody tr th {\n",
       "        vertical-align: top;\n",
       "    }\n",
       "\n",
       "    .dataframe thead th {\n",
       "        text-align: right;\n",
       "    }\n",
       "</style>\n",
       "<table border=\"1\" class=\"dataframe\">\n",
       "  <thead>\n",
       "    <tr style=\"text-align: right;\">\n",
       "      <th></th>\n",
       "      <th>index</th>\n",
       "      <th>0</th>\n",
       "      <th>1</th>\n",
       "      <th>2</th>\n",
       "    </tr>\n",
       "  </thead>\n",
       "  <tbody>\n",
       "    <tr>\n",
       "      <th>0</th>\n",
       "      <td>26457</td>\n",
       "      <td>0.077237</td>\n",
       "      <td>0.110240</td>\n",
       "      <td>0.812523</td>\n",
       "    </tr>\n",
       "    <tr>\n",
       "      <th>1</th>\n",
       "      <td>26458</td>\n",
       "      <td>0.181997</td>\n",
       "      <td>0.196615</td>\n",
       "      <td>0.621388</td>\n",
       "    </tr>\n",
       "    <tr>\n",
       "      <th>2</th>\n",
       "      <td>26459</td>\n",
       "      <td>0.068132</td>\n",
       "      <td>0.154932</td>\n",
       "      <td>0.776936</td>\n",
       "    </tr>\n",
       "    <tr>\n",
       "      <th>3</th>\n",
       "      <td>26460</td>\n",
       "      <td>0.135558</td>\n",
       "      <td>0.149693</td>\n",
       "      <td>0.714749</td>\n",
       "    </tr>\n",
       "    <tr>\n",
       "      <th>4</th>\n",
       "      <td>26461</td>\n",
       "      <td>0.095944</td>\n",
       "      <td>0.227600</td>\n",
       "      <td>0.676456</td>\n",
       "    </tr>\n",
       "    <tr>\n",
       "      <th>5</th>\n",
       "      <td>26462</td>\n",
       "      <td>0.085322</td>\n",
       "      <td>0.134782</td>\n",
       "      <td>0.779896</td>\n",
       "    </tr>\n",
       "    <tr>\n",
       "      <th>6</th>\n",
       "      <td>26463</td>\n",
       "      <td>0.445256</td>\n",
       "      <td>0.554396</td>\n",
       "      <td>0.000348</td>\n",
       "    </tr>\n",
       "    <tr>\n",
       "      <th>7</th>\n",
       "      <td>26464</td>\n",
       "      <td>0.110103</td>\n",
       "      <td>0.122944</td>\n",
       "      <td>0.766954</td>\n",
       "    </tr>\n",
       "    <tr>\n",
       "      <th>8</th>\n",
       "      <td>26465</td>\n",
       "      <td>0.062557</td>\n",
       "      <td>0.117109</td>\n",
       "      <td>0.820333</td>\n",
       "    </tr>\n",
       "    <tr>\n",
       "      <th>9</th>\n",
       "      <td>26466</td>\n",
       "      <td>0.057686</td>\n",
       "      <td>0.272091</td>\n",
       "      <td>0.670224</td>\n",
       "    </tr>\n",
       "    <tr>\n",
       "      <th>10</th>\n",
       "      <td>26467</td>\n",
       "      <td>0.091897</td>\n",
       "      <td>0.181315</td>\n",
       "      <td>0.726788</td>\n",
       "    </tr>\n",
       "    <tr>\n",
       "      <th>11</th>\n",
       "      <td>26468</td>\n",
       "      <td>0.077750</td>\n",
       "      <td>0.129947</td>\n",
       "      <td>0.792304</td>\n",
       "    </tr>\n",
       "    <tr>\n",
       "      <th>12</th>\n",
       "      <td>26469</td>\n",
       "      <td>0.241842</td>\n",
       "      <td>0.199099</td>\n",
       "      <td>0.559059</td>\n",
       "    </tr>\n",
       "    <tr>\n",
       "      <th>13</th>\n",
       "      <td>26470</td>\n",
       "      <td>0.098014</td>\n",
       "      <td>0.172993</td>\n",
       "      <td>0.728993</td>\n",
       "    </tr>\n",
       "    <tr>\n",
       "      <th>14</th>\n",
       "      <td>26471</td>\n",
       "      <td>0.100217</td>\n",
       "      <td>0.220399</td>\n",
       "      <td>0.679384</td>\n",
       "    </tr>\n",
       "    <tr>\n",
       "      <th>15</th>\n",
       "      <td>26472</td>\n",
       "      <td>0.121602</td>\n",
       "      <td>0.248812</td>\n",
       "      <td>0.629587</td>\n",
       "    </tr>\n",
       "    <tr>\n",
       "      <th>16</th>\n",
       "      <td>26473</td>\n",
       "      <td>0.071413</td>\n",
       "      <td>0.132186</td>\n",
       "      <td>0.796401</td>\n",
       "    </tr>\n",
       "    <tr>\n",
       "      <th>17</th>\n",
       "      <td>26474</td>\n",
       "      <td>0.362984</td>\n",
       "      <td>0.636805</td>\n",
       "      <td>0.000211</td>\n",
       "    </tr>\n",
       "    <tr>\n",
       "      <th>18</th>\n",
       "      <td>26475</td>\n",
       "      <td>0.266586</td>\n",
       "      <td>0.307844</td>\n",
       "      <td>0.425570</td>\n",
       "    </tr>\n",
       "    <tr>\n",
       "      <th>19</th>\n",
       "      <td>26476</td>\n",
       "      <td>0.044276</td>\n",
       "      <td>0.106332</td>\n",
       "      <td>0.849391</td>\n",
       "    </tr>\n",
       "  </tbody>\n",
       "</table>\n",
       "</div>"
      ],
      "text/plain": [
       "    index         0         1         2\n",
       "0   26457  0.077237  0.110240  0.812523\n",
       "1   26458  0.181997  0.196615  0.621388\n",
       "2   26459  0.068132  0.154932  0.776936\n",
       "3   26460  0.135558  0.149693  0.714749\n",
       "4   26461  0.095944  0.227600  0.676456\n",
       "5   26462  0.085322  0.134782  0.779896\n",
       "6   26463  0.445256  0.554396  0.000348\n",
       "7   26464  0.110103  0.122944  0.766954\n",
       "8   26465  0.062557  0.117109  0.820333\n",
       "9   26466  0.057686  0.272091  0.670224\n",
       "10  26467  0.091897  0.181315  0.726788\n",
       "11  26468  0.077750  0.129947  0.792304\n",
       "12  26469  0.241842  0.199099  0.559059\n",
       "13  26470  0.098014  0.172993  0.728993\n",
       "14  26471  0.100217  0.220399  0.679384\n",
       "15  26472  0.121602  0.248812  0.629587\n",
       "16  26473  0.071413  0.132186  0.796401\n",
       "17  26474  0.362984  0.636805  0.000211\n",
       "18  26475  0.266586  0.307844  0.425570\n",
       "19  26476  0.044276  0.106332  0.849391"
      ]
     },
     "execution_count": 165,
     "metadata": {},
     "output_type": "execute_result"
    }
   ],
   "source": [
    "submit.head(20)"
   ]
  },
  {
   "cell_type": "markdown",
   "metadata": {},
   "source": [
    "### 5-2. **로지스틱 회귀분석**\n",
    "* train 데이터를 7:3의 비율로 학습용(training data), 검증용(validation data)로 구분\n",
    "* 편의상 학습용(training data) : _train, 검증용(validation data) : _test"
   ]
  },
  {
   "cell_type": "code",
   "execution_count": null,
   "metadata": {},
   "outputs": [],
   "source": [
    "from sklearn.model_selection import train_test_split\n",
    "\n",
    "# 설명변수 X, 예측변수 y 할당\n",
    "X = train[train.columns.difference(['credit'])]\n",
    "y = train['credit']\n",
    "\n",
    "# 설명변수 정규화\n",
    "from sklearn import preprocessing\n",
    "X = preprocessing.MinMaxScaler().fit(X).transform(X)\n",
    "\n",
    "x_train, x_test, y_train, y_test = train_test_split(X, y, test_size=0.3, random_state=10)"
   ]
  },
  {
   "cell_type": "code",
   "execution_count": null,
   "metadata": {},
   "outputs": [],
   "source": [
    "from sklearn.linear_model import LogisticRegression\n",
    "log = LogisticRegression() #로지스틱 회귀분석 시행\n",
    "\n",
    "log.fit(x_train, y_train) #모델의 정확도 확인\n",
    "print('학습용 데이터셋 정확도 : %.2f' % log.score(x_train, y_train))\n",
    "print('검증용 데이터셋 정확도 : %.2f' % log.score(x_test, y_test))"
   ]
  },
  {
   "cell_type": "code",
   "execution_count": null,
   "metadata": {},
   "outputs": [],
   "source": [
    "from sklearn.metrics import classification_report\n",
    "y_pred=log.predict(x_test)\n",
    "print(classification_report(y_test, y_pred))\n",
    "\n",
    "# 아래 결과는 md파일 참고"
   ]
  },
  {
   "cell_type": "code",
   "execution_count": null,
   "metadata": {},
   "outputs": [],
   "source": [
    "# csv 파일 생성\n",
    "submit.iloc[:,1:]=0\n",
    "submit.iloc[:,1:] =log.predict_proba(test)\n",
    "\n",
    "submit.to_csv('./20210420_test_submit_logistic_regression.csv', index=False)"
   ]
  },
  {
   "cell_type": "markdown",
   "metadata": {},
   "source": [
    "### 5-3 KNN"
   ]
  },
  {
   "cell_type": "code",
   "execution_count": 45,
   "metadata": {},
   "outputs": [],
   "source": [
    "# 설명변수 X, 예측변수 y 할당\n",
    "X = train[train.columns.difference(['credit'])]\n",
    "y = train['credit']"
   ]
  },
  {
   "cell_type": "code",
   "execution_count": 46,
   "metadata": {},
   "outputs": [],
   "source": [
    "# 설명변수 정규화\n",
    "from sklearn import preprocessing\n",
    "X = preprocessing.MinMaxScaler().fit(X).transform(X)"
   ]
  },
  {
   "cell_type": "code",
   "execution_count": 47,
   "metadata": {},
   "outputs": [],
   "source": [
    "# 훈련, 검증 데이터를 7:3 비율로 구분\n",
    "from sklearn.model_selection import train_test_split\n",
    "X_train, X_test, y_train, y_test = train_test_split(X, y, test_size=0.3, random_state=10)"
   ]
  },
  {
   "cell_type": "code",
   "execution_count": 60,
   "metadata": {},
   "outputs": [
    {
     "name": "stdout",
     "output_type": "stream",
     "text": [
      "1\n",
      "2\n",
      "3\n",
      "4\n",
      "5\n",
      "6\n",
      "7\n",
      "8\n",
      "9\n",
      "10\n",
      "11\n",
      "12\n",
      "13\n",
      "14\n",
      "15\n",
      "16\n",
      "17\n",
      "18\n",
      "19\n",
      "20\n",
      "21\n",
      "22\n",
      "23\n",
      "24\n",
      "25\n",
      "26\n",
      "27\n",
      "28\n",
      "29\n",
      "30\n",
      "31\n",
      "32\n",
      "33\n",
      "34\n",
      "35\n",
      "36\n",
      "37\n",
      "38\n",
      "39\n",
      "40\n",
      "41\n",
      "42\n",
      "43\n",
      "44\n",
      "45\n",
      "46\n",
      "47\n",
      "48\n",
      "49\n"
     ]
    }
   ],
   "source": [
    "# 최적 k 도출 - Cross Validation 이용\n",
    "# 시간 진 ~ 짜 오래걸리니까 ... 변한거 없으면 그냥 돌리지 마세요 ....!\n",
    "from sklearn.model_selection import cross_val_score\n",
    "from sklearn.neighbors import KNeighborsClassifier\n",
    "\n",
    "k_range = range(1,50) # 1~100 에서 최적 k 찾기\n",
    "k_scores = []\n",
    "\n",
    "for k in k_range :\n",
    "    print(k)\n",
    "    knn = KNeighborsClassifier(k)\n",
    "    scores = cross_val_score(knn, X, y, cv=10, scoring = \"accuracy\") # 10-fold cross validation\n",
    "    k_scores.append(scores.mean())\n",
    "    "
   ]
  },
  {
   "cell_type": "code",
   "execution_count": 66,
   "metadata": {},
   "outputs": [
    {
     "data": {
      "image/png": "[encoded data removed]",
      "text/plain": [
       "<Figure size 1008x576 with 1 Axes>"
      ]
     },
     "metadata": {},
     "output_type": "display_data"
    },
    {
     "name": "stdout",
     "output_type": "stream",
     "text": [
      "19\n"
     ]
    }
   ],
   "source": [
    "# 최적 k를 그래프로 확인    \n",
    "plt.plot(k_range, k_scores)\n",
    "plt.xlabel('value of K for KNN')\n",
    "plt.ylabel('Cross_Validation Accuracy')\n",
    "plt.show()\n",
    "\n",
    "# k_scores 리스트에서 최댓값의 index 구하기 (최적 k 찾기)\n",
    "k = k_scores.index(max(k_scores)) + 1\n",
    "print(k)"
   ]
  },
  {
   "cell_type": "code",
   "execution_count": 73,
   "metadata": {},
   "outputs": [
    {
     "name": "stdout",
     "output_type": "stream",
     "text": [
      "[2. 2. 2. 2. 1. 2. 2. 2. 2. 2.]\n",
      "[1. 2. 1. 1. 1. 1. 1. 2. 1. 2.]\n"
     ]
    }
   ],
   "source": [
    "# 최적 k로 모델 학습\n",
    "# sklearn 라이브러리에서 KNN 분류 모형 가져오기\n",
    "from sklearn.neighbors import KNeighborsClassifier\n",
    "\n",
    "# 모형 객체 생성 (최적 k 사용)\n",
    "knn = KNeighborsClassifier(n_neighbors=k)\n",
    "\n",
    "# train data를 가지고 모형 학습\n",
    "knn.fit(X_train, y_train)\n",
    "\n",
    "# test data를 가지고 예측(분류)하고 예측값을 y_hat에 저장\n",
    "y_hat = knn.predict(X_test)\n",
    "\n",
    "# 시각적으로 확인해보기\n",
    "print(y_hat[0:10])\n",
    "print(y_test.values[0:10])"
   ]
  },
  {
   "cell_type": "code",
   "execution_count": 74,
   "metadata": {},
   "outputs": [
    {
     "name": "stdout",
     "output_type": "stream",
     "text": [
      "[[  34   74  865]\n",
      " [  38  257 1579]\n",
      " [  42  257 4792]]\n"
     ]
    }
   ],
   "source": [
    "# 모형 성능 평가 - confusion Matrix 계산\n",
    "from sklearn import metrics\n",
    "knn_matrix = metrics.confusion_matrix(y_test, y_hat)\n",
    "print(knn_matrix)"
   ]
  },
  {
   "cell_type": "code",
   "execution_count": 75,
   "metadata": {},
   "outputs": [
    {
     "name": "stdout",
     "output_type": "stream",
     "text": [
      "              precision    recall  f1-score   support\n",
      "\n",
      "         0.0       0.30      0.03      0.06       973\n",
      "         1.0       0.44      0.14      0.21      1874\n",
      "         2.0       0.66      0.94      0.78      5091\n",
      "\n",
      "    accuracy                           0.64      7938\n",
      "   macro avg       0.47      0.37      0.35      7938\n",
      "weighted avg       0.56      0.64      0.56      7938\n",
      "\n"
     ]
    }
   ],
   "source": [
    "# 모형 성능 평가 - 평가 지표 계산\n",
    "knn_report = metrics.classification_report(y_test, y_hat)\n",
    "print(knn_report)"
   ]
  },
  {
   "cell_type": "markdown",
   "metadata": {},
   "source": [
    "## Logloss 함수"
   ]
  },
  {
   "cell_type": "code",
   "execution_count": null,
   "metadata": {},
   "outputs": [],
   "source": [
    "def logloss(true_label, predicted, eps=1e-15):\n",
    "    p = np.clip(predicted, eps, 1 - eps)\n",
    "    if true_label == 1:\n",
    "        return -np.log(p)\n",
    "    else:\n",
    "        return -np.log(1 - p)"
   ]
  }
 ],
 "metadata": {
  "kernelspec": {
   "display_name": "pydatavenv",
   "language": "python",
   "name": "pydatavenv"
  },
  "language_info": {
   "codemirror_mode": {
    "name": "ipython",
    "version": 3
   },
   "file_extension": ".py",
   "mimetype": "text/x-python",
   "name": "python",
   "nbconvert_exporter": "python",
   "pygments_lexer": "ipython3",
   "version": "3.8.8"
  }
 },
 "nbformat": 4,
 "nbformat_minor": 4
}
