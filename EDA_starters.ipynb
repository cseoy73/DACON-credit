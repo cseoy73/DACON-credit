{
 "cells": [
  {
   "cell_type": "markdown",
   "metadata": {},
   "source": [
    "## EDA for starters\n",
    "\n",
    "* 가볍게 데이터 탐색을 위한 EDA\n",
    "* 데이터 설명을 봤을때 credit 숫자가 높을수록 신용도가 낮은 것! "
   ]
  },
  {
   "cell_type": "markdown",
   "metadata": {},
   "source": [
    "[데이터 변수 설명하는 페이지](https://www.dacon.io/competitions/official/235713/talkboard/402821/)\n",
    "\n",
    "* index\n",
    "\n",
    "* gender: 성별\n",
    "\n",
    "* car: 차량 소유 여부\n",
    "\n",
    "* reality: 부동산 소유 여부\n",
    "\n",
    "* child_num: 자녀 수\n",
    "\n",
    "* income_total: 연간 소득\n",
    "\n",
    "* income_type: 소득 분류\n",
    "\n",
    "* ['Commercial associate', 'Working', 'State servant', 'Pensioner', 'Student']\n",
    "\n",
    "* edu_type: 교육 수준\n",
    "\n",
    "* ['Higher education' ,'Secondary / secondary special', 'Incomplete higher', 'Lower secondary', 'Academic degree']\n",
    "\n",
    "\n",
    "* family_type: 결혼 여부\n",
    "\n",
    "* ['Married', 'Civil marriage', 'Separated', 'Single / not married', 'Widow']\n",
    "\n",
    "\n",
    "* house_type: 생활 방식\n",
    "\n",
    "* ['Municipal apartment', 'House / apartment', 'With parents',\n",
    "\n",
    "*  'Co-op apartment', 'Rented apartment', 'Office apartment']\n",
    "\n",
    "\n",
    "* DAYS_BIRTH: 출생일\n",
    "\n",
    "* 데이터 수집 당시 (0)부터 역으로 셈, 즉, -1은 데이터 수집일 하루 전에 태어났음을 의미\n",
    "\n",
    "\n",
    "* DAYS_EMPLOYED: 업무 시작일\n",
    "\n",
    "* 데이터 수집 당시 (0)부터 역으로 셈, 즉, -1은 데이터 수집일 하루 전부터 일을 시작함을 의미\n",
    "\n",
    "* 양수 값은 고용되지 않은 상태를 의미함\n",
    "\n",
    "* FLAG_MOBIL: 핸드폰 소유 여부\n",
    "\n",
    "* work_phone: 업무용 전화 소유 여부\n",
    "\n",
    "* phone: 전화 소유 여부\n",
    "\n",
    "* email: 이메일 소유 여부\n",
    "\n",
    "* occyp_type: 직업 유형\n",
    "\n",
    "* family_size: 가족 규모\n",
    "\n",
    "* begin_month: 신용카드 발급 월\n",
    "\n",
    "* 데이터 수집 당시 (0)부터 역으로 셈, 즉, -1은 데이터 수집일 한 달 전에 신용카드를 발급함을 의미\n",
    "\n",
    "\n",
    "* credit: 사용자의 신용카드 대금 연체를 기준의 신용도\n",
    "\n",
    "* => 낮을 수록 높은 신용의 신용카드 사용자를 의미함"
   ]
  },
  {
   "cell_type": "code",
   "execution_count": 1,
   "metadata": {},
   "outputs": [],
   "source": [
    "# Libraries\n",
    "\n",
    "import numpy as np\n",
    "import pandas as pd\n",
    "\n",
    "import seaborn as sns\n",
    "import matplotlib.pyplot as plt\n",
    "\n",
    "from collections import Counter\n",
    "import warnings\n",
    "warnings.filterwarnings('ignore')"
   ]
  },
  {
   "cell_type": "code",
   "execution_count": 3,
   "metadata": {},
   "outputs": [],
   "source": [
    "def days_to_age(x):\n",
    "    return (x*-1)/365\n",
    "\n",
    "def categorical_show(df, col, y_cols='credit'):\n",
    "    from collections import Counter\n",
    "    print('unique items:', df[col].unique())\n",
    "    print()\n",
    "    counter = Counter(df[col]) # 딕셔너리 형태로 나온 값 카운트. \n",
    "    print(counter)\n",
    "    plt.bar(counter.keys(), counter.values())\n",
    "    plt.xticks(rotation=30) # x축의 레이블 텍스트를 30도 만큼 회전\n",
    "    plt.title('people in classes')\n",
    "    plt.show()\n",
    "    \n",
    "    fig, axes = plt.subplots(1, len(df[col].unique()), figsize=(16,4))\n",
    "    \n",
    "    # subplots()에선 두개의 값을 받을 수 있는데 figure 와 axes 값을 받을 수 있다.\n",
    "    # 순서가 중요\n",
    "    # fig란 figure로써 - 전체 subplot을 말한다, 전체 사이즈를 말함\n",
    "    # ax는 axe로써 - 전체 중 낱낱개를 말한다.\n",
    "    \n",
    "    # enumerate: 인덱스 번호도 함께 반복문 수행\n",
    "    for i,w in enumerate(df[col].unique()):\n",
    "        axes[i].hist(df[y_cols][df[col]==w], bins=3, color='dimgray', rwidth=0.8)\n",
    "        axes[i].set_title(w)\n",
    "    plt.show()\n",
    "        \n",
    "def group_by_mean(df, col):\n",
    "    print(train.groupby(col).credit.mean())\n",
    "    train.groupby(col).credit.mean().plot.bar()\n",
    "    plt.title('mean credit')\n",
    "    plt.show()"
   ]
  },
  {
   "cell_type": "code",
   "execution_count": 3,
   "metadata": {},
   "outputs": [],
   "source": [
    "# Load Data\n",
    "train = pd.read_csv('./train.csv', index_col='index')\n",
    "test = pd.read_csv('./test.csv', index_col='index')"
   ]
  },
  {
   "cell_type": "code",
   "execution_count": 5,
   "metadata": {},
   "outputs": [],
   "source": [
    "train_y = train['credit'].astype(int)"
   ]
  },
  {
   "cell_type": "code",
   "execution_count": 7,
   "metadata": {},
   "outputs": [
    {
     "name": "stdout",
     "output_type": "stream",
     "text": [
      "[1]\n",
      "[1]\n"
     ]
    }
   ],
   "source": [
    "# FLAG_MOBIL 컬럼은 모두 같은 값 (=1), 무의미한 정보\n",
    "print(train['FLAG_MOBIL'].unique())\n",
    "print(test['FLAG_MOBIL'].unique())"
   ]
  },
  {
   "cell_type": "code",
   "execution_count": 77,
   "metadata": {},
   "outputs": [
    {
     "data": {
      "text/html": [
       "<div>\n",
       "<style scoped>\n",
       "    .dataframe tbody tr th:only-of-type {\n",
       "        vertical-align: middle;\n",
       "    }\n",
       "\n",
       "    .dataframe tbody tr th {\n",
       "        vertical-align: top;\n",
       "    }\n",
       "\n",
       "    .dataframe thead th {\n",
       "        text-align: right;\n",
       "    }\n",
       "</style>\n",
       "<table border=\"1\" class=\"dataframe\">\n",
       "  <thead>\n",
       "    <tr style=\"text-align: right;\">\n",
       "      <th></th>\n",
       "      <th>gender</th>\n",
       "      <th>car</th>\n",
       "      <th>reality</th>\n",
       "      <th>child_num</th>\n",
       "      <th>income_total</th>\n",
       "      <th>income_type</th>\n",
       "      <th>edu_type</th>\n",
       "      <th>family_type</th>\n",
       "      <th>house_type</th>\n",
       "      <th>DAYS_BIRTH</th>\n",
       "      <th>DAYS_EMPLOYED</th>\n",
       "      <th>FLAG_MOBIL</th>\n",
       "      <th>work_phone</th>\n",
       "      <th>phone</th>\n",
       "      <th>email</th>\n",
       "      <th>occyp_type</th>\n",
       "      <th>family_size</th>\n",
       "      <th>begin_month</th>\n",
       "      <th>credit</th>\n",
       "    </tr>\n",
       "    <tr>\n",
       "      <th>index</th>\n",
       "      <th></th>\n",
       "      <th></th>\n",
       "      <th></th>\n",
       "      <th></th>\n",
       "      <th></th>\n",
       "      <th></th>\n",
       "      <th></th>\n",
       "      <th></th>\n",
       "      <th></th>\n",
       "      <th></th>\n",
       "      <th></th>\n",
       "      <th></th>\n",
       "      <th></th>\n",
       "      <th></th>\n",
       "      <th></th>\n",
       "      <th></th>\n",
       "      <th></th>\n",
       "      <th></th>\n",
       "      <th></th>\n",
       "    </tr>\n",
       "  </thead>\n",
       "  <tbody>\n",
       "    <tr>\n",
       "      <th>0</th>\n",
       "      <td>F</td>\n",
       "      <td>N</td>\n",
       "      <td>N</td>\n",
       "      <td>0</td>\n",
       "      <td>202500.0</td>\n",
       "      <td>Commercial associate</td>\n",
       "      <td>Higher education</td>\n",
       "      <td>Married</td>\n",
       "      <td>Municipal apartment</td>\n",
       "      <td>-13899</td>\n",
       "      <td>-4709</td>\n",
       "      <td>1</td>\n",
       "      <td>0</td>\n",
       "      <td>0</td>\n",
       "      <td>0</td>\n",
       "      <td>NaN</td>\n",
       "      <td>2.0</td>\n",
       "      <td>-6.0</td>\n",
       "      <td>1.0</td>\n",
       "    </tr>\n",
       "    <tr>\n",
       "      <th>1</th>\n",
       "      <td>F</td>\n",
       "      <td>N</td>\n",
       "      <td>Y</td>\n",
       "      <td>1</td>\n",
       "      <td>247500.0</td>\n",
       "      <td>Commercial associate</td>\n",
       "      <td>Secondary / secondary special</td>\n",
       "      <td>Civil marriage</td>\n",
       "      <td>House / apartment</td>\n",
       "      <td>-11380</td>\n",
       "      <td>-1540</td>\n",
       "      <td>1</td>\n",
       "      <td>0</td>\n",
       "      <td>0</td>\n",
       "      <td>1</td>\n",
       "      <td>Laborers</td>\n",
       "      <td>3.0</td>\n",
       "      <td>-5.0</td>\n",
       "      <td>1.0</td>\n",
       "    </tr>\n",
       "    <tr>\n",
       "      <th>2</th>\n",
       "      <td>M</td>\n",
       "      <td>Y</td>\n",
       "      <td>Y</td>\n",
       "      <td>0</td>\n",
       "      <td>450000.0</td>\n",
       "      <td>Working</td>\n",
       "      <td>Higher education</td>\n",
       "      <td>Married</td>\n",
       "      <td>House / apartment</td>\n",
       "      <td>-19087</td>\n",
       "      <td>-4434</td>\n",
       "      <td>1</td>\n",
       "      <td>0</td>\n",
       "      <td>1</td>\n",
       "      <td>0</td>\n",
       "      <td>Managers</td>\n",
       "      <td>2.0</td>\n",
       "      <td>-22.0</td>\n",
       "      <td>2.0</td>\n",
       "    </tr>\n",
       "  </tbody>\n",
       "</table>\n",
       "</div>"
      ],
      "text/plain": [
       "      gender car reality  child_num  income_total           income_type  \\\n",
       "index                                                                     \n",
       "0          F   N       N          0      202500.0  Commercial associate   \n",
       "1          F   N       Y          1      247500.0  Commercial associate   \n",
       "2          M   Y       Y          0      450000.0               Working   \n",
       "\n",
       "                            edu_type     family_type           house_type  \\\n",
       "index                                                                       \n",
       "0                   Higher education         Married  Municipal apartment   \n",
       "1      Secondary / secondary special  Civil marriage    House / apartment   \n",
       "2                   Higher education         Married    House / apartment   \n",
       "\n",
       "       DAYS_BIRTH  DAYS_EMPLOYED  FLAG_MOBIL  work_phone  phone  email  \\\n",
       "index                                                                    \n",
       "0          -13899          -4709           1           0      0      0   \n",
       "1          -11380          -1540           1           0      0      1   \n",
       "2          -19087          -4434           1           0      1      0   \n",
       "\n",
       "      occyp_type  family_size  begin_month  credit  \n",
       "index                                               \n",
       "0            NaN          2.0         -6.0     1.0  \n",
       "1       Laborers          3.0         -5.0     1.0  \n",
       "2       Managers          2.0        -22.0     2.0  "
      ]
     },
     "metadata": {},
     "output_type": "display_data"
    },
    {
     "name": "stdout",
     "output_type": "stream",
     "text": [
      "-------------------------------\n"
     ]
    },
    {
     "data": {
      "text/plain": [
       "index\n",
       "0        False\n",
       "1        False\n",
       "2         True\n",
       "3        False\n",
       "4        False\n",
       "         ...  \n",
       "26452    False\n",
       "26453    False\n",
       "26454    False\n",
       "26455     True\n",
       "26456    False\n",
       "Name: gender, Length: 26457, dtype: bool"
      ]
     },
     "metadata": {},
     "output_type": "display_data"
    },
    {
     "name": "stdout",
     "output_type": "stream",
     "text": [
      "-------------------------------\n",
      "index\n",
      "2        2\n",
      "7        0\n",
      "8        2\n",
      "11       2\n",
      "15       0\n",
      "        ..\n",
      "26438    2\n",
      "26444    2\n",
      "26447    2\n",
      "26448    0\n",
      "26455    2\n",
      "Name: credit, Length: 8760, dtype: int32\n",
      "-------------------------------\n"
     ]
    },
    {
     "data": {
      "text/plain": [
       "array([1., 2., 0.])"
      ]
     },
     "metadata": {},
     "output_type": "display_data"
    },
    {
     "name": "stdout",
     "output_type": "stream",
     "text": [
      "-------------------------------\n",
      "-------------------------------\n",
      "2    64.134256\n",
      "1    23.687493\n",
      "0    12.178252\n",
      "Name: credit, dtype: float64\n",
      "-------------------------------\n"
     ]
    },
    {
     "data": {
      "text/plain": [
       "<AxesSubplot:xlabel='credit', ylabel='Density'>"
      ]
     },
     "execution_count": 77,
     "metadata": {},
     "output_type": "execute_result"
    },
    {
     "data": {
      "image/png": "[encoded data removed]",
      "text/plain": [
       "<Figure size 432x288 with 1 Axes>"
      ]
     },
     "metadata": {
      "needs_background": "light"
     },
     "output_type": "display_data"
    }
   ],
   "source": [
    "display(train.head(3))\n",
    "print('-------------------------------')\n",
    "display(train['gender']=='M')\n",
    "print('-------------------------------')\n",
    "print(train_y[train['gender']=='M'])\n",
    "print('-------------------------------')\n",
    "display(train['credit'].unique())\n",
    "print('-------------------------------')\n",
    "print('-------------------------------')\n",
    "print((train_y.value_counts()/len(train_y))*100) # 종속변수의 비율확인\n",
    "print('-------------------------------')\n",
    "sns.distplot(train_y)"
   ]
  },
  {
   "cell_type": "markdown",
   "metadata": {},
   "source": [
    "#### Binary Features\n",
    "\n",
    "* 모든 변수에서 큰 차이는 없음\n",
    "* phone, email 변수에서는 0 (미소유) 한 사람들이 credit 2 (신용도 안좋음)의 비율이 높음"
   ]
  },
  {
   "cell_type": "code",
   "execution_count": 9,
   "metadata": {},
   "outputs": [
    {
     "data": {
      "text/plain": [
       "Text(0.5, 1.0, 'reality')"
      ]
     },
     "execution_count": 9,
     "metadata": {},
     "output_type": "execute_result"
    },
    {
     "data": {
      "image/png": "[encoded data removed]",
      "text/plain": [
       "<Figure size 1080x216 with 3 Axes>"
      ]
     },
     "metadata": {
      "needs_background": "light"
     },
     "output_type": "display_data"
    }
   ],
   "source": [
    "# Binary Features\n",
    "# 각 변수마다의 분포 확인\n",
    "\n",
    "fig, axes = plt.subplots(1,3, figsize=(15,3))\n",
    "\n",
    "# 성별\n",
    "sns.distplot(train_y[train['gender']=='M'], ax=axes[0]) # 남자인 사람들의 credit 만 출력됨, 먼저 파란색\n",
    "sns.distplot(train_y[train['gender']=='F'], ax=axes[0]) # 다음 아이보리색으로 그래프 그려짐\n",
    "\n",
    "# 차 소유 여부\n",
    "sns.distplot(train_y[train['car']=='N'], ax=axes[1])\n",
    "sns.distplot(train_y[train['car']=='Y'], ax=axes[1])\n",
    "\n",
    "# 부동산 소유 여부\n",
    "sns.distplot(train_y[train['reality']=='N'], ax=axes[2])\n",
    "sns.distplot(train_y[train['reality']=='Y'], ax=axes[2])\n",
    "\n",
    "axes[0].set_title('gender')\n",
    "axes[1].set_title('car')\n",
    "axes[2].set_title('reality')"
   ]
  },
  {
   "cell_type": "code",
   "execution_count": 10,
   "metadata": {},
   "outputs": [
    {
     "data": {
      "text/plain": [
       "Text(0.5, 1.0, 'email')"
      ]
     },
     "execution_count": 10,
     "metadata": {},
     "output_type": "execute_result"
    },
    {
     "data": {
      "image/png": "[encoded data removed]",
      "text/plain": [
       "<Figure size 1080x216 with 3 Axes>"
      ]
     },
     "metadata": {
      "needs_background": "light"
     },
     "output_type": "display_data"
    }
   ],
   "source": [
    "fig, axes = plt.subplots(1,3, figsize=(15,3))\n",
    "\n",
    "# 업무용 전화 소유 여부\n",
    "sns.distplot(train_y[train['work_phone']==0], ax=axes[0]) \n",
    "sns.distplot(train_y[train['work_phone']==1], ax=axes[0]) \n",
    "\n",
    "# 가정용 전화 소유 여부\n",
    "sns.distplot(train_y[train['phone']==0], ax=axes[1])\n",
    "sns.distplot(train_y[train['phone']==1], ax=axes[1])\n",
    "\n",
    "# 이메일 소유 여부\n",
    "sns.distplot(train_y[train['email']==0], ax=axes[2])\n",
    "sns.distplot(train_y[train['email']==1], ax=axes[2])\n",
    "\n",
    "axes[0].set_title('work_phone')\n",
    "axes[1].set_title('phone')\n",
    "axes[2].set_title('email')"
   ]
  },
  {
   "cell_type": "code",
   "execution_count": 11,
   "metadata": {},
   "outputs": [
    {
     "name": "stdout",
     "output_type": "stream",
     "text": [
      "phone and work_phone: 12.515%\n",
      "work_phone and email: 1.678%\n",
      "phone and email: 2.85%\n",
      "all: 1.051%\n"
     ]
    }
   ],
   "source": [
    "# 동시에 가지고 있는 사람 수, '*'가 and의 의미인듯. (&과 같음)\n",
    "print(f\"phone and work_phone: {round(np.sum(train['work_phone']*train['phone'])/len(train)*100,3)}%\")\n",
    "print(f\"work_phone and email: {round(np.sum(train['work_phone']*train['email'])/len(train)*100,3)}%\")\n",
    "print(f\"phone and email: {round(np.sum(train['email']*train['phone'])/len(train)*100,3)}%\")\n",
    "print(f\"all: {round(np.sum(train['work_phone']*train['phone']*train['email'])/len(train)*100,3)}%\")"
   ]
  },
  {
   "cell_type": "markdown",
   "metadata": {},
   "source": [
    "#### Numerical"
   ]
  },
  {
   "cell_type": "markdown",
   "metadata": {},
   "source": [
    "##### child_num and family_size (자녀 수와 가족 규모)\n",
    "* 굉장히 극단적인 값 (5++) 이 있어서 잘못된 정보처럼 보였으나 두 변수간의 차이를 보면 일정했음\n",
    "* 어떠한 이유인지는 모르나 잘못 기입하지는 않았을 것 ( 그럼에도 극단적이긴함)\n",
    "* 두 변수의 차이는 [-1,0,1,2]로 나타남 (train/test 모두)\n",
    "* 음수의 경우 상식적으로 이해되지 않음..\n",
    "* 다만 해당 경우는 많지 않고, 이 경우에는 credit이 모두 2 (신용도 낮음) 인 것이 특징"
   ]
  },
  {
   "cell_type": "markdown",
   "metadata": {},
   "source": [
    "##### Others\n",
    "* income_total의 경우 로그를 취하면 노말에 가까워짐\n",
    "* credit에 따라서 income의 경우 크게 다르지 않은 것으로 확인\n",
    "<br>\n",
    "* DAYS_BIRTH를 연령으로 바꾸어 나타내 봄\n",
    " * 20대 이상만 존재하며 20대 초중반의 경우 사람 수가 적음\n",
    " * 최소는 21세, 최고 69세\n",
    "<br>\n",
    "* DAYS_EMPLOYED의 경우 무직이 포함됨\n",
    " * 로그 변환을 해주면 고용되어 있는 사람의 경우 노말하게 분포"
   ]
  },
  {
   "cell_type": "code",
   "execution_count": 12,
   "metadata": {},
   "outputs": [
    {
     "name": "stdout",
     "output_type": "stream",
     "text": [
      "childnum unique: [ 0  1  2  3  4  5 14 19  7]\n",
      "family size and unique: [ 2.  3.  4.  1.  5.  6.  7. 15. 20.  9.]\n"
     ]
    },
    {
     "data": {
      "text/plain": [
       "<matplotlib.legend.Legend at 0x21cce4027c0>"
      ]
     },
     "execution_count": 12,
     "metadata": {},
     "output_type": "execute_result"
    },
    {
     "data": {
      "image/png": "[encoded data removed]",
      "text/plain": [
       "<Figure size 432x288 with 1 Axes>"
      ]
     },
     "metadata": {
      "needs_background": "light"
     },
     "output_type": "display_data"
    }
   ],
   "source": [
    "print('childnum unique:', train['child_num'].unique())\n",
    "print('family size and unique:', train['family_size'].unique())\n",
    "\n",
    "sns.distplot(train['child_num'], kde=False, label='child_num')\n",
    "sns.distplot(train['family_size'], kde=False, label='family_size')\n",
    "plt.legend()"
   ]
  },
  {
   "cell_type": "code",
   "execution_count": 13,
   "metadata": {},
   "outputs": [
    {
     "name": "stdout",
     "output_type": "stream",
     "text": [
      "train [ 2.  1.  0. -1.]\n",
      "test [ 2.  1. -1.  0.]\n"
     ]
    }
   ],
   "source": [
    "# family size - child num\n",
    "print('train', (train['family_size'] - train['child_num']).unique())\n",
    "print('test', (test['family_size'] - test['child_num']).unique())"
   ]
  },
  {
   "cell_type": "code",
   "execution_count": 14,
   "metadata": {},
   "outputs": [
    {
     "data": {
      "text/plain": [
       "index\n",
       "5825     2\n",
       "14900    2\n",
       "16110    2\n",
       "16791    2\n",
       "18879    2\n",
       "21096    2\n",
       "Name: credit, dtype: int32"
      ]
     },
     "execution_count": 14,
     "metadata": {},
     "output_type": "execute_result"
    }
   ],
   "source": [
    "# 음수의 경우 credit이 모두 2\n",
    "train_y[(train['family_size'] - train['child_num']).isin([0,-1])]"
   ]
  },
  {
   "cell_type": "code",
   "execution_count": 15,
   "metadata": {},
   "outputs": [
    {
     "data": {
      "text/html": [
       "<div>\n",
       "<style scoped>\n",
       "    .dataframe tbody tr th:only-of-type {\n",
       "        vertical-align: middle;\n",
       "    }\n",
       "\n",
       "    .dataframe tbody tr th {\n",
       "        vertical-align: top;\n",
       "    }\n",
       "\n",
       "    .dataframe thead th {\n",
       "        text-align: right;\n",
       "    }\n",
       "</style>\n",
       "<table border=\"1\" class=\"dataframe\">\n",
       "  <thead>\n",
       "    <tr style=\"text-align: right;\">\n",
       "      <th></th>\n",
       "      <th>gender</th>\n",
       "      <th>car</th>\n",
       "      <th>reality</th>\n",
       "      <th>child_num</th>\n",
       "      <th>income_total</th>\n",
       "      <th>income_type</th>\n",
       "      <th>edu_type</th>\n",
       "      <th>family_type</th>\n",
       "      <th>house_type</th>\n",
       "      <th>DAYS_BIRTH</th>\n",
       "      <th>DAYS_EMPLOYED</th>\n",
       "      <th>FLAG_MOBIL</th>\n",
       "      <th>work_phone</th>\n",
       "      <th>phone</th>\n",
       "      <th>email</th>\n",
       "      <th>occyp_type</th>\n",
       "      <th>family_size</th>\n",
       "      <th>begin_month</th>\n",
       "    </tr>\n",
       "    <tr>\n",
       "      <th>index</th>\n",
       "      <th></th>\n",
       "      <th></th>\n",
       "      <th></th>\n",
       "      <th></th>\n",
       "      <th></th>\n",
       "      <th></th>\n",
       "      <th></th>\n",
       "      <th></th>\n",
       "      <th></th>\n",
       "      <th></th>\n",
       "      <th></th>\n",
       "      <th></th>\n",
       "      <th></th>\n",
       "      <th></th>\n",
       "      <th></th>\n",
       "      <th></th>\n",
       "      <th></th>\n",
       "      <th></th>\n",
       "    </tr>\n",
       "  </thead>\n",
       "  <tbody>\n",
       "    <tr>\n",
       "      <th>31375</th>\n",
       "      <td>M</td>\n",
       "      <td>Y</td>\n",
       "      <td>N</td>\n",
       "      <td>2</td>\n",
       "      <td>180000.0</td>\n",
       "      <td>Commercial associate</td>\n",
       "      <td>Secondary / secondary special</td>\n",
       "      <td>Married</td>\n",
       "      <td>House / apartment</td>\n",
       "      <td>-14452</td>\n",
       "      <td>-4249</td>\n",
       "      <td>1</td>\n",
       "      <td>0</td>\n",
       "      <td>0</td>\n",
       "      <td>0</td>\n",
       "      <td>Drivers</td>\n",
       "      <td>1.0</td>\n",
       "      <td>-35.0</td>\n",
       "    </tr>\n",
       "    <tr>\n",
       "      <th>34703</th>\n",
       "      <td>M</td>\n",
       "      <td>N</td>\n",
       "      <td>N</td>\n",
       "      <td>1</td>\n",
       "      <td>180000.0</td>\n",
       "      <td>Working</td>\n",
       "      <td>Secondary / secondary special</td>\n",
       "      <td>Married</td>\n",
       "      <td>House / apartment</td>\n",
       "      <td>-10656</td>\n",
       "      <td>-926</td>\n",
       "      <td>1</td>\n",
       "      <td>1</td>\n",
       "      <td>1</td>\n",
       "      <td>0</td>\n",
       "      <td>Laborers</td>\n",
       "      <td>1.0</td>\n",
       "      <td>-18.0</td>\n",
       "    </tr>\n",
       "  </tbody>\n",
       "</table>\n",
       "</div>"
      ],
      "text/plain": [
       "      gender car reality  child_num  income_total           income_type  \\\n",
       "index                                                                     \n",
       "31375      M   Y       N          2      180000.0  Commercial associate   \n",
       "34703      M   N       N          1      180000.0               Working   \n",
       "\n",
       "                            edu_type family_type         house_type  \\\n",
       "index                                                                 \n",
       "31375  Secondary / secondary special     Married  House / apartment   \n",
       "34703  Secondary / secondary special     Married  House / apartment   \n",
       "\n",
       "       DAYS_BIRTH  DAYS_EMPLOYED  FLAG_MOBIL  work_phone  phone  email  \\\n",
       "index                                                                    \n",
       "31375      -14452          -4249           1           0      0      0   \n",
       "34703      -10656           -926           1           1      1      0   \n",
       "\n",
       "      occyp_type  family_size  begin_month  \n",
       "index                                       \n",
       "31375    Drivers          1.0        -35.0  \n",
       "34703   Laborers          1.0        -18.0  "
      ]
     },
     "execution_count": 15,
     "metadata": {},
     "output_type": "execute_result"
    }
   ],
   "source": [
    "test[(test['family_size'] - test['child_num']).isin([0,-1])]\n",
    "\n",
    "# 이 두명은 2일 가능성이 높다... train에서의 사례를 참고하면"
   ]
  },
  {
   "cell_type": "code",
   "execution_count": 16,
   "metadata": {},
   "outputs": [
    {
     "data": {
      "text/plain": [
       "array([[1.        , 0.89053018],\n",
       "       [0.89053018, 1.        ]])"
      ]
     },
     "execution_count": 16,
     "metadata": {},
     "output_type": "execute_result"
    }
   ],
   "source": [
    "# 두 변수간의 상관관계 (피어슨 상관계수)\n",
    "np.corrcoef(train['family_size'], train['child_num'])"
   ]
  },
  {
   "cell_type": "markdown",
   "metadata": {},
   "source": [
    "* 상관계수 높음"
   ]
  },
  {
   "cell_type": "markdown",
   "metadata": {},
   "source": [
    "#### income_total"
   ]
  },
  {
   "cell_type": "code",
   "execution_count": 19,
   "metadata": {},
   "outputs": [
    {
     "data": {
      "text/plain": [
       "<AxesSubplot:>"
      ]
     },
     "execution_count": 19,
     "metadata": {},
     "output_type": "execute_result"
    },
    {
     "data": {
      "image/png": "[encoded data removed]",
      "text/plain": [
       "<Figure size 432x288 with 1 Axes>"
      ]
     },
     "metadata": {
      "needs_background": "light"
     },
     "output_type": "display_data"
    }
   ],
   "source": [
    "train['income_total'].hist(bins=25)\n",
    "# bins: 구간 나누기. "
   ]
  },
  {
   "cell_type": "code",
   "execution_count": 20,
   "metadata": {},
   "outputs": [
    {
     "data": {
      "text/plain": [
       "<AxesSubplot:>"
      ]
     },
     "execution_count": 20,
     "metadata": {},
     "output_type": "execute_result"
    },
    {
     "data": {
      "image/png": "[encoded data removed]",
      "text/plain": [
       "<Figure size 432x288 with 1 Axes>"
      ]
     },
     "metadata": {
      "needs_background": "light"
     },
     "output_type": "display_data"
    }
   ],
   "source": [
    "train['income_total'].apply(np.log).hist(bins=25)"
   ]
  },
  {
   "cell_type": "code",
   "execution_count": 24,
   "metadata": {},
   "outputs": [
    {
     "data": {
      "text/plain": [
       "Text(0.5, 1.0, 'y=2')"
      ]
     },
     "execution_count": 24,
     "metadata": {},
     "output_type": "execute_result"
    },
    {
     "data": {
      "image/png": "[encoded data removed]",
      "text/plain": [
       "<Figure size 864x288 with 3 Axes>"
      ]
     },
     "metadata": {
      "needs_background": "light"
     },
     "output_type": "display_data"
    }
   ],
   "source": [
    "# credit에 따라 소득의 분포가 크게 달라보이지 않음\n",
    "fig, axes = plt.subplots(1,3, figsize=(12,4))\n",
    "train['income_total'].apply(np.log)[train_y==0].hist(bins=25, ax=axes[0])\n",
    "train['income_total'].apply(np.log)[train_y==1].hist(bins=25, ax=axes[1])\n",
    "train['income_total'].apply(np.log)[train_y==2].hist(bins=25, ax=axes[2])\n",
    "\n",
    "axes[0].set_title('y=0')\n",
    "axes[1].set_title('y=1')\n",
    "axes[2].set_title('y=2')"
   ]
  },
  {
   "cell_type": "code",
   "execution_count": 25,
   "metadata": {},
   "outputs": [
    {
     "data": {
      "text/plain": [
       "<matplotlib.legend.Legend at 0x21cd34adcd0>"
      ]
     },
     "execution_count": 25,
     "metadata": {},
     "output_type": "execute_result"
    },
    {
     "data": {
      "image/png": "[encoded data removed]",
      "text/plain": [
       "<Figure size 432x288 with 1 Axes>"
      ]
     },
     "metadata": {
      "needs_background": "light"
     },
     "output_type": "display_data"
    }
   ],
   "source": [
    "sns.distplot(train['income_total'].apply(np.log)[train_y==0], label='y=0', hist=False)\n",
    "sns.distplot(train['income_total'].apply(np.log)[train_y==1], label='y=1', hist=False)\n",
    "sns.distplot(train['income_total'].apply(np.log)[train_y==2], label='y=2', hist=False)\n",
    "plt.legend()"
   ]
  },
  {
   "cell_type": "markdown",
   "metadata": {},
   "source": [
    "#### DAYS_BIRTH"
   ]
  },
  {
   "cell_type": "code",
   "execution_count": 26,
   "metadata": {},
   "outputs": [
    {
     "data": {
      "text/plain": [
       "<AxesSubplot:>"
      ]
     },
     "execution_count": 26,
     "metadata": {},
     "output_type": "execute_result"
    },
    {
     "data": {
      "image/png": "[encoded data removed]",
      "text/plain": [
       "<Figure size 432x288 with 1 Axes>"
      ]
     },
     "metadata": {
      "needs_background": "light"
     },
     "output_type": "display_data"
    }
   ],
   "source": [
    "train['DAYS_BIRTH'].apply(days_to_age).hist(bins=30)"
   ]
  },
  {
   "cell_type": "code",
   "execution_count": 30,
   "metadata": {},
   "outputs": [
    {
     "name": "stdout",
     "output_type": "stream",
     "text": [
      "21.10958904109589\n",
      "68.90958904109588\n"
     ]
    }
   ],
   "source": [
    "# 최소 연령, 최대 연령\n",
    "print(min(train['DAYS_BIRTH'].apply(days_to_age)))\n",
    "print(max(train['DAYS_BIRTH'].apply(days_to_age)))"
   ]
  },
  {
   "cell_type": "code",
   "execution_count": 44,
   "metadata": {},
   "outputs": [
    {
     "name": "stdout",
     "output_type": "stream",
     "text": [
      "age_groups\n",
      "20's    1.496951\n",
      "30's    1.501318\n",
      "40's    1.538132\n",
      "50's    1.529709\n",
      "60's    1.532656\n",
      "Name: credit, dtype: float64\n"
     ]
    },
    {
     "data": {
      "text/plain": [
       "<AxesSubplot:xlabel='age_groups'>"
      ]
     },
     "execution_count": 44,
     "metadata": {},
     "output_type": "execute_result"
    },
    {
     "data": {
      "image/png": "[encoded data removed]",
      "text/plain": [
       "<Figure size 432x288 with 1 Axes>"
      ]
     },
     "metadata": {
      "needs_background": "light"
     },
     "output_type": "display_data"
    }
   ],
   "source": [
    "# 확실히 20~30의 경우 약간 더 낮은 경향이 있음 -> 더 신용도가 좋다. \n",
    "bins = np.arange(2,8)*10\n",
    "labels = [str(s)+'\\'s' for s in bins[:-1]]\n",
    "\n",
    "df = train.copy()\n",
    "df['age_groups'] = pd.cut(train['DAYS_BIRTH'].apply(days_to_age), bins, labels=labels) # 동일 길이로 나누어서 범주 만들기\n",
    "print(df.groupby('age_groups').credit.mean())\n",
    "\n",
    "df.groupby('age_groups').credit.mean().plot.bar()"
   ]
  },
  {
   "cell_type": "markdown",
   "metadata": {},
   "source": [
    "#### DAYS_EMPLOYED"
   ]
  },
  {
   "cell_type": "code",
   "execution_count": 45,
   "metadata": {},
   "outputs": [
    {
     "data": {
      "text/plain": [
       "<AxesSubplot:>"
      ]
     },
     "execution_count": 45,
     "metadata": {},
     "output_type": "execute_result"
    },
    {
     "data": {
      "image/png": "[encoded data removed]",
      "text/plain": [
       "<Figure size 432x288 with 1 Axes>"
      ]
     },
     "metadata": {
      "needs_background": "light"
     },
     "output_type": "display_data"
    }
   ],
   "source": [
    "# 양수는 무직자 (고용되지 않은 상태)\n",
    "train['DAYS_EMPLOYED'].hist()"
   ]
  },
  {
   "cell_type": "code",
   "execution_count": 48,
   "metadata": {},
   "outputs": [
    {
     "name": "stdout",
     "output_type": "stream",
     "text": [
      "not working: 4438(16.774 %)\n"
     ]
    },
    {
     "data": {
      "image/png": "[encoded data removed]",
      "text/plain": [
       "<Figure size 432x288 with 1 Axes>"
      ]
     },
     "metadata": {
      "needs_background": "light"
     },
     "output_type": "display_data"
    }
   ],
   "source": [
    "# 0이 무직자로 변환(로그)\n",
    "df = train['DAYS_EMPLOYED'].map(lambda x: x if x<0 else 0 ).apply(lambda x: np.log1p(x*-1))\n",
    "df.hist(bins=20)\n",
    "print(f'not working: {np.sum(df==0)}({round(np.sum(df==0)/len(df)*100, 3)} %)')"
   ]
  },
  {
   "cell_type": "code",
   "execution_count": 55,
   "metadata": {},
   "outputs": [
    {
     "name": "stdout",
     "output_type": "stream",
     "text": [
      "not working credit mean :  1.5141955835962144\n",
      "working credit mean :  1.520641264362596\n"
     ]
    },
    {
     "data": {
      "image/png": "[encoded data removed]",
      "text/plain": [
       "<Figure size 576x288 with 2 Axes>"
      ]
     },
     "metadata": {
      "needs_background": "light"
     },
     "output_type": "display_data"
    }
   ],
   "source": [
    "print('not working credit mean : ', train_y[df==0].mean())\n",
    "print('working credit mean : ', train_y[df!=0].mean())\n",
    "\n",
    "fig, axes = plt.subplots(1, 2, figsize=(8, 4))\n",
    "train_y[df==0].hist(ax=axes[0])\n",
    "train_y[df!=0].hist(ax=axes[1])\n",
    "\n",
    "axes[0].set_title('not working')\n",
    "axes[1].set_title('working')\n",
    "plt.show()"
   ]
  },
  {
   "cell_type": "markdown",
   "metadata": {},
   "source": [
    "### categorical\n",
    "* income_type의 경우에도 대부분 비슷한 경향\n",
    "* student의 경우 7 경우 밖에 되지 않음 (test는 경우 4)\n",
    " * credit의 경우 1,2만 나타남\n",
    "* income_type을 제외한 변수들은 1~2개 class에 대부분의 값이 몰려 있는 것을 알 수 있음"
   ]
  },
  {
   "cell_type": "markdown",
   "metadata": {},
   "source": [
    "#### income_type (소득 분류)"
   ]
  },
  {
   "cell_type": "code",
   "execution_count": 59,
   "metadata": {},
   "outputs": [
    {
     "name": "stdout",
     "output_type": "stream",
     "text": [
      "unique items: ['Commercial associate' 'Working' 'State servant' 'Pensioner' 'Student']\n",
      "\n",
      "Counter({'Working': 13645, 'Commercial associate': 6202, 'Pensioner': 4449, 'State servant': 2154, 'Student': 7})\n"
     ]
    },
    {
     "data": {
      "image/png": "[encoded data removed]",
      "text/plain": [
       "<Figure size 432x288 with 1 Axes>"
      ]
     },
     "metadata": {
      "needs_background": "light"
     },
     "output_type": "display_data"
    },
    {
     "data": {
      "image/png": "[encoded data removed]",
      "text/plain": [
       "<Figure size 1152x288 with 5 Axes>"
      ]
     },
     "metadata": {
      "needs_background": "light"
     },
     "output_type": "display_data"
    }
   ],
   "source": [
    "categorical_show(train, 'income_type') # 위에서 만든 함수"
   ]
  },
  {
   "cell_type": "code",
   "execution_count": 57,
   "metadata": {},
   "outputs": [
    {
     "data": {
      "text/plain": [
       "index\n",
       "2990     2\n",
       "3602     1\n",
       "6223     2\n",
       "8936     1\n",
       "11646    2\n",
       "21681    1\n",
       "23119    2\n",
       "Name: credit, dtype: int32"
      ]
     },
     "execution_count": 57,
     "metadata": {},
     "output_type": "execute_result"
    }
   ],
   "source": [
    "train_y[train['income_type']=='Student']\n",
    "\n",
    "# 학생의 신용 안좋음. (0이 없어)"
   ]
  },
  {
   "cell_type": "code",
   "execution_count": 58,
   "metadata": {},
   "outputs": [
    {
     "name": "stdout",
     "output_type": "stream",
     "text": [
      "income_type\n",
      "Commercial associate    1.531119\n",
      "Pensioner               1.515397\n",
      "State servant           1.526927\n",
      "Student                 1.571429\n",
      "Working                 1.514474\n",
      "Name: credit, dtype: float64\n"
     ]
    },
    {
     "data": {
      "image/png": "[encoded data removed]",
      "text/plain": [
       "<Figure size 432x288 with 1 Axes>"
      ]
     },
     "metadata": {
      "needs_background": "light"
     },
     "output_type": "display_data"
    }
   ],
   "source": [
    "group_by_mean(train,'income_type') # 위에서 만든 함수"
   ]
  },
  {
   "cell_type": "code",
   "execution_count": 60,
   "metadata": {},
   "outputs": [
    {
     "name": "stdout",
     "output_type": "stream",
     "text": [
      "unique items: ['Higher education' 'Secondary / secondary special' 'Incomplete higher'\n",
      " 'Lower secondary' 'Academic degree']\n",
      "\n",
      "Counter({'Secondary / secondary special': 17995, 'Higher education': 7162, 'Incomplete higher': 1020, 'Lower secondary': 257, 'Academic degree': 23})\n"
     ]
    },
    {
     "data": {
      "image/png": "[encoded data removed]",
      "text/plain": [
       "<Figure size 432x288 with 1 Axes>"
      ]
     },
     "metadata": {
      "needs_background": "light"
     },
     "output_type": "display_data"
    },
    {
     "data": {
      "image/png": "[encoded data removed]",
      "text/plain": [
       "<Figure size 1152x288 with 5 Axes>"
      ]
     },
     "metadata": {
      "needs_background": "light"
     },
     "output_type": "display_data"
    }
   ],
   "source": [
    "# Academic degree의 경우 샘플수가 많이 적다.\n",
    "categorical_show(train, 'edu_type')"
   ]
  },
  {
   "cell_type": "code",
   "execution_count": 61,
   "metadata": {},
   "outputs": [
    {
     "data": {
      "image/png": "[encoded data removed]",
      "text/plain": [
       "<Figure size 432x288 with 1 Axes>"
      ]
     },
     "metadata": {
      "needs_background": "light"
     },
     "output_type": "display_data"
    },
    {
     "name": "stdout",
     "output_type": "stream",
     "text": [
      "edu_type\n",
      "Academic degree                  1.521739\n",
      "Higher education                 1.501676\n",
      "Incomplete higher                1.535294\n",
      "Lower secondary                  1.552529\n",
      "Secondary / secondary special    1.525313\n",
      "Name: credit, dtype: float64\n"
     ]
    }
   ],
   "source": [
    "train.groupby('edu_type').credit.mean().plot.bar()\n",
    "plt.title('mean credit')\n",
    "plt.show()\n",
    "print(train.groupby('edu_type').credit.mean())"
   ]
  },
  {
   "cell_type": "markdown",
   "metadata": {},
   "source": [
    "#### family_type"
   ]
  },
  {
   "cell_type": "code",
   "execution_count": 62,
   "metadata": {},
   "outputs": [
    {
     "name": "stdout",
     "output_type": "stream",
     "text": [
      "unique items: ['Married' 'Civil marriage' 'Separated' 'Single / not married' 'Widow']\n",
      "\n",
      "Counter({'Married': 18196, 'Single / not married': 3496, 'Civil marriage': 2123, 'Separated': 1539, 'Widow': 1103})\n"
     ]
    },
    {
     "data": {
      "image/png": "[encoded data removed]",
      "text/plain": [
       "<Figure size 432x288 with 1 Axes>"
      ]
     },
     "metadata": {
      "needs_background": "light"
     },
     "output_type": "display_data"
    },
    {
     "data": {
      "image/png": "[encoded data removed]",
      "text/plain": [
       "<Figure size 1152x288 with 5 Axes>"
      ]
     },
     "metadata": {
      "needs_background": "light"
     },
     "output_type": "display_data"
    }
   ],
   "source": [
    "# 다수가 기혼\n",
    "categorical_show(train, 'family_type')"
   ]
  },
  {
   "cell_type": "markdown",
   "metadata": {},
   "source": [
    "#### house_type"
   ]
  },
  {
   "cell_type": "code",
   "execution_count": 63,
   "metadata": {},
   "outputs": [
    {
     "name": "stdout",
     "output_type": "stream",
     "text": [
      "unique items: ['Municipal apartment' 'House / apartment' 'With parents'\n",
      " 'Co-op apartment' 'Rented apartment' 'Office apartment']\n",
      "\n",
      "Counter({'House / apartment': 23653, 'With parents': 1257, 'Municipal apartment': 818, 'Rented apartment': 429, 'Office apartment': 190, 'Co-op apartment': 110})\n"
     ]
    },
    {
     "data": {
      "image/png": "[encoded data removed]",
      "text/plain": [
       "<Figure size 432x288 with 1 Axes>"
      ]
     },
     "metadata": {
      "needs_background": "light"
     },
     "output_type": "display_data"
    },
    {
     "data": {
      "image/png": "[encoded data removed]",
      "text/plain": [
       "<Figure size 1152x288 with 6 Axes>"
      ]
     },
     "metadata": {
      "needs_background": "light"
     },
     "output_type": "display_data"
    }
   ],
   "source": [
    "# 대부분이 하우스/아파트\n",
    "# 일부 class는 샘플수가 크게 적어 보임\n",
    "categorical_show(train, 'house_type')"
   ]
  },
  {
   "cell_type": "markdown",
   "metadata": {},
   "source": [
    "#### occyp_type (직업유형)"
   ]
  },
  {
   "cell_type": "code",
   "execution_count": 7,
   "metadata": {},
   "outputs": [
    {
     "data": {
      "image/png": "[encoded data removed]",
      "text/plain": [
       "<Figure size 864x216 with 1 Axes>"
      ]
     },
     "metadata": {
      "needs_background": "light"
     },
     "output_type": "display_data"
    },
    {
     "data": {
      "text/html": [
       "<div>\n",
       "<style scoped>\n",
       "    .dataframe tbody tr th:only-of-type {\n",
       "        vertical-align: middle;\n",
       "    }\n",
       "\n",
       "    .dataframe tbody tr th {\n",
       "        vertical-align: top;\n",
       "    }\n",
       "\n",
       "    .dataframe thead th {\n",
       "        text-align: right;\n",
       "    }\n",
       "</style>\n",
       "<table border=\"1\" class=\"dataframe\">\n",
       "  <thead>\n",
       "    <tr style=\"text-align: right;\">\n",
       "      <th></th>\n",
       "      <th>Accountants</th>\n",
       "      <th>Cleaning staff</th>\n",
       "      <th>Cooking staff</th>\n",
       "      <th>Core staff</th>\n",
       "      <th>Drivers</th>\n",
       "      <th>HR staff</th>\n",
       "      <th>High skill tech staff</th>\n",
       "      <th>IT staff</th>\n",
       "      <th>Laborers</th>\n",
       "      <th>Low-skill Laborers</th>\n",
       "      <th>Managers</th>\n",
       "      <th>Medicine staff</th>\n",
       "      <th>Private service staff</th>\n",
       "      <th>Realty agents</th>\n",
       "      <th>Sales staff</th>\n",
       "      <th>Secretaries</th>\n",
       "      <th>Security staff</th>\n",
       "      <th>Waiters/barmen staff</th>\n",
       "      <th>nan</th>\n",
       "    </tr>\n",
       "    <tr>\n",
       "      <th>index</th>\n",
       "      <th></th>\n",
       "      <th></th>\n",
       "      <th></th>\n",
       "      <th></th>\n",
       "      <th></th>\n",
       "      <th></th>\n",
       "      <th></th>\n",
       "      <th></th>\n",
       "      <th></th>\n",
       "      <th></th>\n",
       "      <th></th>\n",
       "      <th></th>\n",
       "      <th></th>\n",
       "      <th></th>\n",
       "      <th></th>\n",
       "      <th></th>\n",
       "      <th></th>\n",
       "      <th></th>\n",
       "      <th></th>\n",
       "    </tr>\n",
       "  </thead>\n",
       "  <tbody>\n",
       "    <tr>\n",
       "      <th>0</th>\n",
       "      <td>0</td>\n",
       "      <td>0</td>\n",
       "      <td>0</td>\n",
       "      <td>0</td>\n",
       "      <td>0</td>\n",
       "      <td>0</td>\n",
       "      <td>0</td>\n",
       "      <td>0</td>\n",
       "      <td>0</td>\n",
       "      <td>0</td>\n",
       "      <td>0</td>\n",
       "      <td>0</td>\n",
       "      <td>0</td>\n",
       "      <td>0</td>\n",
       "      <td>0</td>\n",
       "      <td>0</td>\n",
       "      <td>0</td>\n",
       "      <td>0</td>\n",
       "      <td>1</td>\n",
       "    </tr>\n",
       "    <tr>\n",
       "      <th>1</th>\n",
       "      <td>0</td>\n",
       "      <td>0</td>\n",
       "      <td>0</td>\n",
       "      <td>0</td>\n",
       "      <td>0</td>\n",
       "      <td>0</td>\n",
       "      <td>0</td>\n",
       "      <td>0</td>\n",
       "      <td>1</td>\n",
       "      <td>0</td>\n",
       "      <td>0</td>\n",
       "      <td>0</td>\n",
       "      <td>0</td>\n",
       "      <td>0</td>\n",
       "      <td>0</td>\n",
       "      <td>0</td>\n",
       "      <td>0</td>\n",
       "      <td>0</td>\n",
       "      <td>0</td>\n",
       "    </tr>\n",
       "    <tr>\n",
       "      <th>2</th>\n",
       "      <td>0</td>\n",
       "      <td>0</td>\n",
       "      <td>0</td>\n",
       "      <td>0</td>\n",
       "      <td>0</td>\n",
       "      <td>0</td>\n",
       "      <td>0</td>\n",
       "      <td>0</td>\n",
       "      <td>0</td>\n",
       "      <td>0</td>\n",
       "      <td>1</td>\n",
       "      <td>0</td>\n",
       "      <td>0</td>\n",
       "      <td>0</td>\n",
       "      <td>0</td>\n",
       "      <td>0</td>\n",
       "      <td>0</td>\n",
       "      <td>0</td>\n",
       "      <td>0</td>\n",
       "    </tr>\n",
       "    <tr>\n",
       "      <th>3</th>\n",
       "      <td>0</td>\n",
       "      <td>0</td>\n",
       "      <td>0</td>\n",
       "      <td>0</td>\n",
       "      <td>0</td>\n",
       "      <td>0</td>\n",
       "      <td>0</td>\n",
       "      <td>0</td>\n",
       "      <td>0</td>\n",
       "      <td>0</td>\n",
       "      <td>0</td>\n",
       "      <td>0</td>\n",
       "      <td>0</td>\n",
       "      <td>0</td>\n",
       "      <td>1</td>\n",
       "      <td>0</td>\n",
       "      <td>0</td>\n",
       "      <td>0</td>\n",
       "      <td>0</td>\n",
       "    </tr>\n",
       "    <tr>\n",
       "      <th>4</th>\n",
       "      <td>0</td>\n",
       "      <td>0</td>\n",
       "      <td>0</td>\n",
       "      <td>0</td>\n",
       "      <td>0</td>\n",
       "      <td>0</td>\n",
       "      <td>0</td>\n",
       "      <td>0</td>\n",
       "      <td>0</td>\n",
       "      <td>0</td>\n",
       "      <td>1</td>\n",
       "      <td>0</td>\n",
       "      <td>0</td>\n",
       "      <td>0</td>\n",
       "      <td>0</td>\n",
       "      <td>0</td>\n",
       "      <td>0</td>\n",
       "      <td>0</td>\n",
       "      <td>0</td>\n",
       "    </tr>\n",
       "    <tr>\n",
       "      <th>...</th>\n",
       "      <td>...</td>\n",
       "      <td>...</td>\n",
       "      <td>...</td>\n",
       "      <td>...</td>\n",
       "      <td>...</td>\n",
       "      <td>...</td>\n",
       "      <td>...</td>\n",
       "      <td>...</td>\n",
       "      <td>...</td>\n",
       "      <td>...</td>\n",
       "      <td>...</td>\n",
       "      <td>...</td>\n",
       "      <td>...</td>\n",
       "      <td>...</td>\n",
       "      <td>...</td>\n",
       "      <td>...</td>\n",
       "      <td>...</td>\n",
       "      <td>...</td>\n",
       "      <td>...</td>\n",
       "    </tr>\n",
       "    <tr>\n",
       "      <th>26452</th>\n",
       "      <td>0</td>\n",
       "      <td>0</td>\n",
       "      <td>0</td>\n",
       "      <td>1</td>\n",
       "      <td>0</td>\n",
       "      <td>0</td>\n",
       "      <td>0</td>\n",
       "      <td>0</td>\n",
       "      <td>0</td>\n",
       "      <td>0</td>\n",
       "      <td>0</td>\n",
       "      <td>0</td>\n",
       "      <td>0</td>\n",
       "      <td>0</td>\n",
       "      <td>0</td>\n",
       "      <td>0</td>\n",
       "      <td>0</td>\n",
       "      <td>0</td>\n",
       "      <td>0</td>\n",
       "    </tr>\n",
       "    <tr>\n",
       "      <th>26453</th>\n",
       "      <td>0</td>\n",
       "      <td>0</td>\n",
       "      <td>0</td>\n",
       "      <td>0</td>\n",
       "      <td>0</td>\n",
       "      <td>0</td>\n",
       "      <td>0</td>\n",
       "      <td>0</td>\n",
       "      <td>0</td>\n",
       "      <td>0</td>\n",
       "      <td>0</td>\n",
       "      <td>0</td>\n",
       "      <td>0</td>\n",
       "      <td>0</td>\n",
       "      <td>0</td>\n",
       "      <td>0</td>\n",
       "      <td>0</td>\n",
       "      <td>0</td>\n",
       "      <td>1</td>\n",
       "    </tr>\n",
       "    <tr>\n",
       "      <th>26454</th>\n",
       "      <td>0</td>\n",
       "      <td>0</td>\n",
       "      <td>0</td>\n",
       "      <td>1</td>\n",
       "      <td>0</td>\n",
       "      <td>0</td>\n",
       "      <td>0</td>\n",
       "      <td>0</td>\n",
       "      <td>0</td>\n",
       "      <td>0</td>\n",
       "      <td>0</td>\n",
       "      <td>0</td>\n",
       "      <td>0</td>\n",
       "      <td>0</td>\n",
       "      <td>0</td>\n",
       "      <td>0</td>\n",
       "      <td>0</td>\n",
       "      <td>0</td>\n",
       "      <td>0</td>\n",
       "    </tr>\n",
       "    <tr>\n",
       "      <th>26455</th>\n",
       "      <td>0</td>\n",
       "      <td>0</td>\n",
       "      <td>0</td>\n",
       "      <td>0</td>\n",
       "      <td>0</td>\n",
       "      <td>0</td>\n",
       "      <td>0</td>\n",
       "      <td>0</td>\n",
       "      <td>1</td>\n",
       "      <td>0</td>\n",
       "      <td>0</td>\n",
       "      <td>0</td>\n",
       "      <td>0</td>\n",
       "      <td>0</td>\n",
       "      <td>0</td>\n",
       "      <td>0</td>\n",
       "      <td>0</td>\n",
       "      <td>0</td>\n",
       "      <td>0</td>\n",
       "    </tr>\n",
       "    <tr>\n",
       "      <th>26456</th>\n",
       "      <td>0</td>\n",
       "      <td>0</td>\n",
       "      <td>0</td>\n",
       "      <td>0</td>\n",
       "      <td>0</td>\n",
       "      <td>0</td>\n",
       "      <td>0</td>\n",
       "      <td>0</td>\n",
       "      <td>0</td>\n",
       "      <td>0</td>\n",
       "      <td>0</td>\n",
       "      <td>0</td>\n",
       "      <td>0</td>\n",
       "      <td>0</td>\n",
       "      <td>0</td>\n",
       "      <td>0</td>\n",
       "      <td>1</td>\n",
       "      <td>0</td>\n",
       "      <td>0</td>\n",
       "    </tr>\n",
       "  </tbody>\n",
       "</table>\n",
       "<p>26457 rows × 19 columns</p>\n",
       "</div>"
      ],
      "text/plain": [
       "       Accountants  Cleaning staff  Cooking staff  Core staff  Drivers  \\\n",
       "index                                                                    \n",
       "0                0               0              0           0        0   \n",
       "1                0               0              0           0        0   \n",
       "2                0               0              0           0        0   \n",
       "3                0               0              0           0        0   \n",
       "4                0               0              0           0        0   \n",
       "...            ...             ...            ...         ...      ...   \n",
       "26452            0               0              0           1        0   \n",
       "26453            0               0              0           0        0   \n",
       "26454            0               0              0           1        0   \n",
       "26455            0               0              0           0        0   \n",
       "26456            0               0              0           0        0   \n",
       "\n",
       "       HR staff  High skill tech staff  IT staff  Laborers  \\\n",
       "index                                                        \n",
       "0             0                      0         0         0   \n",
       "1             0                      0         0         1   \n",
       "2             0                      0         0         0   \n",
       "3             0                      0         0         0   \n",
       "4             0                      0         0         0   \n",
       "...         ...                    ...       ...       ...   \n",
       "26452         0                      0         0         0   \n",
       "26453         0                      0         0         0   \n",
       "26454         0                      0         0         0   \n",
       "26455         0                      0         0         1   \n",
       "26456         0                      0         0         0   \n",
       "\n",
       "       Low-skill Laborers  Managers  Medicine staff  Private service staff  \\\n",
       "index                                                                        \n",
       "0                       0         0               0                      0   \n",
       "1                       0         0               0                      0   \n",
       "2                       0         1               0                      0   \n",
       "3                       0         0               0                      0   \n",
       "4                       0         1               0                      0   \n",
       "...                   ...       ...             ...                    ...   \n",
       "26452                   0         0               0                      0   \n",
       "26453                   0         0               0                      0   \n",
       "26454                   0         0               0                      0   \n",
       "26455                   0         0               0                      0   \n",
       "26456                   0         0               0                      0   \n",
       "\n",
       "       Realty agents  Sales staff  Secretaries  Security staff  \\\n",
       "index                                                            \n",
       "0                  0            0            0               0   \n",
       "1                  0            0            0               0   \n",
       "2                  0            0            0               0   \n",
       "3                  0            1            0               0   \n",
       "4                  0            0            0               0   \n",
       "...              ...          ...          ...             ...   \n",
       "26452              0            0            0               0   \n",
       "26453              0            0            0               0   \n",
       "26454              0            0            0               0   \n",
       "26455              0            0            0               0   \n",
       "26456              0            0            0               1   \n",
       "\n",
       "       Waiters/barmen staff  nan  \n",
       "index                             \n",
       "0                         0    1  \n",
       "1                         0    0  \n",
       "2                         0    0  \n",
       "3                         0    0  \n",
       "4                         0    0  \n",
       "...                     ...  ...  \n",
       "26452                     0    0  \n",
       "26453                     0    1  \n",
       "26454                     0    0  \n",
       "26455                     0    0  \n",
       "26456                     0    0  \n",
       "\n",
       "[26457 rows x 19 columns]"
      ]
     },
     "metadata": {},
     "output_type": "display_data"
    },
    {
     "data": {
      "text/html": [
       "<div>\n",
       "<style scoped>\n",
       "    .dataframe tbody tr th:only-of-type {\n",
       "        vertical-align: middle;\n",
       "    }\n",
       "\n",
       "    .dataframe tbody tr th {\n",
       "        vertical-align: top;\n",
       "    }\n",
       "\n",
       "    .dataframe thead th {\n",
       "        text-align: right;\n",
       "    }\n",
       "</style>\n",
       "<table border=\"1\" class=\"dataframe\">\n",
       "  <thead>\n",
       "    <tr style=\"text-align: right;\">\n",
       "      <th></th>\n",
       "      <th>Accountants</th>\n",
       "      <th>Cleaning staff</th>\n",
       "      <th>Cooking staff</th>\n",
       "      <th>Core staff</th>\n",
       "      <th>Drivers</th>\n",
       "      <th>HR staff</th>\n",
       "      <th>High skill tech staff</th>\n",
       "      <th>IT staff</th>\n",
       "      <th>Laborers</th>\n",
       "      <th>Low-skill Laborers</th>\n",
       "      <th>Managers</th>\n",
       "      <th>Medicine staff</th>\n",
       "      <th>Private service staff</th>\n",
       "      <th>Realty agents</th>\n",
       "      <th>Sales staff</th>\n",
       "      <th>Secretaries</th>\n",
       "      <th>Security staff</th>\n",
       "      <th>Waiters/barmen staff</th>\n",
       "      <th>nan</th>\n",
       "    </tr>\n",
       "  </thead>\n",
       "  <tbody>\n",
       "    <tr>\n",
       "      <th>count</th>\n",
       "      <td>26457.000000</td>\n",
       "      <td>26457.000000</td>\n",
       "      <td>26457.000000</td>\n",
       "      <td>26457.000000</td>\n",
       "      <td>26457.000000</td>\n",
       "      <td>26457.000000</td>\n",
       "      <td>26457.000000</td>\n",
       "      <td>26457.000000</td>\n",
       "      <td>26457.000000</td>\n",
       "      <td>26457.000000</td>\n",
       "      <td>26457.000000</td>\n",
       "      <td>26457.000000</td>\n",
       "      <td>26457.000000</td>\n",
       "      <td>26457.000000</td>\n",
       "      <td>26457.000000</td>\n",
       "      <td>26457.000000</td>\n",
       "      <td>26457.000000</td>\n",
       "      <td>26457.000000</td>\n",
       "      <td>26457.000000</td>\n",
       "    </tr>\n",
       "    <tr>\n",
       "      <th>mean</th>\n",
       "      <td>0.034093</td>\n",
       "      <td>0.015232</td>\n",
       "      <td>0.017273</td>\n",
       "      <td>0.100011</td>\n",
       "      <td>0.059531</td>\n",
       "      <td>0.002343</td>\n",
       "      <td>0.039309</td>\n",
       "      <td>0.001550</td>\n",
       "      <td>0.170541</td>\n",
       "      <td>0.004800</td>\n",
       "      <td>0.081906</td>\n",
       "      <td>0.032657</td>\n",
       "      <td>0.009185</td>\n",
       "      <td>0.002381</td>\n",
       "      <td>0.095967</td>\n",
       "      <td>0.003666</td>\n",
       "      <td>0.016026</td>\n",
       "      <td>0.004687</td>\n",
       "      <td>0.308841</td>\n",
       "    </tr>\n",
       "    <tr>\n",
       "      <th>std</th>\n",
       "      <td>0.181472</td>\n",
       "      <td>0.122478</td>\n",
       "      <td>0.130290</td>\n",
       "      <td>0.300021</td>\n",
       "      <td>0.236620</td>\n",
       "      <td>0.048353</td>\n",
       "      <td>0.194333</td>\n",
       "      <td>0.039336</td>\n",
       "      <td>0.376114</td>\n",
       "      <td>0.069119</td>\n",
       "      <td>0.274227</td>\n",
       "      <td>0.177740</td>\n",
       "      <td>0.095398</td>\n",
       "      <td>0.048741</td>\n",
       "      <td>0.294552</td>\n",
       "      <td>0.060440</td>\n",
       "      <td>0.125578</td>\n",
       "      <td>0.068301</td>\n",
       "      <td>0.462024</td>\n",
       "    </tr>\n",
       "    <tr>\n",
       "      <th>min</th>\n",
       "      <td>0.000000</td>\n",
       "      <td>0.000000</td>\n",
       "      <td>0.000000</td>\n",
       "      <td>0.000000</td>\n",
       "      <td>0.000000</td>\n",
       "      <td>0.000000</td>\n",
       "      <td>0.000000</td>\n",
       "      <td>0.000000</td>\n",
       "      <td>0.000000</td>\n",
       "      <td>0.000000</td>\n",
       "      <td>0.000000</td>\n",
       "      <td>0.000000</td>\n",
       "      <td>0.000000</td>\n",
       "      <td>0.000000</td>\n",
       "      <td>0.000000</td>\n",
       "      <td>0.000000</td>\n",
       "      <td>0.000000</td>\n",
       "      <td>0.000000</td>\n",
       "      <td>0.000000</td>\n",
       "    </tr>\n",
       "    <tr>\n",
       "      <th>25%</th>\n",
       "      <td>0.000000</td>\n",
       "      <td>0.000000</td>\n",
       "      <td>0.000000</td>\n",
       "      <td>0.000000</td>\n",
       "      <td>0.000000</td>\n",
       "      <td>0.000000</td>\n",
       "      <td>0.000000</td>\n",
       "      <td>0.000000</td>\n",
       "      <td>0.000000</td>\n",
       "      <td>0.000000</td>\n",
       "      <td>0.000000</td>\n",
       "      <td>0.000000</td>\n",
       "      <td>0.000000</td>\n",
       "      <td>0.000000</td>\n",
       "      <td>0.000000</td>\n",
       "      <td>0.000000</td>\n",
       "      <td>0.000000</td>\n",
       "      <td>0.000000</td>\n",
       "      <td>0.000000</td>\n",
       "    </tr>\n",
       "    <tr>\n",
       "      <th>50%</th>\n",
       "      <td>0.000000</td>\n",
       "      <td>0.000000</td>\n",
       "      <td>0.000000</td>\n",
       "      <td>0.000000</td>\n",
       "      <td>0.000000</td>\n",
       "      <td>0.000000</td>\n",
       "      <td>0.000000</td>\n",
       "      <td>0.000000</td>\n",
       "      <td>0.000000</td>\n",
       "      <td>0.000000</td>\n",
       "      <td>0.000000</td>\n",
       "      <td>0.000000</td>\n",
       "      <td>0.000000</td>\n",
       "      <td>0.000000</td>\n",
       "      <td>0.000000</td>\n",
       "      <td>0.000000</td>\n",
       "      <td>0.000000</td>\n",
       "      <td>0.000000</td>\n",
       "      <td>0.000000</td>\n",
       "    </tr>\n",
       "    <tr>\n",
       "      <th>75%</th>\n",
       "      <td>0.000000</td>\n",
       "      <td>0.000000</td>\n",
       "      <td>0.000000</td>\n",
       "      <td>0.000000</td>\n",
       "      <td>0.000000</td>\n",
       "      <td>0.000000</td>\n",
       "      <td>0.000000</td>\n",
       "      <td>0.000000</td>\n",
       "      <td>0.000000</td>\n",
       "      <td>0.000000</td>\n",
       "      <td>0.000000</td>\n",
       "      <td>0.000000</td>\n",
       "      <td>0.000000</td>\n",
       "      <td>0.000000</td>\n",
       "      <td>0.000000</td>\n",
       "      <td>0.000000</td>\n",
       "      <td>0.000000</td>\n",
       "      <td>0.000000</td>\n",
       "      <td>1.000000</td>\n",
       "    </tr>\n",
       "    <tr>\n",
       "      <th>max</th>\n",
       "      <td>1.000000</td>\n",
       "      <td>1.000000</td>\n",
       "      <td>1.000000</td>\n",
       "      <td>1.000000</td>\n",
       "      <td>1.000000</td>\n",
       "      <td>1.000000</td>\n",
       "      <td>1.000000</td>\n",
       "      <td>1.000000</td>\n",
       "      <td>1.000000</td>\n",
       "      <td>1.000000</td>\n",
       "      <td>1.000000</td>\n",
       "      <td>1.000000</td>\n",
       "      <td>1.000000</td>\n",
       "      <td>1.000000</td>\n",
       "      <td>1.000000</td>\n",
       "      <td>1.000000</td>\n",
       "      <td>1.000000</td>\n",
       "      <td>1.000000</td>\n",
       "      <td>1.000000</td>\n",
       "    </tr>\n",
       "  </tbody>\n",
       "</table>\n",
       "</div>"
      ],
      "text/plain": [
       "        Accountants  Cleaning staff  Cooking staff    Core staff  \\\n",
       "count  26457.000000    26457.000000   26457.000000  26457.000000   \n",
       "mean       0.034093        0.015232       0.017273      0.100011   \n",
       "std        0.181472        0.122478       0.130290      0.300021   \n",
       "min        0.000000        0.000000       0.000000      0.000000   \n",
       "25%        0.000000        0.000000       0.000000      0.000000   \n",
       "50%        0.000000        0.000000       0.000000      0.000000   \n",
       "75%        0.000000        0.000000       0.000000      0.000000   \n",
       "max        1.000000        1.000000       1.000000      1.000000   \n",
       "\n",
       "            Drivers      HR staff  High skill tech staff      IT staff  \\\n",
       "count  26457.000000  26457.000000           26457.000000  26457.000000   \n",
       "mean       0.059531      0.002343               0.039309      0.001550   \n",
       "std        0.236620      0.048353               0.194333      0.039336   \n",
       "min        0.000000      0.000000               0.000000      0.000000   \n",
       "25%        0.000000      0.000000               0.000000      0.000000   \n",
       "50%        0.000000      0.000000               0.000000      0.000000   \n",
       "75%        0.000000      0.000000               0.000000      0.000000   \n",
       "max        1.000000      1.000000               1.000000      1.000000   \n",
       "\n",
       "           Laborers  Low-skill Laborers      Managers  Medicine staff  \\\n",
       "count  26457.000000        26457.000000  26457.000000    26457.000000   \n",
       "mean       0.170541            0.004800      0.081906        0.032657   \n",
       "std        0.376114            0.069119      0.274227        0.177740   \n",
       "min        0.000000            0.000000      0.000000        0.000000   \n",
       "25%        0.000000            0.000000      0.000000        0.000000   \n",
       "50%        0.000000            0.000000      0.000000        0.000000   \n",
       "75%        0.000000            0.000000      0.000000        0.000000   \n",
       "max        1.000000            1.000000      1.000000        1.000000   \n",
       "\n",
       "       Private service staff  Realty agents   Sales staff   Secretaries  \\\n",
       "count           26457.000000   26457.000000  26457.000000  26457.000000   \n",
       "mean                0.009185       0.002381      0.095967      0.003666   \n",
       "std                 0.095398       0.048741      0.294552      0.060440   \n",
       "min                 0.000000       0.000000      0.000000      0.000000   \n",
       "25%                 0.000000       0.000000      0.000000      0.000000   \n",
       "50%                 0.000000       0.000000      0.000000      0.000000   \n",
       "75%                 0.000000       0.000000      0.000000      0.000000   \n",
       "max                 1.000000       1.000000      1.000000      1.000000   \n",
       "\n",
       "       Security staff  Waiters/barmen staff           nan  \n",
       "count    26457.000000          26457.000000  26457.000000  \n",
       "mean         0.016026              0.004687      0.308841  \n",
       "std          0.125578              0.068301      0.462024  \n",
       "min          0.000000              0.000000      0.000000  \n",
       "25%          0.000000              0.000000      0.000000  \n",
       "50%          0.000000              0.000000      0.000000  \n",
       "75%          0.000000              0.000000      1.000000  \n",
       "max          1.000000              1.000000      1.000000  "
      ]
     },
     "execution_count": 7,
     "metadata": {},
     "output_type": "execute_result"
    }
   ],
   "source": [
    "# 직업을 기입하지 않은 경우가 30%\n",
    "\n",
    "plt.figure(figsize=(12, 3))\n",
    "counter = Counter(train.replace(np.nan, 'nan')['occyp_type'])\n",
    "plt.bar(counter.keys(), counter.values())\n",
    "plt.xticks(rotation=30)\n",
    "plt.show()\n",
    "\n",
    "display(pd.get_dummies(train.replace(np.nan, 'nan')['occyp_type']))\n",
    "pd.get_dummies(train.replace(np.nan, 'nan')['occyp_type']).describe()"
   ]
  },
  {
   "cell_type": "code",
   "execution_count": 65,
   "metadata": {},
   "outputs": [
    {
     "data": {
      "image/png": "[encoded data removed]",
      "text/plain": [
       "<Figure size 864x216 with 1 Axes>"
      ]
     },
     "metadata": {
      "needs_background": "light"
     },
     "output_type": "display_data"
    },
    {
     "name": "stdout",
     "output_type": "stream",
     "text": [
      "occyp_type\n",
      "Accountants              1.486696\n",
      "Cleaning staff           1.570720\n",
      "Cooking staff            1.505470\n",
      "Core staff               1.502646\n",
      "Drivers                  1.535238\n",
      "HR staff                 1.709677\n",
      "High skill tech staff    1.503846\n",
      "IT staff                 1.365854\n",
      "Laborers                 1.500443\n",
      "Low-skill Laborers       1.488189\n",
      "Managers                 1.530226\n",
      "Medicine staff           1.586806\n",
      "Private service staff    1.485597\n",
      "Realty agents            1.539683\n",
      "Sales staff              1.513194\n",
      "Secretaries              1.494845\n",
      "Security staff           1.608491\n",
      "Waiters/barmen staff     1.435484\n",
      "Name: credit, dtype: float64\n"
     ]
    }
   ],
   "source": [
    "plt.figure(figsize=(12, 3))\n",
    "train.groupby('occyp_type').credit.mean().plot.bar()\n",
    "plt.title('mean credit by occyp')\n",
    "plt.show()\n",
    "\n",
    "print(train.groupby('occyp_type').credit.mean())"
   ]
  }
 ],
 "metadata": {
  "kernelspec": {
   "display_name": "pydatavenv",
   "language": "python",
   "name": "pydatavenv"
  },
  "language_info": {
   "codemirror_mode": {
    "name": "ipython",
    "version": 3
   },
   "file_extension": ".py",
   "mimetype": "text/x-python",
   "name": "python",
   "nbconvert_exporter": "python",
   "pygments_lexer": "ipython3",
   "version": "3.8.8"
  }
 },
 "nbformat": 4,
 "nbformat_minor": 4
}
