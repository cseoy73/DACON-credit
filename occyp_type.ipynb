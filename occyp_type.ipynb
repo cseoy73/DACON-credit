{
 "cells": [
  {
   "cell_type": "code",
   "execution_count": null,
   "metadata": {},
   "outputs": [],
   "source": [
    "import warnings\n",
    "warnings.filterwarnings('ignore')\n",
    "import glob\n",
    "import pandas as pd\n",
    "import numpy as np\n",
    "from lightgbm import LGBMClassifier\n",
    "from sklearn.model_selection import StratifiedKFold\n",
    "from sklearn.preprocessing import OneHotEncoder\n",
    "from sklearn import preprocessing\n",
    "import random\n",
    "import seaborn as sns\n",
    "import matplotlib.pyplot as plt\n",
    "plt.style.use('seaborn')"
   ]
  },
  {
   "cell_type": "code",
   "execution_count": null,
   "metadata": {},
   "outputs": [],
   "source": [
    "# 데이터 불러오기\n",
    "train = pd.read_csv('./train.csv')\n",
    "train = train.drop(['index'], axis=1)\n",
    "\n",
    "test = pd.read_csv('./test.csv')\n",
    "test = test.drop(['index'], axis=1)\n",
    "\n",
    "submit = pd.read_csv('./sample_submission.csv')"
   ]
  },
  {
   "cell_type": "code",
   "execution_count": null,
   "metadata": {},
   "outputs": [],
   "source": [
    "# 결측치 확인\n",
    "print('훈련데이터 결측치 합 \\n', train.isnull().sum())\n",
    "print('테스트데이터 결측치 합 \\n', test.isnull().sum())"
   ]
  },
  {
   "cell_type": "code",
   "execution_count": null,
   "metadata": {},
   "outputs": [],
   "source": [
    "def days_to_age(x):\n",
    "    return (x*-1)/365\n",
    "\n",
    "# train\n",
    "train['DAYS_BIRTH'] = train['DAYS_BIRTH'].apply(days_to_age)\n",
    "train['DAYS_BIRTH'] = train['DAYS_BIRTH'].astype({'DAYS_BIRTH':'int'})\n",
    "display(train['DAYS_BIRTH'])\n",
    "\n",
    "# test\n",
    "test['DAYS_BIRTH'] = test['DAYS_BIRTH'].apply(days_to_age)\n",
    "test['DAYS_BIRTH'] = test['DAYS_BIRTH'].astype({'DAYS_BIRTH':'int'})\n",
    "display(test['DAYS_BIRTH'])"
   ]
  },
  {
   "cell_type": "code",
   "execution_count": null,
   "metadata": {},
   "outputs": [],
   "source": [
    "def days_to_year(x):\n",
    "    if x==365243 :\n",
    "        return 0\n",
    "    return (x*-1)/365+1\n",
    "\n",
    "# train\n",
    "train['DAYS_EMPLOYED'] = train['DAYS_EMPLOYED'].apply(days_to_year)\n",
    "train['DAYS_EMPLOYED'] = train['DAYS_EMPLOYED'].astype({'DAYS_EMPLOYED':'int'})\n",
    "display(train['DAYS_EMPLOYED'])\n",
    "\n",
    "# test\n",
    "test['DAYS_EMPLOYED'] = test['DAYS_EMPLOYED'].apply(days_to_year)\n",
    "test['DAYS_EMPLOYED'] = test['DAYS_EMPLOYED'].astype({'DAYS_EMPLOYED':'int'})\n",
    "display(test['DAYS_EMPLOYED'])"
   ]
  },
  {
   "cell_type": "code",
   "execution_count": null,
   "metadata": {},
   "outputs": [],
   "source": [
    "def minus(x):\n",
    "    return x * -1\n",
    "\n",
    "# train\n",
    "train['begin_month'] = train['begin_month'].apply(minus)\n",
    "display(train['begin_month'])\n",
    "\n",
    "# test\n",
    "test['begin_month'] = test['begin_month'].apply(minus)\n",
    "display(test['begin_month'])"
   ]
  },
  {
   "cell_type": "code",
   "execution_count": null,
   "metadata": {},
   "outputs": [],
   "source": [
    "# income_type이 pension이면서 occyp_type이 Null인 \n",
    "#train.drop('credit', axis = 1, inplace = True)\n",
    "#test.drop('credit', axis = 1, inplace = True)\n",
    "\n",
    "cond = (train['income_type'] == 'Pensioner')\n",
    "train['occyp_type'] = train['occyp_type'].fillna(cond.map({True:'Retired', False: 'NaN'}))\n",
    "train[(train['occyp_type'] == 'Retired')].count()"
   ]
  },
  {
   "cell_type": "code",
   "execution_count": null,
   "metadata": {},
   "outputs": [],
   "source": [
    "# occyp_type이 Null인 것과 아닌것을 분류하는 작업\n",
    "\n",
    "test = train[train['occyp_type']=='NaN']\n",
    "train = train.drop(index = test.index)\n",
    "\n",
    "test = test.drop('credit', axis = 1)\n",
    "test = test.drop('occyp_type', axis = 1)\n",
    "train = train.drop('credit', axis = 1)\n",
    "\n",
    "train = train.reset_index()\n",
    "test = test.reset_index()\n",
    "display(train)\n",
    "display(test)"
   ]
  },
  {
   "cell_type": "code",
   "execution_count": null,
   "metadata": {},
   "outputs": [],
   "source": [
    "# object 객체를 가지는 변수(열) 확인\n",
    "object_col = []\n",
    "for col in train.columns:\n",
    "    if train[col].dtype == 'object' and col!='occyp_type': # 변수가 18개인 occyp_type만 제외\n",
    "        object_col.append(col)\n",
    "display(object_col)"
   ]
  },
  {
   "cell_type": "code",
   "execution_count": null,
   "metadata": {},
   "outputs": [],
   "source": [
    "# occyp_type을 제외한 모든 object객체 열을 onehot encoding\n",
    "\n",
    "enc = OneHotEncoder()\n",
    "enc.fit(train.loc[:,object_col])\n",
    "\n",
    "train_onehot_df = pd.DataFrame(enc.transform(train.loc[:,object_col]).toarray(), \n",
    "             columns=enc.get_feature_names(object_col))\n",
    "train.drop(object_col, axis=1, inplace=True)\n",
    "train = pd.concat([train, train_onehot_df], axis=1)"
   ]
  },
  {
   "cell_type": "code",
   "execution_count": null,
   "metadata": {},
   "outputs": [],
   "source": [
    "# occyp_type을 label encoding\n",
    "\n",
    "label_encoder=preprocessing.LabelEncoder()\n",
    "train['occyp_type']=label_encoder.fit_transform(train['occyp_type'])"
   ]
  },
  {
   "cell_type": "code",
   "execution_count": null,
   "metadata": {},
   "outputs": [],
   "source": [
    "############################ test ###############################"
   ]
  },
  {
   "cell_type": "code",
   "execution_count": null,
   "metadata": {},
   "outputs": [],
   "source": [
    "# occyp_type을 제외한 모든 object객체 열을  onehot encoding\n",
    "enc = OneHotEncoder()\n",
    "enc.fit(test.loc[:,object_col])\n",
    "\n",
    "test_onehot_df = pd.DataFrame(enc.transform(test.loc[:,object_col]).toarray(), \n",
    "             columns=enc.get_feature_names(object_col))\n",
    "test.drop(object_col, axis=1, inplace=True)\n",
    "test = pd.concat([test, test_onehot_df], axis=1)"
   ]
  },
  {
   "cell_type": "code",
   "execution_count": null,
   "metadata": {},
   "outputs": [],
   "source": [
    "display(train)\n",
    "display(test)"
   ]
  },
  {
   "cell_type": "code",
   "execution_count": null,
   "metadata": {},
   "outputs": [],
   "source": [
    "from sklearn.preprocessing import MinMaxScaler\n",
    "\n",
    "MinMaxScaler_data = train.copy()\n",
    "\n",
    "minMaxScaler = MinMaxScaler()\n",
    "print(minMaxScaler.fit(MinMaxScaler_data))\n",
    "train_data_minMaxScaled = minMaxScaler.transform(MinMaxScaler_data)\n",
    "\n",
    "# MinMaxScaler_data - MinMaxScaler적용한 데이터 프레임\n",
    "index = 0\n",
    "for col in MinMaxScaler_data.columns :\n",
    "    if col != 'occyp_type':\n",
    "        MinMaxScaler_data[col] = train_data_minMaxScaled[:,index]\n",
    "        index = index + 1\n",
    "display(MinMaxScaler_data)"
   ]
  },
  {
   "cell_type": "code",
   "execution_count": null,
   "metadata": {},
   "outputs": [],
   "source": [
    "from sklearn.model_selection import train_test_split\n",
    "\n",
    "# 설명변수 X, 예측변수 y 할당\n",
    "X = train[train.columns.difference(['occyp_type'])]\n",
    "y = train['occyp_type']\n",
    "print(X)\n",
    "print(y)\n",
    "# 설명변수 정규화\n",
    "from sklearn import preprocessing\n",
    "X = preprocessing.MinMaxScaler().fit(X).transform(X)\n",
    "\n",
    "x_train, x_valid, y_train, y_valid = train_test_split(X, y, test_size=0.3, random_state=10)"
   ]
  },
  {
   "cell_type": "code",
   "execution_count": null,
   "metadata": {},
   "outputs": [],
   "source": [
    "from sklearn import svm\n",
    "\n",
    "# 모형 객체 생성 (kernel='rbf' 적용)\n",
    "svm_model = svm.SVC(kernel='rbf')\n",
    "\n",
    "# train data를 가지고 모형 학습\n",
    "svm_model.fit(x_train, y_train)   \n",
    "\n",
    "# test data를 가지고 y_hat을 예측 (분류) \n",
    "y_hat = svm_model.predict(x_valid)"
   ]
  },
  {
   "cell_type": "code",
   "execution_count": null,
   "metadata": {},
   "outputs": [],
   "source": [
    "#print(y_hat[0:10])\n",
    "#print(y_valid[0:10])\n",
    "\n",
    "\n",
    "\n",
    "count = 0\n",
    "for i in range(len(y_hat)):\n",
    "    if y_hat[i] == list(y_valid)[i]:\n",
    "        count += 1\n",
    "        \n",
    "print(count)\n",
    "len(y_hat)\n",
    "\n",
    "round(count/len(y_hat),2) "
   ]
  },
  {
   "cell_type": "code",
   "execution_count": null,
   "metadata": {},
   "outputs": [],
   "source": []
  },
  {
   "cell_type": "code",
   "execution_count": null,
   "metadata": {},
   "outputs": [],
   "source": [
    "# 모형 성능 평가 - Confusion Matrix 계산\n",
    "from sklearn import metrics \n",
    "svm_matrix = metrics.confusion_matrix(y_valid, y_hat)  \n",
    "print(svm_matrix)\n",
    "print('\\n')\n",
    "\n",
    "# 모형 성능 평가 - 평가지표 계산\n",
    "svm_report = metrics.classification_report(y_valid, y_hat)            \n",
    "print(svm_report)"
   ]
  },
  {
   "cell_type": "code",
   "execution_count": null,
   "metadata": {},
   "outputs": [],
   "source": []
  }
 ],
 "metadata": {
  "kernelspec": {
   "display_name": "pydatavenv",
   "language": "python",
   "name": "pydatavenv"
  },
  "language_info": {
   "codemirror_mode": {
    "name": "ipython",
    "version": 3
   },
   "file_extension": ".py",
   "mimetype": "text/x-python",
   "name": "python",
   "nbconvert_exporter": "python",
   "pygments_lexer": "ipython3",
   "version": "3.8.8"
  }
 },
 "nbformat": 4,
 "nbformat_minor": 4
}
